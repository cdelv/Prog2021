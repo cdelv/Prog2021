{
  "nbformat": 4,
  "nbformat_minor": 0,
  "metadata": {
    "colab": {
      "name": "Recursion.ipynb",
      "provenance": []
    },
    "kernelspec": {
      "name": "python3",
      "display_name": "Python 3"
    },
    "language_info": {
      "name": "python"
    }
  },
  "cells": [
    {
      "cell_type": "code",
      "metadata": {
        "id": "8NK0T0IEa_2I"
      },
      "source": [
        "def fr(n):\n",
        "  print(n, end=' . ')\n",
        "  if n>0:\n",
        "    fr(n-1)"
      ],
      "execution_count": null,
      "outputs": []
    },
    {
      "cell_type": "code",
      "metadata": {
        "colab": {
          "base_uri": "https://localhost:8080/"
        },
        "id": "Bv2r-cx9bVn-",
        "outputId": "62249011-a75f-4332-a2ea-8c4ed57b3ded"
      },
      "source": [
        "fr(10)"
      ],
      "execution_count": null,
      "outputs": [
        {
          "output_type": "stream",
          "name": "stdout",
          "text": [
            "10 . 9 . 8 . 7 . 6 . 5 . 4 . 3 . 2 . 1 . 0 . "
          ]
        }
      ]
    },
    {
      "cell_type": "code",
      "metadata": {
        "id": "GOeQw8D6cSAJ"
      },
      "source": [
        "def sumarec(n):\n",
        "  if n==1:\n",
        "    return 1\n",
        "  else:\n",
        "    return n+sumarec(n-1)"
      ],
      "execution_count": null,
      "outputs": []
    },
    {
      "cell_type": "code",
      "metadata": {
        "colab": {
          "base_uri": "https://localhost:8080/"
        },
        "id": "G-pxlNapcfHF",
        "outputId": "cd98b7ee-51ad-4188-e92a-711dc362afe5"
      },
      "source": [
        "sumarec(3)"
      ],
      "execution_count": null,
      "outputs": [
        {
          "output_type": "execute_result",
          "data": {
            "text/plain": [
              "6"
            ]
          },
          "metadata": {},
          "execution_count": 4
        }
      ]
    },
    {
      "cell_type": "code",
      "metadata": {
        "colab": {
          "base_uri": "https://localhost:8080/"
        },
        "id": "OG58bjW4cquP",
        "outputId": "47ce3a1a-ff79-4c87-e152-847bf5fe382a"
      },
      "source": [
        "def sumarec(n):\n",
        "  print(n, end='; ')\n",
        "  if n==1:\n",
        "    print('n==1 is TRUE')\n",
        "    return 1\n",
        "  else:\n",
        "    aux1=sumarec(n-1)\n",
        "    aux2=n+aux1\n",
        "    print(aux1,'+',n,'=',aux2, end='::')\n",
        "    return aux2\n",
        "sumarec(4)"
      ],
      "execution_count": null,
      "outputs": [
        {
          "output_type": "stream",
          "name": "stdout",
          "text": [
            "4; 3; 2; 1; n==1 is TRUE\n",
            "1 + 2 = 3::3 + 3 = 6::6 + 4 = 10::"
          ]
        },
        {
          "output_type": "execute_result",
          "data": {
            "text/plain": [
              "10"
            ]
          },
          "metadata": {},
          "execution_count": 5
        }
      ]
    },
    {
      "cell_type": "code",
      "metadata": {
        "id": "6DtWMSCIenz5",
        "colab": {
          "base_uri": "https://localhost:8080/"
        },
        "outputId": "99c3a6af-b5d7-4c49-bf70-377a96b49f30"
      },
      "source": [
        "def factorial(n):\n",
        "  if n==0:\n",
        "    return 1\n",
        "  else:\n",
        "    aux1=factorial(n-1)\n",
        "    f=n*aux1\n",
        "    return f\n",
        "\n",
        "factorial(4)"
      ],
      "execution_count": null,
      "outputs": [
        {
          "output_type": "execute_result",
          "data": {
            "text/plain": [
              "24"
            ]
          },
          "metadata": {},
          "execution_count": 6
        }
      ]
    },
    {
      "cell_type": "code",
      "metadata": {
        "colab": {
          "base_uri": "https://localhost:8080/"
        },
        "id": "OoMSfYkAevzW",
        "outputId": "0415219b-1642-4b6f-932a-3cbfb408de45"
      },
      "source": [
        "factorial(4)"
      ],
      "execution_count": null,
      "outputs": [
        {
          "output_type": "execute_result",
          "data": {
            "text/plain": [
              "24"
            ]
          },
          "metadata": {},
          "execution_count": 13
        }
      ]
    },
    {
      "cell_type": "code",
      "metadata": {
        "id": "yEv30DStkM_0"
      },
      "source": [
        "def mergesort(lst):\n",
        "  if len(lst)==1:\n",
        "    return lst\n",
        "  \n",
        "  sublist1=lst[0:len(lst)//2]\n",
        "  sublist2=lst[len(lst)//2: len(lst)]\n",
        "  sorted_sublist1=mergesort(sublist1)\n",
        "  sorted_sublist2=mergesort(sublist2)\n",
        "\n",
        "  sorted=merge(sorted_sublist1,sorted_sublist2)\n",
        "  return sorted\n",
        "\n",
        "\n",
        "def merge(lst1,lst2):\n",
        "  merged_list=[]\n",
        "  i=0\n",
        "  k=0\n",
        "\n",
        "  while i!=len(lst1) and k!=len(lst2):\n",
        "    if lst1[i]<lst2[k]:\n",
        "      merged_list.append(lst1[i])\n",
        "      i=i+1\n",
        "    else:\n",
        "      merged_list.append(lst2[k])\n",
        "      k=k+1\n",
        "  if i<len(lst1):\n",
        "    for loc in range(i,len(lst1)):\n",
        "      merged_list.append(lst1[loc])\n",
        "  elif k<len(lst2):\n",
        "    for loc in range(k,len(lst2)):\n",
        "      merged_list.append(lst2[loc])\n",
        "  return merged_list"
      ],
      "execution_count": null,
      "outputs": []
    },
    {
      "cell_type": "code",
      "metadata": {
        "colab": {
          "base_uri": "https://localhost:8080/"
        },
        "id": "KvcReyI0h2di",
        "outputId": "27056bc2-1822-4bd1-e53b-9d4ccca12815"
      },
      "source": [
        "testlist=[12,9,4,15,18,3]\n",
        "mergesort(testlist)"
      ],
      "execution_count": null,
      "outputs": [
        {
          "output_type": "execute_result",
          "data": {
            "text/plain": [
              "[3, 4, 9, 12, 15, 18]"
            ]
          },
          "metadata": {},
          "execution_count": 15
        }
      ]
    },
    {
      "cell_type": "code",
      "metadata": {
        "id": "_QXvW0wtgQYs"
      },
      "source": [
        "def mergesortprint(lst):\n",
        "  if len(lst)==1:\n",
        "    return lst\n",
        "  \n",
        "  sublist1=lst[0:len(lst)//2]\n",
        "  sublist2=lst[len(lst)//2: len(lst)]\n",
        "  print('Split ',sublist1,':::',sublist2, '::::')\n",
        "  sorted_sublist1=mergesortprint(sublist1)\n",
        "  sorted_sublist2=mergesortprint(sublist2)\n",
        "\n",
        "  sorted=mergeprint(sorted_sublist1,sorted_sublist2)\n",
        "  return sorted\n",
        "\n",
        "\n",
        "def mergeprint(lst1,lst2):\n",
        "  merged_list=[]\n",
        "  print('Merging ',lst1,'...',lst2)\n",
        "  i=0\n",
        "  k=0\n",
        "\n",
        "  while i!=len(lst1) and k!=len(lst2):\n",
        "    if lst1[i]<lst2[k]:\n",
        "      merged_list.append(lst1[i])\n",
        "      i=i+1\n",
        "    else:\n",
        "      merged_list.append(lst2[k])\n",
        "      k=k+1\n",
        "  if i<len(lst1):\n",
        "    for loc in range(i,len(lst1)):\n",
        "      merged_list.append(lst1[loc])\n",
        "  elif k<len(lst2):\n",
        "    for loc in range(k,len(lst2)):\n",
        "      merged_list.append(lst2[loc])\n",
        "  print('Merged (',merged_list,')')    \n",
        "  return merged_list"
      ],
      "execution_count": null,
      "outputs": []
    },
    {
      "cell_type": "code",
      "metadata": {
        "colab": {
          "base_uri": "https://localhost:8080/"
        },
        "id": "_RR82CW8kdtN",
        "outputId": "6f444960-41a8-4906-ad91-f85ed0952083"
      },
      "source": [
        "testlist=[12,9,4,15,18,3]\n",
        "mergesortprint(testlist)"
      ],
      "execution_count": null,
      "outputs": [
        {
          "output_type": "stream",
          "name": "stdout",
          "text": [
            "Split  [12, 9, 4] ::: [15, 18, 3] ::::\n",
            "Split  [12] ::: [9, 4] ::::\n",
            "Split  [9] ::: [4] ::::\n",
            "Merging  [9] ... [4]\n",
            "Merged ( [4, 9] )\n",
            "Merging  [12] ... [4, 9]\n",
            "Merged ( [4, 9, 12] )\n",
            "Split  [15] ::: [18, 3] ::::\n",
            "Split  [18] ::: [3] ::::\n",
            "Merging  [18] ... [3]\n",
            "Merged ( [3, 18] )\n",
            "Merging  [15] ... [3, 18]\n",
            "Merged ( [3, 15, 18] )\n",
            "Merging  [4, 9, 12] ... [3, 15, 18]\n",
            "Merged ( [3, 4, 9, 12, 15, 18] )\n"
          ]
        },
        {
          "output_type": "execute_result",
          "data": {
            "text/plain": [
              "[3, 4, 9, 12, 15, 18]"
            ]
          },
          "metadata": {},
          "execution_count": 17
        }
      ]
    }
  ]
}