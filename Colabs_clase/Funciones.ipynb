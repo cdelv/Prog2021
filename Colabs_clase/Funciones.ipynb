{
  "nbformat": 4,
  "nbformat_minor": 0,
  "metadata": {
    "colab": {
      "name": "Funciones.ipynb",
      "provenance": []
    },
    "kernelspec": {
      "name": "python3",
      "display_name": "Python 3"
    },
    "language_info": {
      "name": "python"
    }
  },
  "cells": [
    {
      "cell_type": "code",
      "metadata": {
        "id": "sZlGbDVTnONC"
      },
      "source": [
        "def saludo(c):\n",
        "  print('Hola ',c)"
      ],
      "execution_count": null,
      "outputs": []
    },
    {
      "cell_type": "code",
      "metadata": {
        "id": "_3kT20i8RE9p",
        "colab": {
          "base_uri": "https://localhost:8080/"
        },
        "outputId": "a332132e-c1fd-4cb0-f054-a92a8bf702e6"
      },
      "source": [
        "saludo( 'Juan')"
      ],
      "execution_count": null,
      "outputs": [
        {
          "output_type": "stream",
          "name": "stdout",
          "text": [
            "Hola  Juan\n"
          ]
        }
      ]
    },
    {
      "cell_type": "code",
      "metadata": {
        "id": "1ImAYPEqRI6x"
      },
      "source": [
        "def saluda():\n",
        "  print(' Hola')"
      ],
      "execution_count": null,
      "outputs": []
    },
    {
      "cell_type": "code",
      "metadata": {
        "id": "dpZd9Xv-RO_t",
        "colab": {
          "base_uri": "https://localhost:8080/"
        },
        "outputId": "7456dd09-7fcb-4c12-8c64-e13beabd473e"
      },
      "source": [
        "saluda()"
      ],
      "execution_count": null,
      "outputs": [
        {
          "output_type": "stream",
          "name": "stdout",
          "text": [
            " Hola\n"
          ]
        }
      ]
    },
    {
      "cell_type": "code",
      "metadata": {
        "id": "aaUuynWQVAQ_"
      },
      "source": [
        "def menosuno(n):\n",
        "  n=n-1\n",
        "  return n"
      ],
      "execution_count": null,
      "outputs": []
    },
    {
      "cell_type": "code",
      "metadata": {
        "id": "i9k5_Jd0VJPm",
        "colab": {
          "base_uri": "https://localhost:8080/"
        },
        "outputId": "ba443ea3-b428-4b42-cf38-133b0510bb75"
      },
      "source": [
        "x=10\n",
        "y=menosuno(x)\n",
        "print('y=',y,' pero x=',x)"
      ],
      "execution_count": null,
      "outputs": [
        {
          "output_type": "stream",
          "name": "stdout",
          "text": [
            "y= 9  pero x= 10\n"
          ]
        }
      ]
    },
    {
      "cell_type": "code",
      "metadata": {
        "id": "uQ2n8Kd_VS1B"
      },
      "source": [
        "def sumapositivos(list1):\n",
        "  for k in range(len(list1)):\n",
        "    if list1[k]<0:\n",
        "      list1[k]=0\n",
        "  return sum(list1)"
      ],
      "execution_count": null,
      "outputs": []
    },
    {
      "cell_type": "code",
      "metadata": {
        "id": "44DZa7SmV6EF",
        "colab": {
          "base_uri": "https://localhost:8080/"
        },
        "outputId": "dfa03c14-0d11-4c3f-cbd2-45d8611268bb"
      },
      "source": [
        "list2=[5,-2,9,4,-6,1]\n",
        "t=sumapositivos(list2)\n",
        "print(t)\n",
        "print('Observe list= ',list2)"
      ],
      "execution_count": null,
      "outputs": [
        {
          "output_type": "stream",
          "name": "stdout",
          "text": [
            "19\n",
            "Observe list=  [5, 0, 9, 4, 0, 1]\n"
          ]
        }
      ]
    },
    {
      "cell_type": "code",
      "metadata": {
        "id": "NJojXHU4XxZS"
      },
      "source": [
        "def resta(min,sus):\n",
        "  resta=min-sus\n",
        "  return resta"
      ],
      "execution_count": null,
      "outputs": []
    },
    {
      "cell_type": "code",
      "metadata": {
        "id": "rhvLgslvXwmK",
        "colab": {
          "base_uri": "https://localhost:8080/"
        },
        "outputId": "52a734cf-6e6c-4569-e20f-c84d655e909a"
      },
      "source": [
        "resta(5,2)"
      ],
      "execution_count": null,
      "outputs": [
        {
          "output_type": "execute_result",
          "data": {
            "text/plain": [
              "3"
            ]
          },
          "metadata": {},
          "execution_count": 12
        }
      ]
    },
    {
      "cell_type": "code",
      "metadata": {
        "id": "_auObXSRYAK8",
        "colab": {
          "base_uri": "https://localhost:8080/"
        },
        "outputId": "5524de87-1837-41dc-f7bd-6ee95614a1a8"
      },
      "source": [
        "resta(sus=7,min=5)"
      ],
      "execution_count": null,
      "outputs": [
        {
          "output_type": "execute_result",
          "data": {
            "text/plain": [
              "-2"
            ]
          },
          "metadata": {},
          "execution_count": 14
        }
      ]
    },
    {
      "cell_type": "code",
      "metadata": {
        "id": "Ct5W8lOFZBxZ"
      },
      "source": [
        "def definitiva(n1,n2, p1=0.5, p2=0.5,escala=100):\n",
        "  nota=n1*p1+n2*p2;\n",
        "  nota=nota*(5/escala)\n",
        "  return nota"
      ],
      "execution_count": null,
      "outputs": []
    },
    {
      "cell_type": "code",
      "metadata": {
        "id": "nPT2POM5ZrWN",
        "colab": {
          "base_uri": "https://localhost:8080/"
        },
        "outputId": "99da1a70-6ab1-46b4-f6a5-599ce9e3f42d"
      },
      "source": [
        "definitiva(80,90)"
      ],
      "execution_count": null,
      "outputs": [
        {
          "output_type": "execute_result",
          "data": {
            "text/plain": [
              "4.25"
            ]
          },
          "metadata": {},
          "execution_count": 16
        }
      ]
    },
    {
      "cell_type": "code",
      "metadata": {
        "id": "-LjLklNuZt4i",
        "colab": {
          "base_uri": "https://localhost:8080/"
        },
        "outputId": "20089833-ba01-455a-b8ed-7b618fe6a910"
      },
      "source": [
        "definitiva(30,40,0.4,0.6,40)"
      ],
      "execution_count": null,
      "outputs": [
        {
          "output_type": "execute_result",
          "data": {
            "text/plain": [
              "4.5"
            ]
          },
          "metadata": {},
          "execution_count": 17
        }
      ]
    },
    {
      "cell_type": "code",
      "metadata": {
        "id": "5dVaAV_RFsqe"
      },
      "source": [
        "def sumatoria(*numeros):\n",
        "  print('\\n Tipo de dato de entrada',type(numeros), '\\n')\n",
        "  suma = 0    \n",
        "  for n in numeros:\n",
        "    suma = suma + n\n",
        "  return suma\n",
        "    "
      ],
      "execution_count": null,
      "outputs": []
    },
    {
      "cell_type": "code",
      "metadata": {
        "colab": {
          "base_uri": "https://localhost:8080/"
        },
        "id": "THa3MQKCFycV",
        "outputId": "efc5146d-9ecb-4356-d173-62245110c605"
      },
      "source": [
        "print(sumatoria(1,2,3))\n",
        "print(sumatoria(1,2,3,4))"
      ],
      "execution_count": null,
      "outputs": [
        {
          "output_type": "stream",
          "name": "stdout",
          "text": [
            "\n",
            " Tipo de dato de entrada <class 'tuple'> \n",
            "\n",
            "6\n",
            "\n",
            " Tipo de dato de entrada <class 'tuple'> \n",
            "\n",
            "10\n"
          ]
        }
      ]
    },
    {
      "cell_type": "code",
      "metadata": {
        "id": "4_rNQKA1GKVa"
      },
      "source": [
        "def presentarenpantalla(**argumentos):\n",
        "    print(' Tipo de dato de entrada ',type(argumentos), '\\n\\n')\n",
        "\n",
        "    for pclave,valor in argumentos.items():\n",
        "        print('\\t \\t {} es {}'.format(pclave,valor))\n"
      ],
      "execution_count": null,
      "outputs": []
    },
    {
      "cell_type": "code",
      "metadata": {
        "colab": {
          "base_uri": "https://localhost:8080/"
        },
        "id": "XoUWPaHJGdaA",
        "outputId": "085d965f-4501-43f9-9886-76e36f82b933"
      },
      "source": [
        "presentarenpantalla(Nombre='Juan', Apellido='Galvis')"
      ],
      "execution_count": null,
      "outputs": [
        {
          "output_type": "stream",
          "name": "stdout",
          "text": [
            " Tipo de dato de entrada  <class 'dict'> \n",
            "\n",
            "\n",
            "\t \t Nombre es Juan\n",
            "\t \t Apellido es Galvis\n"
          ]
        }
      ]
    },
    {
      "cell_type": "code",
      "metadata": {
        "id": "KWcRrzUwTp1X"
      },
      "source": [
        "def IndiceMasaCorporal(altura,peso):\n",
        "  indice = peso/(altura**2) \n",
        "  if (indice < 16):\n",
        "    estado='Muy bajo de peso'\n",
        "  elif (indice >= 16 and indice < 18.5):\n",
        "   estado= 'Bajo de peso'\n",
        "  elif (indice >= 18.5 and indice < 25):\n",
        "   estado= 'Saludable'\n",
        "  elif ( indice >= 25 and indice < 30):\n",
        "   estado='Sobrepeso'\n",
        "  elif ( indice >=30):\n",
        "   estado='Obeso'\n",
        "  return indice, estado"
      ],
      "execution_count": null,
      "outputs": []
    },
    {
      "cell_type": "code",
      "metadata": {
        "id": "0vedvL_aWuV4",
        "colab": {
          "base_uri": "https://localhost:8080/"
        },
        "outputId": "1eeb4d14-e948-4114-80ae-050e374795e4"
      },
      "source": [
        "a=IndiceMasaCorporal(1.72,92.9)\n",
        "print( 'Tu IMC es {0:.2f}'.format(a[0]), ' y tu estado es ::::', a[1],'.' )"
      ],
      "execution_count": null,
      "outputs": [
        {
          "output_type": "stream",
          "name": "stdout",
          "text": [
            "Tu IMC es 31.40  y tu estado es :::: Obeso .\n"
          ]
        }
      ]
    },
    {
      "cell_type": "code",
      "metadata": {
        "id": "H8TTFJiRGc6U"
      },
      "source": [
        "def primalidad(posible_primo):\n",
        "  ''' Ayuda '''\n",
        "  factor=1\n",
        "  posible_factor=2;\n",
        "  es_primo= True\n",
        "  while (posible_factor*posible_factor <= posible_primo):\n",
        "    residuo= posible_primo % posible_factor;\n",
        "    if(residuo==0):\n",
        "      factor=posible_factor\n",
        "      es_primo=False\n",
        "      break\n",
        "    posible_factor=posible_factor+1\n",
        "  return es_primo, factor"
      ],
      "execution_count": null,
      "outputs": []
    },
    {
      "cell_type": "code",
      "metadata": {
        "id": "7W-kDot3CKXc",
        "outputId": "c3c2fcc3-3075-4ab6-fe9f-871b98a78baa",
        "colab": {
          "base_uri": "https://localhost:8080/"
        }
      },
      "source": [
        "help(primalidad)"
      ],
      "execution_count": null,
      "outputs": [
        {
          "output_type": "stream",
          "name": "stdout",
          "text": [
            "Help on function primalidad in module __main__:\n",
            "\n",
            "primalidad(posible_primo)\n",
            "    Ayuda\n",
            "\n"
          ]
        }
      ]
    },
    {
      "cell_type": "code",
      "metadata": {
        "colab": {
          "base_uri": "https://localhost:8080/"
        },
        "id": "Sqp97DjZIeiU",
        "outputId": "8f46bfd4-13f2-4525-fce0-0f6734a0d591"
      },
      "source": [
        "n=9237247\n",
        "a= primalidad(n)\n",
        "print(a)\n",
        "if (a[0]):\n",
        "  print(n,'es primo! Felicitaciones!.')\n",
        "else:\n",
        "  print(n,'no es primo. El valor ',a[1],'es un factor.')"
      ],
      "execution_count": null,
      "outputs": [
        {
          "output_type": "stream",
          "name": "stdout",
          "text": [
            "(False, 1327)\n",
            "9237247 no es primo. El valor  1327 es un factor.\n"
          ]
        }
      ]
    },
    {
      "cell_type": "code",
      "metadata": {
        "id": "GK4fvvcXMGk_"
      },
      "source": [
        "def mayor_primo_menor_que(numero):\n",
        "  candidato=numero+1;\n",
        "  esprimo=False\n",
        "  while (not(esprimo)):\n",
        "    candidato=candidato-1\n",
        "    esprimo,factor=primalidad(candidato)\n",
        "    print(candidato,esprimo)\n",
        "  return candidato"
      ],
      "execution_count": null,
      "outputs": []
    },
    {
      "cell_type": "code",
      "metadata": {
        "colab": {
          "base_uri": "https://localhost:8080/",
          "height": 576
        },
        "id": "yAm0C8SLM7d3",
        "outputId": "052d6fce-a248-4a93-9e5b-c29e56d17255"
      },
      "source": [
        "x=mayor_primo_menor_que(9237247)\n",
        "print(x)\n",
        "#posible_factor # variable local\n"
      ],
      "execution_count": null,
      "outputs": [
        {
          "output_type": "stream",
          "name": "stdout",
          "text": [
            "9237247 False\n",
            "9237246 False\n",
            "9237245 False\n",
            "9237244 False\n",
            "9237243 False\n",
            "9237242 False\n",
            "9237241 False\n",
            "9237240 False\n",
            "9237239 False\n",
            "9237238 False\n",
            "9237237 False\n",
            "9237236 False\n",
            "9237235 False\n",
            "9237234 False\n",
            "9237233 False\n",
            "9237232 False\n",
            "9237231 False\n",
            "9237230 False\n",
            "9237229 False\n",
            "9237228 False\n",
            "9237227 True\n",
            "9237227\n"
          ]
        },
        {
          "output_type": "error",
          "ename": "NameError",
          "evalue": "ignored",
          "traceback": [
            "\u001b[0;31m---------------------------------------------------------------------------\u001b[0m",
            "\u001b[0;31mNameError\u001b[0m                                 Traceback (most recent call last)",
            "\u001b[0;32m<ipython-input-39-811cbb2f9246>\u001b[0m in \u001b[0;36m<module>\u001b[0;34m()\u001b[0m\n\u001b[1;32m      1\u001b[0m \u001b[0mx\u001b[0m\u001b[0;34m=\u001b[0m\u001b[0mmayor_primo_menor_que\u001b[0m\u001b[0;34m(\u001b[0m\u001b[0;36m9237247\u001b[0m\u001b[0;34m)\u001b[0m\u001b[0;34m\u001b[0m\u001b[0;34m\u001b[0m\u001b[0m\n\u001b[1;32m      2\u001b[0m \u001b[0mprint\u001b[0m\u001b[0;34m(\u001b[0m\u001b[0mx\u001b[0m\u001b[0;34m)\u001b[0m\u001b[0;34m\u001b[0m\u001b[0;34m\u001b[0m\u001b[0m\n\u001b[0;32m----> 3\u001b[0;31m \u001b[0mposible_factor\u001b[0m\u001b[0;34m\u001b[0m\u001b[0;34m\u001b[0m\u001b[0m\n\u001b[0m",
            "\u001b[0;31mNameError\u001b[0m: name 'posible_factor' is not defined"
          ]
        }
      ]
    },
    {
      "cell_type": "code",
      "metadata": {
        "colab": {
          "base_uri": "https://localhost:8080/"
        },
        "id": "vBf03IwsQ7CV",
        "outputId": "21fde235-a6be-4cd3-a61c-19868aa92449"
      },
      "source": [
        "print(primalidad(1111111111111111111))\n"
      ],
      "execution_count": null,
      "outputs": [
        {
          "output_type": "stream",
          "name": "stdout",
          "text": [
            "(True, 1)\n"
          ]
        }
      ]
    }
  ]
}