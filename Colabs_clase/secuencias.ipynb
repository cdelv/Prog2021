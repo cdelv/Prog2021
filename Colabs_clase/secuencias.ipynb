{
  "nbformat": 4,
  "nbformat_minor": 0,
  "metadata": {
    "colab": {
      "name": "secuencias.ipynb",
      "provenance": []
    },
    "kernelspec": {
      "name": "python3",
      "display_name": "Python 3"
    },
    "language_info": {
      "name": "python"
    }
  },
  "cells": [
    {
      "cell_type": "code",
      "metadata": {
        "id": "9FtHbN5dPJFN",
        "collapsed": true,
        "colab": {
          "base_uri": "https://localhost:8080/"
        },
        "outputId": "53fa9189-a670-4aff-8ca6-ebc0ffa7a517"
      },
      "source": [
        "lst=[-2,3,4,-20.1,6]\n",
        "print(lst)\n",
        "lst.insert(1,3.14)\n",
        "print(lst)\n",
        "lst[2]=0\n",
        "print(lst)\n",
        "lst.append(1.42)\n",
        "print(lst)\n"
      ],
      "execution_count": null,
      "outputs": [
        {
          "output_type": "stream",
          "name": "stdout",
          "text": [
            "[-2, 3, 4, -20.1, 6]\n",
            "[-2, 3.14, 3, 4, -20.1, 6]\n",
            "[-2, 3.14, 0, 4, -20.1, 6]\n",
            "[-2, 3.14, 0, 4, -20.1, 6, 1.42]\n"
          ]
        }
      ]
    },
    {
      "cell_type": "code",
      "metadata": {
        "id": "KdvV4AjOQbF3",
        "colab": {
          "base_uri": "https://localhost:8080/"
        },
        "outputId": "88ffce28-ed55-4d35-d748-52e15a764900"
      },
      "source": [
        "print(lst[1:3])\n",
        "print(lst[3:])\n",
        "print(lst[:3])\n",
        "print(lst[1:-2])\n",
        "print(lst[1:-1])\n",
        "print(lst[::-1])\n",
        "print(lst[-3:-1])\n"
      ],
      "execution_count": null,
      "outputs": [
        {
          "output_type": "stream",
          "name": "stdout",
          "text": [
            "[3.14, 0]\n",
            "[4, -20.1, 6, 1.42]\n",
            "[-2, 3.14, 0]\n",
            "[3.14, 0, 4, -20.1]\n",
            "[3.14, 0, 4, -20.1, 6]\n",
            "[1.42, 6, -20.1, 4, 0, 3.14, -2]\n",
            "[-20.1, 6]\n"
          ]
        }
      ]
    },
    {
      "cell_type": "code",
      "metadata": {
        "colab": {
          "base_uri": "https://localhost:8080/"
        },
        "id": "HL1kqL_2imxb",
        "outputId": "60135181-1341-48d3-ecbe-69d50c518e1f"
      },
      "source": [
        "x=range(3,6)\n",
        "print(x[2])"
      ],
      "execution_count": null,
      "outputs": [
        {
          "output_type": "stream",
          "name": "stdout",
          "text": [
            "5\n"
          ]
        }
      ]
    },
    {
      "cell_type": "code",
      "metadata": {
        "id": "EvmWjeYRbKJY",
        "colab": {
          "base_uri": "https://localhost:8080/"
        },
        "outputId": "8b504d14-d323-4f08-c802-2df20ad9c94a"
      },
      "source": [
        "Notas=[ [20,80,10],[20,30,100],[90,100,10]]\n",
        "print(Notas)"
      ],
      "execution_count": null,
      "outputs": [
        {
          "output_type": "stream",
          "name": "stdout",
          "text": [
            "[[20, 80, 10], [20, 30, 100], [90, 100, 10]]\n"
          ]
        }
      ]
    },
    {
      "cell_type": "code",
      "metadata": {
        "id": "0sKliMXrbSYQ"
      },
      "source": [
        "print(Notas[2])"
      ],
      "execution_count": null,
      "outputs": []
    },
    {
      "cell_type": "code",
      "metadata": {
        "id": "R90kd6CfbaQY",
        "colab": {
          "base_uri": "https://localhost:8080/"
        },
        "outputId": "6b4a8ad7-ba03-41b7-9292-31aca4585b7e"
      },
      "source": [
        "print(Notas[2][1])"
      ],
      "execution_count": null,
      "outputs": [
        {
          "output_type": "stream",
          "name": "stdout",
          "text": [
            "100\n"
          ]
        }
      ]
    },
    {
      "cell_type": "code",
      "metadata": {
        "id": "gUUIC_DcWltW",
        "colab": {
          "base_uri": "https://localhost:8080/"
        },
        "outputId": "dabf955b-7aff-4837-b12c-cfa3c477e4a1"
      },
      "source": [
        "l=len([2,3,1])\n",
        "print(l)\n",
        "print(type(l))\n",
        "y=10/l\n",
        "print(y)"
      ],
      "execution_count": null,
      "outputs": [
        {
          "output_type": "stream",
          "name": "stdout",
          "text": [
            "3\n",
            "<class 'int'>\n",
            "3.3333333333333335\n"
          ]
        }
      ]
    },
    {
      "cell_type": "code",
      "metadata": {
        "id": "Z8OT_AS0bcO6",
        "colab": {
          "base_uri": "https://localhost:8080/"
        },
        "outputId": "9154ace1-7947-48b8-8447-a6645e133c35"
      },
      "source": [
        "#Promedio segundo examen\n",
        "sum=0\n",
        "k=0\n",
        "while k<len(Notas):\n",
        "  sum=sum+Notas[k][1]\n",
        "  k=k+1\n",
        "promedio=sum/len(Notas)\n",
        "print('El promedio del segundo examen es ',promedio)"
      ],
      "execution_count": null,
      "outputs": [
        {
          "output_type": "stream",
          "name": "stdout",
          "text": [
            "El promedio del segundo examen es  70.0\n"
          ]
        }
      ]
    },
    {
      "cell_type": "code",
      "metadata": {
        "id": "Sjlz3wlKXgOa",
        "colab": {
          "base_uri": "https://localhost:8080/"
        },
        "outputId": "8dd20cdc-29d4-40eb-bc7e-f890ada2b108"
      },
      "source": [
        "x=[(1,2),[3,4],(5,6)]\n",
        "print(x[1][1])"
      ],
      "execution_count": null,
      "outputs": [
        {
          "output_type": "stream",
          "name": "stdout",
          "text": [
            "4\n"
          ]
        }
      ]
    },
    {
      "cell_type": "code",
      "metadata": {
        "id": "0ZNXIrYhdjQF",
        "colab": {
          "base_uri": "https://localhost:8080/"
        },
        "outputId": "45841c1a-6684-461f-a212-55522a5acd53"
      },
      "source": [
        "nums=[2, 3, 5, 7, 1100, 13, 17, 19, 23]\n",
        "for i in nums:\n",
        "  print(i)"
      ],
      "execution_count": null,
      "outputs": [
        {
          "output_type": "stream",
          "name": "stdout",
          "text": [
            "2\n",
            "3\n",
            "5\n",
            "7\n",
            "1100\n",
            "13\n",
            "17\n",
            "19\n",
            "23\n"
          ]
        }
      ]
    },
    {
      "cell_type": "code",
      "metadata": {
        "id": "pCVp_kocewsG",
        "colab": {
          "base_uri": "https://localhost:8080/"
        },
        "outputId": "bb3950a6-1686-42eb-840e-32940b4f0076"
      },
      "source": [
        "nums=[2, 3, 5, 7, 11, 13, 17, 19, 23]\n",
        "sum=0\n",
        "for i in nums:\n",
        "  sum=sum+i\n",
        "print('suma = ',sum)"
      ],
      "execution_count": null,
      "outputs": [
        {
          "output_type": "stream",
          "name": "stdout",
          "text": [
            "suma =  100\n"
          ]
        }
      ]
    },
    {
      "cell_type": "code",
      "metadata": {
        "id": "QaaskWqie9IV",
        "colab": {
          "base_uri": "https://localhost:8080/"
        },
        "outputId": "68c0d181-9cf9-4cb2-a1f9-cb7b9caf888f"
      },
      "source": [
        "nums=[2, 3, 5, 7, 11, 13, 17, 19, 23]\n",
        "sum=0\n",
        "for i in range(len(nums)):\n",
        "  sum=sum+nums[len(nums)- (i+1)]\n",
        "print('suma = ',sum)"
      ],
      "execution_count": null,
      "outputs": [
        {
          "output_type": "stream",
          "name": "stdout",
          "text": [
            "suma =  100\n"
          ]
        }
      ]
    },
    {
      "cell_type": "code",
      "metadata": {
        "id": "xBOxprJLfoyb",
        "colab": {
          "base_uri": "https://localhost:8080/"
        },
        "outputId": "637e99bd-ff16-4f15-8a3a-6d125bae9152"
      },
      "source": [
        "t=range(2,5)\n",
        "print(t)"
      ],
      "execution_count": null,
      "outputs": [
        {
          "output_type": "stream",
          "name": "stdout",
          "text": [
            "range(2, 5)\n"
          ]
        }
      ]
    },
    {
      "cell_type": "code",
      "metadata": {
        "id": "w2RyoAUpfrDS",
        "colab": {
          "base_uri": "https://localhost:8080/"
        },
        "outputId": "a2726059-41fe-4104-a87c-10dcdac96f77"
      },
      "source": [
        "x = range(3, 6)\n",
        "for n in x:\n",
        "  print(n)"
      ],
      "execution_count": null,
      "outputs": [
        {
          "output_type": "stream",
          "name": "stdout",
          "text": [
            "3\n",
            "4\n",
            "5\n"
          ]
        }
      ]
    },
    {
      "cell_type": "code",
      "metadata": {
        "id": "Y7dI1WrbgXsK",
        "colab": {
          "base_uri": "https://localhost:8080/"
        },
        "outputId": "8c07990a-0a6e-49cd-ece3-81d8ecfcd2c5"
      },
      "source": [
        "nums=[2, 3, 5, 7, 11, 13, 17, 19, 23]\n",
        "k=0\n",
        "sum=0\n",
        "while k<len(nums) and sum<60 :\n",
        "  sum=sum+nums[k]\n",
        "  k=k+1\n",
        "print( 'Los primeros ', k, 'elementos suman 60 o mas')"
      ],
      "execution_count": null,
      "outputs": [
        {
          "output_type": "stream",
          "name": "stdout",
          "text": [
            "Los primeros  8 elementos suman 60 o mas\n"
          ]
        }
      ]
    },
    {
      "cell_type": "code",
      "metadata": {
        "id": "RU2YT9vHiTaY"
      },
      "source": [
        "x=10\n",
        "y=x\n",
        "x=11\n",
        "print(y)"
      ],
      "execution_count": null,
      "outputs": []
    },
    {
      "cell_type": "code",
      "metadata": {
        "id": "BY0crW6UiZTe"
      },
      "source": [
        "list1=[10,20,30,40]\n",
        "list2=list1\n",
        "list1[0]=5\n",
        "print(list1)\n",
        "print(list2)"
      ],
      "execution_count": null,
      "outputs": []
    },
    {
      "cell_type": "code",
      "metadata": {
        "id": "b0kUGKhtii-y"
      },
      "source": [
        "list2"
      ],
      "execution_count": null,
      "outputs": []
    },
    {
      "cell_type": "code",
      "metadata": {
        "id": "2mAsJyahirwK"
      },
      "source": [
        "list1=[10,20,30,40]\n",
        "list2=list(list1)\n",
        "list1[0]=5\n",
        "print(list1)\n",
        "print(list2)"
      ],
      "execution_count": null,
      "outputs": []
    },
    {
      "cell_type": "code",
      "metadata": {
        "id": "A6f-hbX1j4Oh"
      },
      "source": [
        "[x**2 for x in [1,2,3]]"
      ],
      "execution_count": null,
      "outputs": []
    },
    {
      "cell_type": "code",
      "metadata": {
        "id": "I3iBDHkbj7sl"
      },
      "source": [
        "[x**3 for x in range(5)]"
      ],
      "execution_count": null,
      "outputs": []
    },
    {
      "cell_type": "code",
      "metadata": {
        "id": "uU9rtzCHkFqM"
      },
      "source": [
        "nums=[-1,1,-2,2,-3,3,-4,4]\n",
        "[x for x in nums if x>0]"
      ],
      "execution_count": null,
      "outputs": []
    },
    {
      "cell_type": "code",
      "metadata": {
        "id": "h8lp3tUfkT5F"
      },
      "source": [
        "[ord(ch) for ch in 'Hola']"
      ],
      "execution_count": null,
      "outputs": []
    },
    {
      "cell_type": "code",
      "metadata": {
        "id": "HRBf5ZyMkbPs"
      },
      "source": [
        "vocales=('a','e','i','o','u')\n",
        "w='Bienvenidos'\n",
        "[c for c in w if c in vocales ]"
      ],
      "execution_count": null,
      "outputs": []
    },
    {
      "cell_type": "code",
      "metadata": {
        "id": "xfQSqlXv6Ey0",
        "colab": {
          "base_uri": "https://localhost:8080/"
        },
        "outputId": "3e913d04-ccc5-41aa-d5d7-edab6e19f15f"
      },
      "source": [
        "import numpy as np\n",
        "a = np.array([2, 3, 4])\n",
        "print(a, 'tamaño: ',a.size, 'forma:',a.shape)\n",
        "print(a.dtype)\n",
        "b = np.array([[1.2, 3.5, 5.1],[1.0,2.0,3.0]])\n",
        "print(b, 'tamaño: ',b.size, 'forma:',b.shape)"
      ],
      "execution_count": null,
      "outputs": [
        {
          "output_type": "stream",
          "name": "stdout",
          "text": [
            "[2 3 4] tamaño:  3 forma: (3,)\n",
            "int64\n",
            "[[1.2 3.5 5.1]\n",
            " [1.  2.  3. ]] tamaño:  6 forma: (2, 3)\n"
          ]
        }
      ]
    },
    {
      "cell_type": "code",
      "metadata": {
        "id": "Lm_80rH96PFn",
        "colab": {
          "base_uri": "https://localhost:8080/",
          "height": 320
        },
        "outputId": "c3905437-ec09-4a2e-f4ba-5939c4353313"
      },
      "source": [
        "import numpy as np\n",
        "import matplotlib.pyplot as plt\n",
        "x = np.arange(0, 1, .05)\n",
        "p1= np.sin(x)\n",
        "p2=np.cos(x)\n",
        "plt.figure(figsize=(10, 5))\n",
        "plt.plot(x, p1, color='red', marker='.', linestyle='dashed',label='sin(x)',linewidth=2,markersize=5)\n",
        "plt.plot( x, p2, 'b-',label='cos(x)')\n",
        "legend = plt.legend(loc='upper left', shadow=True, fontsize='x-large')\n",
        "plt.show()"
      ],
      "execution_count": null,
      "outputs": [
        {
          "output_type": "display_data",
          "data": {
            "image/png": "[encoded data removed]",
            "text/plain": [
              "<Figure size 720x360 with 1 Axes>"
            ]
          },
          "metadata": {
            "needs_background": "light"
          }
        }
      ]
    },
    {
      "cell_type": "code",
      "metadata": {
        "id": "vmBZUO7tGiKa",
        "colab": {
          "base_uri": "https://localhost:8080/"
        },
        "outputId": "1e8e9f63-f84f-4c55-af2a-434cb44d3741"
      },
      "source": [
        "A={'zero':1,'uno':2}\n",
        "A['zero']\n"
      ],
      "execution_count": null,
      "outputs": [
        {
          "output_type": "execute_result",
          "data": {
            "text/plain": [
              "1"
            ]
          },
          "metadata": {},
          "execution_count": 45
        }
      ]
    },
    {
      "cell_type": "code",
      "metadata": {
        "id": "Kr0iaE19DlL6",
        "colab": {
          "base_uri": "https://localhost:8080/"
        },
        "outputId": "e2789ee0-e671-46e8-c070-c514bb3287e7"
      },
      "source": [
        "A={0,1,2,3,'Manzana'}\n",
        "B={3,'Manzana', 'Pera'}\n",
        "print(A)"
      ],
      "execution_count": null,
      "outputs": [
        {
          "output_type": "stream",
          "name": "stdout",
          "text": [
            "{0, 1, 2, 3, 'Manzana'}\n"
          ]
        }
      ]
    },
    {
      "cell_type": "code",
      "metadata": {
        "id": "Z9CUtM2nDqYQ",
        "colab": {
          "base_uri": "https://localhost:8080/"
        },
        "outputId": "d5e5c9ea-cbe9-4d43-fc23-35f3a85967f5"
      },
      "source": [
        "A.add(4)\n",
        "print(A)"
      ],
      "execution_count": null,
      "outputs": [
        {
          "output_type": "stream",
          "name": "stdout",
          "text": [
            "{0, 1, 2, 3, 4, 'Manzana'}\n"
          ]
        }
      ]
    },
    {
      "cell_type": "code",
      "metadata": {
        "id": "jw0IyhaLDrvP",
        "colab": {
          "base_uri": "https://localhost:8080/"
        },
        "outputId": "969a7f20-af3b-4f21-be9a-d367117899c2"
      },
      "source": [
        "A.remove(0)\n",
        "print(A)"
      ],
      "execution_count": null,
      "outputs": [
        {
          "output_type": "stream",
          "name": "stdout",
          "text": [
            "{1, 2, 3, 4, 'Manzana'}\n"
          ]
        }
      ]
    },
    {
      "cell_type": "code",
      "metadata": {
        "id": "2xtpRKPkEH2I",
        "colab": {
          "base_uri": "https://localhost:8080/"
        },
        "outputId": "963d6ce7-0e80-4b4d-d28d-425358772a45"
      },
      "source": [
        "A|B  "
      ],
      "execution_count": null,
      "outputs": [
        {
          "output_type": "execute_result",
          "data": {
            "text/plain": [
              "{1, 2, 3, 4, 'Manzana', 'Pera'}"
            ]
          },
          "metadata": {},
          "execution_count": 49
        }
      ]
    },
    {
      "cell_type": "code",
      "metadata": {
        "id": "Ta8FuU2dEKeT",
        "colab": {
          "base_uri": "https://localhost:8080/"
        },
        "outputId": "55db7be9-a442-4b9f-db55-b801a477b904"
      },
      "source": [
        "A & B  "
      ],
      "execution_count": null,
      "outputs": [
        {
          "output_type": "execute_result",
          "data": {
            "text/plain": [
              "{3, 'Manzana'}"
            ]
          },
          "metadata": {},
          "execution_count": 50
        }
      ]
    },
    {
      "cell_type": "code",
      "metadata": {
        "id": "pOp5R4YkEWvw",
        "colab": {
          "base_uri": "https://localhost:8080/"
        },
        "outputId": "524dc150-232b-41fa-9b00-5438be4dd14f"
      },
      "source": [
        "A-B "
      ],
      "execution_count": null,
      "outputs": [
        {
          "output_type": "execute_result",
          "data": {
            "text/plain": [
              "{1, 2, 4}"
            ]
          },
          "metadata": {},
          "execution_count": 51
        }
      ]
    },
    {
      "cell_type": "code",
      "metadata": {
        "id": "Dr_aTrH8EYXa",
        "colab": {
          "base_uri": "https://localhost:8080/"
        },
        "outputId": "17aee0bb-46e4-4407-af3a-bc12f391dc70"
      },
      "source": [
        "A^B"
      ],
      "execution_count": null,
      "outputs": [
        {
          "output_type": "execute_result",
          "data": {
            "text/plain": [
              "{1, 2, 4, 'Pera'}"
            ]
          },
          "metadata": {},
          "execution_count": 52
        }
      ]
    },
    {
      "cell_type": "code",
      "metadata": {
        "id": "og1yw-OYEaMv",
        "colab": {
          "base_uri": "https://localhost:8080/"
        },
        "outputId": "278d00a6-b29d-48cd-bd5f-91739137a4d4"
      },
      "source": [
        "len(A)"
      ],
      "execution_count": null,
      "outputs": [
        {
          "output_type": "execute_result",
          "data": {
            "text/plain": [
              "5"
            ]
          },
          "metadata": {},
          "execution_count": 53
        }
      ]
    },
    {
      "cell_type": "code",
      "metadata": {
        "id": "ttyjzn20Ecun",
        "colab": {
          "base_uri": "https://localhost:8080/"
        },
        "outputId": "470c4ac5-21cd-4c4f-fbb1-ad23ab9d6f2e"
      },
      "source": [
        "0 in A"
      ],
      "execution_count": null,
      "outputs": [
        {
          "output_type": "execute_result",
          "data": {
            "text/plain": [
              "False"
            ]
          },
          "metadata": {},
          "execution_count": 54
        }
      ]
    },
    {
      "cell_type": "code",
      "metadata": {
        "id": "rzrnFNNxFVmh",
        "colab": {
          "base_uri": "https://localhost:8080/"
        },
        "outputId": "db5bae5a-6d0b-4219-c463-f0b6c5bb4a3b"
      },
      "source": [
        "Z=frozenset([1,2])\n",
        "print(Z)"
      ],
      "execution_count": null,
      "outputs": [
        {
          "output_type": "stream",
          "name": "stdout",
          "text": [
            "frozenset({1, 2})\n"
          ]
        }
      ]
    },
    {
      "cell_type": "code",
      "metadata": {
        "id": "cqSDARULFnq9",
        "colab": {
          "base_uri": "https://localhost:8080/",
          "height": 166
        },
        "outputId": "51ea2051-11a3-4cd1-d381-5d3f3a36f620"
      },
      "source": [
        "Z.add(5)"
      ],
      "execution_count": null,
      "outputs": [
        {
          "output_type": "error",
          "ename": "AttributeError",
          "evalue": "ignored",
          "traceback": [
            "\u001b[0;31m---------------------------------------------------------------------------\u001b[0m",
            "\u001b[0;31mAttributeError\u001b[0m                            Traceback (most recent call last)",
            "\u001b[0;32m<ipython-input-56-a2ad4b3212e5>\u001b[0m in \u001b[0;36m<module>\u001b[0;34m()\u001b[0m\n\u001b[0;32m----> 1\u001b[0;31m \u001b[0mZ\u001b[0m\u001b[0;34m.\u001b[0m\u001b[0madd\u001b[0m\u001b[0;34m(\u001b[0m\u001b[0;36m5\u001b[0m\u001b[0;34m)\u001b[0m\u001b[0;34m\u001b[0m\u001b[0;34m\u001b[0m\u001b[0m\n\u001b[0m",
            "\u001b[0;31mAttributeError\u001b[0m: 'frozenset' object has no attribute 'add'"
          ]
        }
      ]
    },
    {
      "cell_type": "code",
      "metadata": {
        "id": "4cgsvxDgiar7",
        "colab": {
          "base_uri": "https://localhost:8080/"
        },
        "outputId": "a9eb6302-7110-4bad-ba9c-791348cbd5bd"
      },
      "source": [
        "A={0,1,2,3,'Manzana'}\n",
        "for i in A:\n",
        "  print(i)"
      ],
      "execution_count": null,
      "outputs": [
        {
          "output_type": "stream",
          "name": "stdout",
          "text": [
            "0\n",
            "1\n",
            "2\n",
            "3\n",
            "Manzana\n"
          ]
        }
      ]
    },
    {
      "cell_type": "code",
      "metadata": {
        "id": "vQqDGdd4i40e",
        "colab": {
          "base_uri": "https://localhost:8080/"
        },
        "outputId": "bc5af1e5-5fec-469f-b09e-146b438a1e02"
      },
      "source": [
        "A={'zero':1,'uno':2}\n",
        "for i in A:\n",
        "  print(A[i])"
      ],
      "execution_count": null,
      "outputs": [
        {
          "output_type": "stream",
          "name": "stdout",
          "text": [
            "1\n",
            "2\n"
          ]
        }
      ]
    }
  ]
}