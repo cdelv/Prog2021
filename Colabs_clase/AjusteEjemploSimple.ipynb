{
  "nbformat": 4,
  "nbformat_minor": 0,
  "metadata": {
    "colab": {
      "name": "AjusteEjemploSimple.ipynb",
      "provenance": []
    },
    "kernelspec": {
      "name": "python3",
      "display_name": "Python 3"
    },
    "language_info": {
      "name": "python"
    }
  },
  "cells": [
    {
      "cell_type": "markdown",
      "metadata": {
        "id": "csed2DLm4kDB"
      },
      "source": [
        "Para optimizar el valor de los parámetros del modelo creamos una función que calcule el **tamaño** del desajuste a los datos de los posibles modelos. Esta función recive los datos y valores válidos de parámetros del modelo y retorna la norma del residuo. Podemos usar por ejemplo la medida de desajuste de mínimos cuadrados (norma Euclidiana). Luego usamos una librería de optimización para calcular el valor del parámetro óptimo aproximado.\n",
        " \n",
        "Consideremos el ejemplo siguiente donde tenemos datos del crecimiento de un tumor en ratones. \n",
        "Los datos son tomados (y mas información) se encuentran en: \n",
        "Modeling Cancer Growth with Differential Equations de Jue Wang, Department of Mathematics\n",
        "Union College, Schenectady NY 12308 USA.\n",
        " \n",
        "Para ilustrar el procedimiento, ajustaremos dos modelos:\n",
        "1. Un modelo polinomial de grado uno\n",
        "2. Un modelo polinomial cúbico\n",
        "3. Un modelo de redes neuronales artificiales\n",
        "4. Un modelo de ecuaciones diferenciales (Modelo de von Bertalanffy).\n"
      ]
    },
    {
      "cell_type": "markdown",
      "metadata": {
        "id": "dzBe3Pii4s-m"
      },
      "source": [
        "# Prerrequisitos y datos"
      ]
    },
    {
      "cell_type": "code",
      "metadata": {
        "id": "xWEFRz69iOSZ"
      },
      "source": [
        "import numpy as np \n",
        "import scipy.optimize as op\n",
        "from scipy.integrate import odeint\n",
        "import matplotlib.pyplot as plt"
      ],
      "execution_count": null,
      "outputs": []
    },
    {
      "cell_type": "code",
      "metadata": {
        "id": "_tKRvCmZiUx3"
      },
      "source": [
        "Datos=np.array([[3.46,0.0158],[4.58,0.0264],[5.67,0.0326],[6.64,0.0445], [7.63,\t0.0646],\\\n",
        "[8.41,\t0.0933],[9.32,\t0.1454],[10.27,\t0.2183],[11.19,\t0.2842],[12.39,\t0.4977],[13.42,\t0.6033],\\\n",
        "[15.19,\t0.8441],[16.24\t,1.2163],[17.23,\t1.447],[18.18,\t2.3298],[19.29,\t2.5342],[21.23\t,3.0064],\\\n",
        "[21.99\t,3.4044],[24.33,\t3.2046],[25.58,\t4.5241],[26.43,\t4.3459],[27.44,\t5.1374],[28.43\t,5.5376],\\\n",
        "[30.49\t,4.8946],[31.34,\t5.066],[32.34\t,6.1494],[33.00\t,6.8548],[35.20,\t5.9668],[36.34\t,6.6945],\\\n",
        "[37.29\t,6.6395],[38.50\t,6.8971],[39.67\t,7.2966],[41.37\t,7.2268],[42.58,\t6.8815],[45.39,\t8.0993],\\\n",
        "[46.38\t,7.2112],[48.29,\t7.0694],[49.24\t,7.4971],[50.19,\t6.9974],[51.14,\t6.7219],[52.10,\t7.0523],\\\n",
        "[54.00,\t7.1095],[56.33\t,7.0694],[57.33,\t8.0562],[59.38 ,\t7.2268]])\n",
        "\n",
        "tiempo=Datos[:,0]\n",
        "Volumen=Datos[:,1]"
      ],
      "execution_count": null,
      "outputs": []
    },
    {
      "cell_type": "code",
      "metadata": {
        "colab": {
          "base_uri": "https://localhost:8080/",
          "height": 320
        },
        "id": "3epeoH-wi3-v",
        "outputId": "02f1c4b4-a81d-455f-a695-47d05d615d86"
      },
      "source": [
        "plt.figure(figsize=(15,5))\n",
        "plt.scatter(tiempo,Volumen,s=10*Volumen, c=Volumen, alpha=0.8)\n",
        "plt.show()"
      ],
      "execution_count": null,
      "outputs": [
        {
          "output_type": "display_data",
          "data": {
            "image/png": "[encoded data removed]",
            "text/plain": [
              "<Figure size 1080x360 with 1 Axes>"
            ]
          },
          "metadata": {
            "needs_background": "light"
          }
        }
      ]
    },
    {
      "cell_type": "markdown",
      "source": [
        "# Modelo polinomio grado 1\n",
        "El modelo cúbico asumimos que \n",
        "$$\n",
        "V(t) \\approx a+bt\n",
        "$$\n",
        "y queremos estimar $a,b,c$ y $d$.\n",
        "\n",
        "Creamos una función que mida la norma del residuo, o sea, el tamaño del desajuste (o tamaño del residuo) del modelo polinomial cúbico con respecto a los datos usando, por ejemplo, mínimos cuadrados, es decir, la norma euclidiana de la diferencia o residuo."
      ],
      "metadata": {
        "id": "ioiUKuUU1vDx"
      }
    },
    {
      "cell_type": "code",
      "source": [
        "def residuoPL(par,V,tiempo):\n",
        "  a,b=par\n",
        "  Vmodelo=a+b*tiempo\n",
        "#  print(Vmodelo.shape)\n",
        "#  print(V.shape)\n",
        "  res=V-Vmodelo;\n",
        "  nres=np.linalg.norm(res)\n",
        "  #print(nres)\n",
        "  return nres"
      ],
      "metadata": {
        "id": "N8EDoOrr13sI"
      },
      "execution_count": null,
      "outputs": []
    },
    {
      "cell_type": "markdown",
      "source": [
        "Por ejemplo, el desajuste de usar $a=1$ y $b=2$, es defir, aproximar $V(t)≈1+2t$ es $\\approx 424.31$ que es calculado a continuación."
      ],
      "metadata": {
        "id": "pT_M1v2f19h2"
      }
    },
    {
      "cell_type": "code",
      "source": [
        "residuoPL([1,0.1],Volumen,tiempo)"
      ],
      "metadata": {
        "colab": {
          "base_uri": "https://localhost:8080/"
        },
        "id": "KaO6glY219Ds",
        "outputId": "e1a21e48-d902-486a-df60-7b4034c606bd"
      },
      "execution_count": null,
      "outputs": [
        {
          "output_type": "execute_result",
          "data": {
            "text/plain": [
              "9.988729515809302"
            ]
          },
          "metadata": {},
          "execution_count": 10
        }
      ]
    },
    {
      "cell_type": "markdown",
      "source": [
        "Ahora usamos una librería de optimización para calcular el valor del parámetro óptimo aproximado. Usamos scypy.optimize, en particular el optimizador \n",
        "scypy.optimize.minimize, https://docs.scipy.org/doc/scipy/reference/generated/scipy.optimize.minimize.html. Los argumentos principales de minimize, son la función a minimizar y un valores de los parámetros para iniciar la busqueda del valor óptimo aproximado."
      ],
      "metadata": {
        "id": "ugdyUiOr2Mdr"
      }
    },
    {
      "cell_type": "code",
      "source": [
        "optimoPL=op.minimize(residuoPL,[1,.1], args=(Volumen,tiempo),method='Powell')\n",
        "parametro_optimoPL=optimoPL.x\n",
        "print(optimoPL)"
      ],
      "metadata": {
        "colab": {
          "base_uri": "https://localhost:8080/"
        },
        "id": "I2VjNiPZ2Twy",
        "outputId": "d1599808-0e25-4a74-d15f-d9557711b1ac"
      },
      "execution_count": null,
      "outputs": [
        {
          "output_type": "stream",
          "name": "stdout",
          "text": [
            "   direc: array([[ 0.        ,  1.        ],\n",
            "       [-1.51097459,  0.03909199]])\n",
            "     fun: 6.307243158161712\n",
            " message: 'Optimization terminated successfully.'\n",
            "    nfev: 81\n",
            "     nit: 3\n",
            "  status: 0\n",
            " success: True\n",
            "       x: array([-0.70195908,  0.16773982])\n"
          ]
        }
      ]
    },
    {
      "cell_type": "markdown",
      "source": [
        "El modelo entrenado es $V(t)\\approx -0.70+0.17t$.\n",
        "Después de calcular el valor del parámetro óptimo podemos mostrar el ajuste final de nuestro modelo."
      ],
      "metadata": {
        "id": "byvaPAaD2inA"
      }
    },
    {
      "cell_type": "code",
      "source": [
        "ts=np.linspace(0, 60, 1000) \n",
        "V0=0.0158\n",
        "a,b=parametro_optimoPL\n",
        "VolumenPL=a+b*ts\n",
        "plt.figure(figsize=(15,5))\n",
        "plt.scatter(tiempo,Volumen,s=50, c=Volumen)\n",
        "plt.plot(ts,VolumenPL,linewidth=5)\n",
        "plt.show()"
      ],
      "metadata": {
        "colab": {
          "base_uri": "https://localhost:8080/",
          "height": 320
        },
        "id": "ZqDDmDgp2nBp",
        "outputId": "f149acb4-a286-4e61-e404-644f260330c6"
      },
      "execution_count": null,
      "outputs": [
        {
          "output_type": "display_data",
          "data": {
            "image/png": "[encoded data removed]",
            "text/plain": [
              "<Figure size 1080x360 with 1 Axes>"
            ]
          },
          "metadata": {
            "needs_background": "light"
          }
        }
      ]
    },
    {
      "cell_type": "markdown",
      "metadata": {
        "id": "1PwlXSnC5d8o"
      },
      "source": [
        "# Modelo polinomio cúbico \n",
        "\n",
        "El modelo cúbico asumimos que \n",
        "$$\n",
        "V(t) \\approx a+bt+ct^2+dt^3\n",
        "$$\n",
        "y queremos estimar $a,b,c$ y $d$.\n",
        "\n",
        "Creamos una función que mida la norma del residuo, o sea, el tamaño del desajuste (o tamaño del residuo) del modelo polinomial cúbico con respecto a los datos usando, por ejemplo, mínimos cuadrados, es decir, la norma euclidiana de la diferencia o residuo."
      ]
    },
    {
      "cell_type": "code",
      "metadata": {
        "id": "wuhDlJZW67ZM"
      },
      "source": [
        "def residuoPC(par,V,tiempo):\n",
        "  a,b,c,d=par\n",
        "  Vmodelo=a+b*tiempo+c*np.power(tiempo,2)+d*np.power(tiempo,3)\n",
        "#  print(Vmodelo.shape)\n",
        "#  print(V.shape)\n",
        "  res=V-Vmodelo;\n",
        "  nres=np.linalg.norm(res)\n",
        "  #print(nres)\n",
        "  return nres"
      ],
      "execution_count": null,
      "outputs": []
    },
    {
      "cell_type": "markdown",
      "metadata": {
        "id": "tc9OSmx3BkSs"
      },
      "source": [
        "Por ejemplo, el desajuste de usar $a=1, b=2, c=3$ y $d=4$ es:"
      ]
    },
    {
      "cell_type": "code",
      "metadata": {
        "colab": {
          "base_uri": "https://localhost:8080/"
        },
        "id": "g-Ce8jlY7Yqi",
        "outputId": "431a60fb-dd87-498a-fe46-11ce8f2229cc"
      },
      "source": [
        "residuoPC([1,2,3,4],Volumen,tiempo)"
      ],
      "execution_count": null,
      "outputs": [
        {
          "output_type": "execute_result",
          "data": {
            "text/plain": [
              "2097512.575338375"
            ]
          },
          "metadata": {},
          "execution_count": 13
        }
      ]
    },
    {
      "cell_type": "markdown",
      "metadata": {
        "id": "BicC0YhT7ob0"
      },
      "source": [
        "Ahora usamos una librería de optimización para calcular el valor del parámetro óptimo aproximado."
      ]
    },
    {
      "cell_type": "code",
      "metadata": {
        "colab": {
          "base_uri": "https://localhost:8080/"
        },
        "id": "IobufrwZ7tIq",
        "outputId": "a2541ac5-63d1-48ff-e69c-847b95f3e26d"
      },
      "source": [
        "optimoPC=op.minimize(residuoPC,[0.1,.1,.1,.1], args=(Volumen,tiempo),method='Powell')\n",
        "parametro_optimoPC=optimoPC.x\n",
        "print(optimoPC)"
      ],
      "execution_count": null,
      "outputs": [
        {
          "output_type": "stream",
          "name": "stdout",
          "text": [
            "   direc: array([[ 8.65040672e+01, -1.71855296e+01,  6.72398743e-01,\n",
            "        -7.31470801e-03],\n",
            "       [ 4.19158472e+03, -4.41443017e+01, -5.60515662e-01,\n",
            "        -6.73757149e-03],\n",
            "       [-3.20775309e+03,  2.34087257e+02, -1.46053687e+00,\n",
            "        -3.91840502e-02],\n",
            "       [ 1.64068582e-01, -2.08960894e-02,  7.69936097e-04,\n",
            "        -7.86584177e-06]])\n",
            "     fun: 3.2412248820163145\n",
            " message: 'Optimization terminated successfully.'\n",
            "    nfev: 664\n",
            "     nit: 11\n",
            "  status: 0\n",
            " success: True\n",
            "       x: array([-8.16542962e-01,  5.42859220e-02,  8.36149889e-03, -1.21019606e-04])\n"
          ]
        }
      ]
    },
    {
      "cell_type": "markdown",
      "metadata": {
        "id": "I3KLlBQGCNAX"
      },
      "source": [
        "Después de calcular el valor del parámetro óptimo podemos mostrar el ajuste final de nuestro modelo."
      ]
    },
    {
      "cell_type": "code",
      "metadata": {
        "colab": {
          "base_uri": "https://localhost:8080/",
          "height": 320
        },
        "id": "5Mnl_2B1CSKm",
        "outputId": "1c4dc825-f959-4337-82ec-afa73442414f"
      },
      "source": [
        "ts=np.linspace(0, 60, 1000) \n",
        "V0=0.0158\n",
        "a,b,c,d=parametro_optimoPC\n",
        "VolumenPC=a+b*ts+c*np.power(ts,2)+d*np.power(ts,3)\n",
        "plt.figure(figsize=(15,5))\n",
        "plt.scatter(tiempo,Volumen,s=50, c=Volumen)\n",
        "plt.plot(ts,VolumenPC,linewidth=5)\n",
        "plt.show()"
      ],
      "execution_count": null,
      "outputs": [
        {
          "output_type": "display_data",
          "data": {
            "image/png": "[encoded data removed]",
            "text/plain": [
              "<Figure size 1080x360 with 1 Axes>"
            ]
          },
          "metadata": {
            "needs_background": "light"
          }
        }
      ]
    },
    {
      "cell_type": "markdown",
      "source": [
        "# Modelo de redes neuronales artificiales"
      ],
      "metadata": {
        "id": "SOeorsDYav9r"
      }
    },
    {
      "cell_type": "markdown",
      "source": [
        "\n",
        "El modelo cúbico asumimos que \n",
        "$$\n",
        "V(t) \\approx a\\frac{1}{1+e^{bt+ c}}+d\\frac{1}{1+e^{ft+g}}\n",
        "$$\n",
        "y queremos estimar $a,b,c,d,f$ y $g$.\n",
        "\n",
        "Creamos una función que mida la norma del residuo, o sea, el tamaño del desajuste (o tamaño del residuo) del modelo polinomial cúbico con respecto a los datos usando, por ejemplo, mínimos cuadrados, es decir, la norma euclidiana de la diferencia o residuo."
      ],
      "metadata": {
        "id": "avH2Y_rBa1Ir"
      }
    },
    {
      "cell_type": "code",
      "source": [
        "def residuoNN(par,V,tiempo):\n",
        "  a,b,c,d,f,g=par\n",
        "  t=tiempo\n",
        "  Vmodelo=a*( 1/ (1+np.exp(b*t+c)  ))+d*( 1/ (1+np.exp(f*t+g)  ))\n",
        "#  print(Vmodelo.shape)\n",
        "#  print(V.shape)\n",
        "  res=V-Vmodelo;\n",
        "  nres=np.linalg.norm(res)\n",
        "  #print(nres)\n",
        "  return nres"
      ],
      "metadata": {
        "id": "bzyrykyhbUXq"
      },
      "execution_count": null,
      "outputs": []
    },
    {
      "cell_type": "markdown",
      "source": [
        "Por ejemplo, el desajuste de usar $a=1, b=2, c=3$,  $d=4$, $f=1$ y $g=0$ es:"
      ],
      "metadata": {
        "id": "0_mqiGAerPVM"
      }
    },
    {
      "cell_type": "code",
      "source": [
        "residuoNN([1,2,3,4,1,0],Volumen,tiempo)"
      ],
      "metadata": {
        "colab": {
          "base_uri": "https://localhost:8080/"
        },
        "id": "ZxH-QvEOrOcJ",
        "outputId": "fe0f4fd2-9af5-4355-bc7b-31ef7f01e4bf"
      },
      "execution_count": null,
      "outputs": [
        {
          "output_type": "execute_result",
          "data": {
            "text/plain": [
              "34.479958323663645"
            ]
          },
          "metadata": {},
          "execution_count": 19
        }
      ]
    },
    {
      "cell_type": "markdown",
      "source": [
        "Después de calcular el valor del parámetro óptimo podemos mostrar el ajuste final de nuestro modelo."
      ],
      "metadata": {
        "id": "FHI798kTrohq"
      }
    },
    {
      "cell_type": "code",
      "source": [
        "optimoPC=op.minimize(residuoNN,[0.1,.1,.1,.1,1,0], args=(Volumen,tiempo),method='Powell')\n",
        "parametro_optimoPC=optimoPC.x\n",
        "print(optimoPC)"
      ],
      "metadata": {
        "colab": {
          "base_uri": "https://localhost:8080/"
        },
        "id": "3m_f57qfrx5u",
        "outputId": "ca2638c1-d936-4192-92d2-45b7dce0c628"
      },
      "execution_count": null,
      "outputs": [
        {
          "output_type": "stream",
          "name": "stdout",
          "text": [
            "   direc: array([[ 0.00000000e+00,  0.00000000e+00,  0.00000000e+00,\n",
            "         0.00000000e+00,  0.00000000e+00,  1.00000000e+00],\n",
            "       [ 1.41253084e-01,  2.65388760e-04, -1.14403489e-01,\n",
            "        -1.12066768e+01, -1.00644012e-02,  1.22272193e-01],\n",
            "       [-1.43082977e+00, -2.53651183e-02,  2.47108639e-01,\n",
            "         2.99947902e+01, -5.63664664e-01,  1.47702510e+00],\n",
            "       [ 0.00000000e+00,  0.00000000e+00,  0.00000000e+00,\n",
            "         1.00000000e+00,  0.00000000e+00,  0.00000000e+00],\n",
            "       [ 0.00000000e+00,  0.00000000e+00,  0.00000000e+00,\n",
            "         0.00000000e+00,  1.00000000e+00,  0.00000000e+00],\n",
            "       [ 5.21510055e-02,  8.87300266e-05, -1.42986066e-02,\n",
            "        -1.77484813e+00, -2.08636258e-03,  3.07385737e-02]])\n",
            "     fun: 3.5264010316053285\n",
            " message: 'Optimization terminated successfully.'\n",
            "    nfev: 917\n",
            "     nit: 11\n",
            "  status: 0\n",
            " success: True\n",
            "       x: array([ 8.43875529e+00, -9.55278159e-02,  1.97213303e+00, -6.53385733e+01,\n",
            "        3.18243445e-02,  3.28443135e+00])\n"
          ]
        }
      ]
    },
    {
      "cell_type": "markdown",
      "source": [
        "$$\n",
        "V(t) \\approx 8.43\\frac{1}{1+e^{(-9.5e-02)t+ 1.97}}-65\\frac{1}{1+e^{(3.1e-02)t+3.28}}\n",
        "$$"
      ],
      "metadata": {
        "id": "p79LiD9JCyEG"
      }
    },
    {
      "cell_type": "code",
      "source": [
        "ts=np.linspace(0, 60, 1000) \n",
        "V0=0.0158\n",
        "a,b,c,d,f,g=parametro_optimoPC\n",
        "VolumenNN=a*( 1/ (1+np.exp(b*ts+c)  ))+d*( 1/ (1+np.exp(f*ts+g)  ))\n",
        "plt.figure(figsize=(15,5))\n",
        "plt.scatter(tiempo,Volumen,s=50, c=Volumen)\n",
        "plt.plot(ts,VolumenNN,linewidth=5)\n",
        "plt.show()"
      ],
      "metadata": {
        "colab": {
          "base_uri": "https://localhost:8080/",
          "height": 320
        },
        "id": "y5oISl-_r8KA",
        "outputId": "66e92e6c-1ee9-4cfc-e216-352270d37d48"
      },
      "execution_count": null,
      "outputs": [
        {
          "output_type": "display_data",
          "data": {
            "image/png": "[encoded data removed]",
            "text/plain": [
              "<Figure size 1080x360 with 1 Axes>"
            ]
          },
          "metadata": {
            "needs_background": "light"
          }
        }
      ]
    },
    {
      "cell_type": "markdown",
      "metadata": {
        "id": "VZjgDrwv4yCs"
      },
      "source": [
        "# Modelo de ecuaciones diferenciales\n",
        "Considere el modelo de ecuaciones diferenciales, \n",
        "$$\n",
        "V'= aV^\\frac{2}{3}-bV,\n",
        "$$\n",
        "con $V_0=V(0)$ dado. La variable $V$ representa o aproxima el volumen del tumor en el tiempo $t$."
      ]
    },
    {
      "cell_type": "code",
      "metadata": {
        "id": "xdTVkBVxmm30"
      },
      "source": [
        "# Modelo de Bertalanffy\n",
        "def modeloBF(V, t, par):\n",
        "  a,b=par\n",
        "  dV=a*np.power(V, 2/3)-b*V;\n",
        "  return dV\n",
        "\n",
        "\n",
        "def residuoBF(par,V,tiempo):\n",
        "  V0=0.0158\n",
        "  VolumenSimulado=odeint(modeloBF, V0, tiempo, args=(par,))\n",
        "  VS=VolumenSimulado.transpose()\n",
        "  res=V-VS;\n",
        "  nres=np.linalg.norm(res)\n",
        "  #print(nres)\n",
        "  return nres"
      ],
      "execution_count": null,
      "outputs": []
    },
    {
      "cell_type": "markdown",
      "metadata": {
        "id": "GtEfgLf-5jdf"
      },
      "source": [
        "La función residuo arriba mide el desajuste (o tamaño del residuo) de la simulación de la EDO con respecto a los datos usando mínimos cuadrados, es decir, la norma euclidiana de la diferencia o residuo. \n",
        "**Asumimos que nuestro modelo de observación mide directamente el tamaño del tumor.  Es decir, el desajuste se mide directamente con la diferencia del modelo contra los datos.**\n",
        "\n",
        "\n",
        "Por ejemplo el desajuste de usar $a=1$ y $b=1$ en el modelo es de:\n"
      ]
    },
    {
      "cell_type": "code",
      "metadata": {
        "colab": {
          "base_uri": "https://localhost:8080/"
        },
        "id": "4SF7o7wDo-Ql",
        "outputId": "ca2caaf6-2d22-424a-e985-ddfe89c3ae92"
      },
      "source": [
        "residuoBF([1,1],Volumen,tiempo)\n"
      ],
      "execution_count": null,
      "outputs": [
        {
          "output_type": "execute_result",
          "data": {
            "text/plain": [
              "29.11640743560965"
            ]
          },
          "metadata": {},
          "execution_count": 24
        }
      ]
    },
    {
      "cell_type": "markdown",
      "metadata": {
        "id": "aG2s21Z16P7d"
      },
      "source": [
        "Ahora usamos una librería de optimización para calcular el valor del parámetro óptimo aproximado."
      ]
    },
    {
      "cell_type": "code",
      "metadata": {
        "colab": {
          "base_uri": "https://localhost:8080/"
        },
        "id": "zNk1M8F9ptuw",
        "outputId": "79d0a3d5-2cbb-4da4-99ff-789a70d3759b"
      },
      "source": [
        "optimo=op.minimize(residuoBF,[1,1], args=(Volumen,tiempo), method='Nelder-Mead')\n",
        "parametro_optimo=optimo.x\n",
        "print(optimo)"
      ],
      "execution_count": null,
      "outputs": [
        {
          "output_type": "stream",
          "name": "stdout",
          "text": [
            " final_simplex: (array([[0.40115733, 0.19711753],\n",
            "       [0.40108573, 0.19706832],\n",
            "       [0.40120756, 0.19714372]]), array([3.56902916, 3.5690299 , 3.56903015]))\n",
            "           fun: 3.569029162397135\n",
            "       message: 'Optimization terminated successfully.'\n",
            "          nfev: 94\n",
            "           nit: 49\n",
            "        status: 0\n",
            "       success: True\n",
            "             x: array([0.40115733, 0.19711753])\n"
          ]
        }
      ]
    },
    {
      "cell_type": "markdown",
      "metadata": {
        "id": "y1CKrUEy6dI7"
      },
      "source": [
        " \n",
        "Después de calcular el valor del parámetro óptimo podemos mostrar el ajuste final de nuestro modelo. \n"
      ]
    },
    {
      "cell_type": "code",
      "metadata": {
        "colab": {
          "base_uri": "https://localhost:8080/",
          "height": 320
        },
        "id": "pYNvrkMLrdfp",
        "outputId": "9546934b-618c-4947-ae21-6e8b05b320c6"
      },
      "source": [
        "tiempo_simulacion=3.46+np.linspace(0, 80, 1000) \n",
        "V0=0.0158\n",
        "VolumenBF=odeint(modeloBF, V0, tiempo_simulacion, args=(parametro_optimo,))\n",
        "plt.figure(figsize=(15,5))\n",
        "plt.scatter(tiempo,Volumen,s=50, c=Volumen)\n",
        "plt.plot(tiempo_simulacion,VolumenBF,linewidth=5)\n",
        "plt.show()"
      ],
      "execution_count": null,
      "outputs": [
        {
          "output_type": "display_data",
          "data": {
            "image/png": "[encoded data removed]",
            "text/plain": [
              "<Figure size 1080x360 with 1 Axes>"
            ]
          },
          "metadata": {
            "needs_background": "light"
          }
        }
      ]
    },
    {
      "cell_type": "markdown",
      "source": [
        "# Problemas"
      ],
      "metadata": {
        "id": "yyNoeOQb2Em2"
      }
    },
    {
      "cell_type": "markdown",
      "source": [
        "**1.** Considere el modelo polinomial de grado 1 y 3. Proponga un modelo polinomial de grado 4. Escriba las rutinas necesarias para optimizar los valores de los parámetros de este modelo de grado 4. Muestre el ajuste obtenido. Intente con diferentes valores iniciales de los parámetros y seleccione los valores calculados que arrojen un menor valor del residuo. Puede usar listas e índices para la identificación de los parámetros. \n",
        " \n",
        "**2.** Considere ahora el modelo de redes neuronales artificiales presentado arriba. Esta red neuronal artificial tiene una capa y dos neuronas. Agregue una tercera neurona.  Escriba las rutinas necesarias para optimizar los valores de los parámetros de este modelo con tres neuronas. Muestre el ajuste obtenido. Intente con diferentes valores iniciales de los parámetros y seleccione los valores calculados que arrojen un menor valor del residuo. Puede usar listas e índices para la identificación de los parámetros. \n",
        "\n",
        "**3** Construya, para un conjunto de datos seleccionados, un modelo que considere adecuado y ajuste los valores de los parámetros. Es decir, repita el ejercicio arriba para otro conjunto de datos. \n",
        "Puede usar librerías de aprendizaje de máquina, de interpolación o de ajustes diferentes a las mostradas en clase. Por ejemplo, puede usar los datos de la tabla anexa (https://saludata.saludcapital.gov.co/osb/index.php/datos-de-salud/enfermedades-trasmisibles/ocupacion-ucis/). \n",
        "\n",
        "\n",
        "|Fecha |Camas UCI Covid-19|\n",
        "|---|---|\n",
        "|1/01/2022| 222|\n",
        "|2/01/2022| 209|\n",
        "|3/01/2022|217|\n",
        "|4/01/2022| 245|\n",
        "|5/01/2022| 252|\n",
        "|6/01/2022| 278|\n",
        "|7/01/2022| 291|\n",
        "|8/01/2022| 299|\n",
        "|9/01/2022| 302|\n",
        "|10/01/2022| 292|\n",
        "|11/01/2022| 311|\n",
        "|12/01/2022| 306|\n",
        "|13/01/2022| 326|\n",
        "|14/01/2022| 332|\n",
        "|15/01/2022| 368|\n",
        "|16/01/2022| 356|\n",
        "|17/01/2022| 373|\n",
        "|18/01/2022| 397|\n",
        "|19/01/2022| 410|\n",
        "|20/01/2022| 431|\n",
        "\n",
        "Puede usar los modelos vistos en clase y algunos adicionales como\n",
        "\n",
        "\n",
        "$$y=A\\frac{1}{x}+B$$\n",
        "$$y=\\frac{D}{x+C}$$\n",
        "$$y=\\frac{x}{Ax+B}$$\n",
        "$$y=Ce^{Ax}$$\n",
        "$$y=Cx^A$$\n",
        "$$y=(Ax+b)^{-2}$$\n",
        "$$y=Cxe^{-Dx}$$\n",
        "$$y=\\frac{L}{1+Ce^{Ax}}$$\n",
        "\n",
        "entre otros. "
      ],
      "metadata": {
        "id": "NXEaWioi2ufg"
      }
    }
  ]
}