{
  "nbformat": 4,
  "nbformat_minor": 0,
  "metadata": {
    "colab": {
      "name": "Copia de Carlos Andres Del Valle Urberuaga - EcuacionesLineales.ipynb",
      "provenance": [],
      "collapsed_sections": []
    },
    "kernelspec": {
      "name": "python3",
      "display_name": "Python 3"
    },
    "language_info": {
      "name": "python"
    }
  },
  "cells": [
    {
      "cell_type": "markdown",
      "metadata": {
        "id": "xpYVGLKCEsoc"
      },
      "source": [
        "## Prerequisitos\n",
        "Usarememos numpy y linalg de scipy (que incluye mucho de numpy.linalg)"
      ]
    },
    {
      "cell_type": "code",
      "metadata": {
        "id": "96Iru7rGEgfh"
      },
      "source": [
        "import matplotlib.pyplot as plt\n",
        "import numpy as np\n",
        "import scipy.linalg as la\n",
        "import scipy.io as io\n",
        "import scipy.sparse as sp\n",
        "np.set_printoptions(formatter={'float': '{: 0.4f}'.format})\n",
        "import pprint\n",
        "import urllib.request"
      ],
      "execution_count": null,
      "outputs": []
    },
    {
      "cell_type": "markdown",
      "metadata": {
        "id": "TTdPrYh2Fawu"
      },
      "source": [
        " **scipy.linalg**  contiene todas las funciones de **numpy.linalg** y algunas otras. **scipy.linalg** usa BLAS/LAPACK por defecto. Se aconseja \n",
        "usar **scipy.linalg** a menos que se tenga una razón de peso para no hacerlo. \n"
      ]
    },
    {
      "cell_type": "markdown",
      "metadata": {
        "id": "hf2Hzz92_3Ni"
      },
      "source": [
        "## Métodos directos\n",
        "Presentamos algunos comandos relacionados con la solución de sistemas lineales por métodos directos."
      ]
    },
    {
      "cell_type": "markdown",
      "metadata": {
        "id": "-alj3AwHLFqQ"
      },
      "source": [
        "### Normas "
      ]
    },
    {
      "cell_type": "code",
      "source": [
        "x=np.array([1,2,3,-4])\n",
        "la.norm(x,1)"
      ],
      "metadata": {
        "colab": {
          "base_uri": "https://localhost:8080/"
        },
        "id": "bHqq68Y7Oxup",
        "outputId": "dc978974-cc65-4e50-9178-afbc47bcbfc9"
      },
      "execution_count": null,
      "outputs": [
        {
          "output_type": "execute_result",
          "data": {
            "text/plain": [
              "10.0"
            ]
          },
          "metadata": {},
          "execution_count": 2
        }
      ]
    },
    {
      "cell_type": "code",
      "source": [
        "la.norm(x,2) #Euclidiana"
      ],
      "metadata": {
        "colab": {
          "base_uri": "https://localhost:8080/"
        },
        "id": "5zfQyX0yRcbh",
        "outputId": "b94d6c82-6e69-4deb-a3ce-75a0fe5e820b"
      },
      "execution_count": null,
      "outputs": [
        {
          "output_type": "execute_result",
          "data": {
            "text/plain": [
              "5.477225575051661"
            ]
          },
          "metadata": {},
          "execution_count": 3
        }
      ]
    },
    {
      "cell_type": "code",
      "source": [
        "la.norm(x,np.Inf)"
      ],
      "metadata": {
        "colab": {
          "base_uri": "https://localhost:8080/"
        },
        "id": "H7wE5B5mRkkX",
        "outputId": "478513b7-b4ea-4df5-9f98-2d39128d1836"
      },
      "execution_count": null,
      "outputs": [
        {
          "output_type": "execute_result",
          "data": {
            "text/plain": [
              "4.0"
            ]
          },
          "metadata": {},
          "execution_count": 4
        }
      ]
    },
    {
      "cell_type": "code",
      "metadata": {
        "colab": {
          "base_uri": "https://localhost:8080/"
        },
        "id": "W7TxbVj1LJNb",
        "outputId": "da89f371-6fe3-4cb6-eb28-514b22f558a8"
      },
      "source": [
        "A=np.array([[0, 0, 1],\n",
        "       [-1,  2,  2],\n",
        "       [ 1, 2,  1]])\n",
        "print(A)\n",
        "print('La norma  2 de la matrix extendida a vector  es = ',la.norm(A)) #máximo valor singular\n",
        "print('La norma de Frobenious es = ',la.norm(A,'fro')) # Frobenius\n",
        "print('La norma subordinada 1 es = ',la.norm(A,1))\n",
        "print('La norma subordinada 2 es = ', la.norm(A,2))\n",
        "print('La norma subordinada Inf es = ', la.norm(A,np.Inf))"
      ],
      "execution_count": null,
      "outputs": [
        {
          "output_type": "stream",
          "name": "stdout",
          "text": [
            "[[ 0  0  1]\n",
            " [-1  2  2]\n",
            " [ 1  2  1]]\n",
            "La norma  2 de la matrix extendida a vector  es =  4.0\n",
            "La norma de Frobenious es =  4.0\n",
            "La norma subordinada 1 es =  4.0\n",
            "La norma subordinada 2 es =  3.622222345931449\n",
            "La norma subordinada Inf es =  5.0\n"
          ]
        }
      ]
    },
    {
      "cell_type": "markdown",
      "metadata": {
        "id": "WeqXAN6rE5B1"
      },
      "source": [
        "### Factorización $A=PLU$ y Cholesky"
      ]
    },
    {
      "cell_type": "markdown",
      "metadata": {
        "id": "Q84YMaKV9qZ6"
      },
      "source": [
        "Calculemos la factorización $A=PLU$ de una matriz $4\\times 4$."
      ]
    },
    {
      "cell_type": "code",
      "metadata": {
        "colab": {
          "base_uri": "https://localhost:8080/"
        },
        "id": "7JbMg460E99G",
        "outputId": "ce8444e6-9b8d-4c8c-e246-08e51828bff6"
      },
      "source": [
        "A = np.array([[2, 5, 8, 7], [5, 2, 2, 8], [7, 5, 6, 6], [5, 4, 4, 8]])\n",
        "p, l, u = la.lu(A)\n",
        "print('Matriz de permutación:\\n',p,'\\n')\n",
        "print('Matriz triangular inferior\\n',l,'\\n')\n",
        "print('Matriz triangular superior\\n',u,'\\n')"
      ],
      "execution_count": null,
      "outputs": [
        {
          "output_type": "stream",
          "name": "stdout",
          "text": [
            "Matriz de permutación:\n",
            " [[ 0.0000  1.0000  0.0000  0.0000]\n",
            " [ 0.0000  0.0000  0.0000  1.0000]\n",
            " [ 1.0000  0.0000  0.0000  0.0000]\n",
            " [ 0.0000  0.0000  1.0000  0.0000]] \n",
            "\n",
            "Matriz triangular inferior\n",
            " [[ 1.0000  0.0000  0.0000  0.0000]\n",
            " [ 0.2857  1.0000  0.0000  0.0000]\n",
            " [ 0.7143  0.1200  1.0000  0.0000]\n",
            " [ 0.7143 -0.4400 -0.4615  1.0000]] \n",
            "\n",
            "Matriz triangular superior\n",
            " [[ 7.0000  5.0000  6.0000  6.0000]\n",
            " [ 0.0000  3.5714  6.2857  5.2857]\n",
            " [ 0.0000  0.0000 -1.0400  3.0800]\n",
            " [ 0.0000  0.0000  0.0000  7.4615]] \n",
            "\n"
          ]
        }
      ]
    },
    {
      "cell_type": "markdown",
      "metadata": {
        "id": "bCqKO0YT-Ovo"
      },
      "source": [
        "Ahora calculemos la factorización para la matriz de Hilbert."
      ]
    },
    {
      "cell_type": "code",
      "metadata": {
        "colab": {
          "base_uri": "https://localhost:8080/"
        },
        "id": "a7sBO26YGfmj",
        "outputId": "686665ac-c8c5-4d00-fbd9-1a8f9245844c"
      },
      "source": [
        "H=la.hilbert(9)\n",
        "print('H=\\n',H)"
      ],
      "execution_count": null,
      "outputs": [
        {
          "output_type": "stream",
          "name": "stdout",
          "text": [
            "H=\n",
            " [[ 1.0000  0.5000  0.3333  0.2500  0.2000  0.1667  0.1429  0.1250  0.1111]\n",
            " [ 0.5000  0.3333  0.2500  0.2000  0.1667  0.1429  0.1250  0.1111  0.1000]\n",
            " [ 0.3333  0.2500  0.2000  0.1667  0.1429  0.1250  0.1111  0.1000  0.0909]\n",
            " [ 0.2500  0.2000  0.1667  0.1429  0.1250  0.1111  0.1000  0.0909  0.0833]\n",
            " [ 0.2000  0.1667  0.1429  0.1250  0.1111  0.1000  0.0909  0.0833  0.0769]\n",
            " [ 0.1667  0.1429  0.1250  0.1111  0.1000  0.0909  0.0833  0.0769  0.0714]\n",
            " [ 0.1429  0.1250  0.1111  0.1000  0.0909  0.0833  0.0769  0.0714  0.0667]\n",
            " [ 0.1250  0.1111  0.1000  0.0909  0.0833  0.0769  0.0714  0.0667  0.0625]\n",
            " [ 0.1111  0.1000  0.0909  0.0833  0.0769  0.0714  0.0667  0.0625  0.0588]]\n"
          ]
        }
      ]
    },
    {
      "cell_type": "code",
      "metadata": {
        "colab": {
          "base_uri": "https://localhost:8080/"
        },
        "id": "_usuSB5dHjp2",
        "outputId": "75169e84-e66f-4dfb-f66e-f5f398b867b2"
      },
      "source": [
        "p, l, u = la.lu(H)\n",
        "res=H-p@l@u\n",
        "print('pA-LU=\\n',res)\n",
        "print('La norma Inf del residuo es ',la.norm(res,np.Inf))\n",
        "print('La norma 2 del residuo es ', la.norm(res,2))"
      ],
      "execution_count": null,
      "outputs": [
        {
          "output_type": "stream",
          "name": "stdout",
          "text": [
            "pA-LU=\n",
            " [[ 0.0000  0.0000  0.0000  0.0000  0.0000  0.0000  0.0000  0.0000  0.0000]\n",
            " [ 0.0000  0.0000  0.0000  0.0000  0.0000 -0.0000  0.0000  0.0000 -0.0000]\n",
            " [ 0.0000  0.0000  0.0000  0.0000  0.0000  0.0000  0.0000  0.0000  0.0000]\n",
            " [ 0.0000  0.0000 -0.0000  0.0000  0.0000 -0.0000  0.0000 -0.0000  0.0000]\n",
            " [ 0.0000  0.0000  0.0000  0.0000  0.0000  0.0000  0.0000  0.0000  0.0000]\n",
            " [ 0.0000  0.0000  0.0000  0.0000  0.0000  0.0000  0.0000  0.0000  0.0000]\n",
            " [ 0.0000  0.0000  0.0000  0.0000  0.0000  0.0000  0.0000 -0.0000  0.0000]\n",
            " [ 0.0000  0.0000 -0.0000  0.0000 -0.0000  0.0000  0.0000  0.0000  0.0000]\n",
            " [ 0.0000  0.0000  0.0000  0.0000  0.0000  0.0000  0.0000  0.0000 -0.0000]]\n",
            "La norma Inf del residuo es  5.551115123125783e-17\n",
            "La norma 2 del residuo es  4.3091695835249104e-17\n"
          ]
        }
      ]
    },
    {
      "cell_type": "markdown",
      "metadata": {
        "id": "b4xUEDnzOygd"
      },
      "source": [
        "Calculemos la permutación de la factorización $A=PLU$ para una matriz diagonal dominante."
      ]
    },
    {
      "cell_type": "code",
      "metadata": {
        "id": "pRrx8ByPIKVn",
        "colab": {
          "base_uri": "https://localhost:8080/"
        },
        "outputId": "5ef5ad44-51f1-4a8f-abdc-bfbb86e6d829"
      },
      "source": [
        "A = np.array([[5, -1, 2, -1], [-1, 5, 0, 1], [0, -1, 4, 2], [1, 1, 1, 5]])\n",
        "p, l, u = la.lu(A)\n",
        "print(p)"
      ],
      "execution_count": null,
      "outputs": [
        {
          "output_type": "stream",
          "name": "stdout",
          "text": [
            "[[ 1.0000  0.0000  0.0000  0.0000]\n",
            " [ 0.0000  1.0000  0.0000  0.0000]\n",
            " [ 0.0000  0.0000  1.0000  0.0000]\n",
            " [ 0.0000  0.0000  0.0000  1.0000]]\n"
          ]
        }
      ]
    },
    {
      "cell_type": "markdown",
      "metadata": {
        "id": "J9OS-PF3_Kgp"
      },
      "source": [
        "Calculemos ahora la factorización de Cholesky de una matri de la forma $A^TA$ con $A$ aleatoria. "
      ]
    },
    {
      "cell_type": "code",
      "metadata": {
        "colab": {
          "base_uri": "https://localhost:8080/"
        },
        "id": "ejshwODcOuYF",
        "outputId": "5ad98d07-7f2f-441f-e335-96ad9e74a784"
      },
      "source": [
        "A=np.random.rand(4,4)\n",
        "B=A.transpose()@A\n",
        "r=la.cholesky(B)\n",
        "print(r)"
      ],
      "execution_count": null,
      "outputs": [
        {
          "output_type": "stream",
          "name": "stdout",
          "text": [
            "[[ 0.8322  0.7293  0.6074  0.6297]\n",
            " [ 0.0000  1.1335  1.0471  0.7100]\n",
            " [ 0.0000  0.0000  0.5938  0.7046]\n",
            " [ 0.0000  0.0000  0.0000  0.5140]]\n"
          ]
        }
      ]
    },
    {
      "cell_type": "markdown",
      "metadata": {
        "id": "lRFppWvXQrym"
      },
      "source": [
        "### Sistemas lineales"
      ]
    },
    {
      "cell_type": "markdown",
      "metadata": {
        "id": "c-W953fD_WcZ"
      },
      "source": [
        "Resolver un sistema lineal general."
      ]
    },
    {
      "cell_type": "code",
      "metadata": {
        "colab": {
          "base_uri": "https://localhost:8080/"
        },
        "id": "bzSP0QJ_QtPl",
        "outputId": "9fccd593-56ab-4129-f8f6-d18b70d98467"
      },
      "source": [
        "A = np.array([[3, 2, 0], [1, -1, 0], [0, 5, 1]])\n",
        "b = np.array([2, 4, -1])\n",
        "x = la.solve(A, b)\n",
        "res=b-A@x\n",
        "print('x=',x.transpose())\n",
        "print('res=',la.norm(res))\n"
      ],
      "execution_count": null,
      "outputs": [
        {
          "output_type": "stream",
          "name": "stdout",
          "text": [
            "x= [ 2.0000 -2.0000  9.0000]\n",
            "res= 0.0\n"
          ]
        }
      ]
    },
    {
      "cell_type": "markdown",
      "metadata": {
        "id": "GnBnFCc1_bF0"
      },
      "source": [
        "Otro sistema lineal con una matriz mal condicionada es el siguiente."
      ]
    },
    {
      "cell_type": "code",
      "metadata": {
        "colab": {
          "base_uri": "https://localhost:8080/"
        },
        "id": "L0nQcGXxQ2mm",
        "outputId": "a6b4e2a4-c76f-499d-b08b-60bb62ac9b36"
      },
      "source": [
        "A=la.hilbert(15)\n",
        "b=np.ones([15,1])\n",
        "x=la.solve(A,b)\n",
        "res=b-A@x\n",
        "la.norm(res)"
      ],
      "execution_count": null,
      "outputs": [
        {
          "output_type": "stream",
          "name": "stderr",
          "text": [
            "/usr/local/lib/python3.7/dist-packages/ipykernel_launcher.py:3: LinAlgWarning: Ill-conditioned matrix (rcond=8.18724e-19): result may not be accurate.\n",
            "  This is separate from the ipykernel package so we can avoid doing imports until\n"
          ]
        },
        {
          "output_type": "execute_result",
          "data": {
            "text/plain": [
              "1.8515526644951704e-08"
            ]
          },
          "metadata": {},
          "execution_count": 12
        }
      ]
    },
    {
      "cell_type": "markdown",
      "metadata": {
        "id": "-UJTq-m5Ssoj"
      },
      "source": [
        "Recuerde que $rcond=8.18724e-19$ es un estimado del recíproco del número de condición de la matriz del sistema lineal. En esta caso \n",
        "$\\kappa(A)\\approx 10^{19}$. Tenemos un residuo del orden de $1.85\\times 10^{-8}$."
      ]
    },
    {
      "cell_type": "markdown",
      "metadata": {
        "id": "5xVNvY8OAArC"
      },
      "source": [
        "##Iteraciones"
      ]
    },
    {
      "cell_type": "code",
      "metadata": {
        "id": "vXLB7R_xDzFj",
        "colab": {
          "base_uri": "https://localhost:8080/"
        },
        "outputId": "3ce672f0-5ef8-4ede-e24e-08d425f14d53"
      },
      "source": [
        "def jacobisolver(A,b,tol,Maxiter=25,x=None):\n",
        "    # x inicial en caso no se tenga                                                                                                                                                            \n",
        "    if x is None:\n",
        "        x = zeros(len(A[0]))\n",
        "    #A=D-L-U y R=A-D=-L-U;                                                                                                                                                                \n",
        "    D = np.diag(np.diag(A))\n",
        "\n",
        "    #Interation                                                                                                                                                                          \n",
        "    for i in range(Maxiter):\n",
        "        r=b-np.dot(A,x)\n",
        "        nr=la.norm(r)\n",
        "        print('norm(r(',i,'))=',nr)\n",
        "        if nr<tol:\n",
        "          break        \n",
        "        delta=la.solve(D, r)\n",
        "        x = x+delta\n",
        "    return x\n",
        "\n",
        "A = np.array([[2.0,1.0],[5.0,7.0]])\n",
        "b = np.array([11.0,13.0])\n",
        "guess = np.array([1.0,1.0])\n",
        "\n",
        "sol = jacobisolver(A,b,0.00001,Maxiter=100,x=guess)\n",
        "\n",
        "print(\"A:\")\n",
        "print(A)\n",
        "\n",
        "print(\"b:\")\n",
        "print(b)\n",
        "\n",
        "print (\"x:\")\n",
        "print(sol)"
      ],
      "execution_count": null,
      "outputs": [
        {
          "output_type": "stream",
          "name": "stdout",
          "text": [
            "norm(r( 0 ))= 8.06225774829855\n",
            "norm(r( 1 ))= 20.000510197574094\n",
            "norm(r( 2 ))= 2.8793777672494825\n",
            "norm(r( 3 ))= 7.143039356276462\n",
            "norm(r( 4 ))= 1.0283492025891017\n",
            "norm(r( 5 ))= 2.5510854843844535\n",
            "norm(r( 6 ))= 0.36726757235325247\n",
            "norm(r( 7 ))= 0.911101958708741\n",
            "norm(r( 8 ))= 0.13116699012616342\n",
            "norm(r( 9 ))= 0.32539355668169445\n",
            "norm(r( 10 ))= 0.04684535361648634\n",
            "norm(r( 11 ))= 0.11621198452917507\n",
            "norm(r( 12 ))= 0.016730483434460305\n",
            "norm(r( 13 ))= 0.04150428018899745\n",
            "norm(r( 14 ))= 0.005975172655166063\n",
            "norm(r( 15 ))= 0.014822957210355727\n",
            "norm(r( 16 ))= 0.002133990233987848\n",
            "norm(r( 17 ))= 0.0052939132894127576\n",
            "norm(r( 18 ))= 0.0007621393692812169\n",
            "norm(r( 19 ))= 0.0018906833176474099\n",
            "norm(r( 20 ))= 0.0002721926318847325\n",
            "norm(r( 21 ))= 0.0006752440420146464\n",
            "norm(r( 22 ))= 9.721165424498798e-05\n",
            "norm(r( 23 ))= 0.00024115858643596378\n",
            "norm(r( 24 ))= 3.471844794583464e-05\n",
            "norm(r( 25 ))= 8.612806658643426e-05\n",
            "norm(r( 26 ))= 1.2399445696986865e-05\n",
            "norm(r( 27 ))= 3.0760023784682106e-05\n",
            "norm(r( 28 ))= 4.4283734631151675e-06\n",
            "A:\n",
            "[[ 2.0000  1.0000]\n",
            " [ 5.0000  7.0000]]\n",
            "b:\n",
            "[ 11.0000  13.0000]\n",
            "x:\n",
            "[ 7.1111 -3.2222]\n"
          ]
        }
      ]
    },
    {
      "cell_type": "markdown",
      "metadata": {
        "id": "vvZ6CrVh6-6y"
      },
      "source": [
        "## Matrices dispersas"
      ]
    },
    {
      "cell_type": "markdown",
      "metadata": {
        "id": "yEYPWKBML3Lu"
      },
      "source": [
        "Consideremos un ejemplo de una matriz dispersa en https://suitesparse-collection-website.herokuapp.com/. En particular la matriz correspondiente a: *HB/1138_bus\n",
        "S ADMITTANCE MATRIX 1138 BUS POWER SYSTEM, D.J.TYLAVSKY, JULY 1985.*"
      ]
    },
    {
      "cell_type": "code",
      "metadata": {
        "colab": {
          "base_uri": "https://localhost:8080/"
        },
        "id": "CL7bCp6l7A8k",
        "outputId": "2ab189fc-b24d-4bfd-9e4c-6ca69e7a1940"
      },
      "source": [
        "import requests\n",
        "# Import to a python dictionary\n",
        "url = \"https://suitesparse-collection-website.herokuapp.com/mat/HB/494_bus.mat\"\n",
        "file = requests.get(url, allow_redirects=True)\n",
        "\n",
        "open('bus494.mat', 'wb').write(file.content)\n"
      ],
      "execution_count": null,
      "outputs": [
        {
          "output_type": "execute_result",
          "data": {
            "text/plain": [
              "12824"
            ]
          },
          "metadata": {},
          "execution_count": 14
        }
      ]
    },
    {
      "cell_type": "markdown",
      "metadata": {
        "id": "_XMGyQRoMlMC"
      },
      "source": [
        "Después de descargar el archivo .mat, exploramos la estructura de datos para localizar la matriz dispersa. Podemos mirar el patrón de dispersión (gráfico en dos dimensiones con un punto en el lugar de las entradas diferentes de cero)."
      ]
    },
    {
      "cell_type": "code",
      "metadata": {
        "colab": {
          "base_uri": "https://localhost:8080/",
          "height": 612
        },
        "id": "maX3HV0cA-Le",
        "outputId": "4ade2368-c688-4c7b-9e09-702fe666adb8"
      },
      "source": [
        "mat = io.loadmat('bus494')\n",
        "#print(mat)\n",
        "A=mat['Problem']['A']\n",
        "B=A[0]\n",
        "C=B[0]\n",
        "D=sp.csr_matrix.toarray(C)\n",
        "print(type(D))\n",
        "plt.figure(figsize=(10, 10))\n",
        "plt.spy(D)\n",
        "plt.show()"
      ],
      "execution_count": null,
      "outputs": [
        {
          "output_type": "stream",
          "name": "stdout",
          "text": [
            "<class 'numpy.ndarray'>\n"
          ]
        },
        {
          "output_type": "display_data",
          "data": {
            "image/png": "[encoded data removed]",
            "text/plain": [
              "<Figure size 720x720 with 1 Axes>"
            ]
          },
          "metadata": {
            "needs_background": "light"
          }
        }
      ]
    },
    {
      "cell_type": "markdown",
      "metadata": {
        "id": "GCM5gF10MeRh"
      },
      "source": [
        "Observemos el efecto de la factorización LU en el patrón de dispersión."
      ]
    },
    {
      "cell_type": "code",
      "metadata": {
        "colab": {
          "base_uri": "https://localhost:8080/",
          "height": 286
        },
        "id": "VdRzF0RZKB8w",
        "outputId": "f18dda95-b110-4c2f-d189-795833237577"
      },
      "source": [
        "p,l,u=la.lu(D)\n",
        "plt.spy(u)"
      ],
      "execution_count": null,
      "outputs": [
        {
          "output_type": "execute_result",
          "data": {
            "text/plain": [
              "<matplotlib.image.AxesImage at 0x7f6cea478d90>"
            ]
          },
          "metadata": {},
          "execution_count": 16
        },
        {
          "output_type": "display_data",
          "data": {
            "image/png": "[encoded data removed]",
            "text/plain": [
              "<Figure size 432x288 with 1 Axes>"
            ]
          },
          "metadata": {
            "needs_background": "light"
          }
        }
      ]
    },
    {
      "cell_type": "code",
      "metadata": {
        "colab": {
          "base_uri": "https://localhost:8080/"
        },
        "id": "Gsh9haogNtPw",
        "outputId": "9b818653-9a84-488d-813a-b6227aca88f3"
      },
      "source": [
        "print(np.linalg.cond(D))"
      ],
      "execution_count": null,
      "outputs": [
        {
          "output_type": "stream",
          "name": "stdout",
          "text": [
            "2415411.0174664636\n"
          ]
        }
      ]
    },
    {
      "cell_type": "markdown",
      "metadata": {
        "id": "z5Ed1f6RWMkV"
      },
      "source": [
        "# Problemas (Selecciones 2 de los 4)\n"
      ]
    },
    {
      "cell_type": "markdown",
      "metadata": {
        "id": "aXXXQKtHbVAw"
      },
      "source": [
        "## Problema 1\n",
        "Considere la matriz de segundas diferencias $A$ definida por \n",
        "$$a_{ij}=\\left\\{\\begin{array}{cl}\n",
        "-2, & i=j,\\\\\n",
        "1, & |j-i|=1,\\\\\n",
        "0, & |j-i|>1.\n",
        "\\end{array} \\right.$$\n",
        "\n",
        "1.   Que propiedades puede listar de las matrices de segundas diferencias\n",
        "2.   Investigue como medir el tiempo de ejecución de un comando en python o MatLab y \n",
        "calcule el tiempo de resolver un sistema  $Ax=b$ con solve usando $A$, una matriz de \n",
        " segundas diferencias de segundo orden de dimension $n=16,32,64,128,\\dots$. Tome  $b=(1,1,\\dots,1)^T.$. Grafique los tiempo de ejecución contra la dimension de la matriz.\n",
        "3. Repita con la matriz de Hilbert.\n",
        "4. Comente los resultados.\n",
        "\n",
        "\n"
      ]
    },
    {
      "cell_type": "markdown",
      "metadata": {
        "id": "FpZtQD27WS3q"
      },
      "source": [
        "## Problema 2\n",
        "Considere la matriz de Hilbert $H(n)$ con $n=4,5,6,\\dots$.\n",
        "\n",
        "\n",
        "1.   Para $n=5,6,7,\\dots, 20$ calcule $\\lambda(n)$ el menor valor propio de $H(n)$. Grafique este vector como función de $n$. \n",
        "2.  Calcule la factorización de Cholesky de $H(20)$.  \n",
        "Teoricamente $H(20)$  un matriz positiva definida. Explique.\n",
        "3. **Opcional** Proponga como calcular una paroximación de  $R(n)$ de la factorización de Cholesky de $H(n)=R(n)^TR(n)$ con $n=15,16,...20,\\dots$. Presente un gráfico de $t(n)=tr(R(n))$ como evidencia del cálculo.\n",
        "\n",
        "\n"
      ]
    },
    {
      "cell_type": "markdown",
      "metadata": {
        "id": "k53Ch1rsYKLa"
      },
      "source": [
        "## Problema 3\n",
        "Considere la matriz en https://suitesparse-collection-website.herokuapp.com/Sybrandt/AGATHA_2015. Gráfique el patrón de dispersión de esta matriz. Liste (con justificación numérica) las propiedades de esta matriz. "
      ]
    },
    {
      "cell_type": "markdown",
      "metadata": {
        "id": "blxFOwK_Ye_Z"
      },
      "source": [
        "*Problema*\n",
        "Considere la matriz en https://suitesparse-collection-website.herokuapp.com/Sybrandt/AGATHA_2015. Use un método iterativo (diferente de Jacobi) para resolver el sistema $Ax=b$\n",
        "con $b=(1,1,\\dots,1)$.  Puede usar otra matriz de esta collección."
      ]
    },
    {
      "cell_type": "markdown",
      "metadata": {
        "id": "XEz_YOFtYuA-"
      },
      "source": [
        "## Problema 4\n",
        "Considere la matriz https://suitesparse-collection-website.herokuapp.com/Sybrandt/AGATHA_2015.  Que puede decir del problema asociado a esta matriz? "
      ]
    },
    {
      "cell_type": "markdown",
      "source": [
        "# Solución problema 1"
      ],
      "metadata": {
        "id": "HItfdmtzzDPu"
      }
    },
    {
      "cell_type": "code",
      "source": [
        "import time\n",
        "import statistics as s\n",
        "\n",
        "def fill_A(A):\n",
        "  for i in range(len(A)):\n",
        "    for j in range(len(A[i])):\n",
        "      if i==j:\n",
        "        A[i][j]=-2\n",
        "      elif abs(i-j)==1:\n",
        "        A[i][j]=1\n",
        "\n",
        "\n",
        "t = []\n",
        "t2 = []\n",
        "t1 = []\n",
        "samples = 200\n",
        "\n",
        "for i in range(4,12):\n",
        "  n = 2**i\n",
        "  A = np.zeros([n,n])\n",
        "  b = np.ones([n,1])\n",
        "  H=la.hilbert(n)\n",
        "  fill_A(A)\n",
        "\n",
        "  for _ in range(samples):\n",
        "    start = time.time()\n",
        "    x=la.solve(A,b)\n",
        "    end = time.time()\n",
        "    t1.append((end - start)*1000)\n",
        "\n",
        "  for _ in range(samples):\n",
        "    start = time.time()\n",
        "    x=la.solve(H,b)\n",
        "    end = time.time()\n",
        "    t2.append((end - start)*1000)\n",
        "\n",
        "  t.append([n,s.mean(t1),s.stdev(t1),s.mean(t2),s.stdev(t2)])\n",
        "\n",
        "results = np.asarray(t)\n",
        "print('n\\t t1\\t error t1\\t t2 \\t error t2')\n",
        "print(results)\n",
        "\n",
        "fig = plt.figure(1,figsize=(8,5))\n",
        "plt.errorbar(results[:,0],results[:,1],yerr=results[:,2],capsize=3, marker='o', markersize=7, linestyle='--', alpha=0.7, label='Matriz de diferencias')\n",
        "plt.errorbar(results[:,0],results[:,3],yerr=results[:,4],capsize=3, marker='s', markersize=7, linestyle='-.', alpha=0.6, label='Matriz de Hilbert')\n",
        "plt.legend()\n",
        "plt.title('Tiempo de solución',fontsize=25)\n",
        "plt.xlabel('Tamaño de la matriz',fontsize=15)\n",
        "plt.ylabel('Tiempo de ejecución [ms]',fontsize=15)\n",
        "plt.show()\n"
      ],
      "metadata": {
        "colab": {
          "base_uri": "https://localhost:8080/",
          "height": 680
        },
        "id": "ygxHyVs2zC4_",
        "outputId": "c6290036-580c-4201-9e74-27c66698bc1b"
      },
      "execution_count": null,
      "outputs": [
        {
          "output_type": "stream",
          "name": "stderr",
          "text": [
            "/usr/local/lib/python3.7/dist-packages/ipykernel_launcher.py:33: LinAlgWarning: Ill-conditioned matrix (rcond=1.1839e-19): result may not be accurate.\n",
            "/usr/local/lib/python3.7/dist-packages/ipykernel_launcher.py:33: LinAlgWarning: Ill-conditioned matrix (rcond=6.89957e-20): result may not be accurate.\n",
            "/usr/local/lib/python3.7/dist-packages/ipykernel_launcher.py:33: LinAlgWarning: Ill-conditioned matrix (rcond=1.64714e-20): result may not be accurate.\n",
            "/usr/local/lib/python3.7/dist-packages/ipykernel_launcher.py:33: LinAlgWarning: Ill-conditioned matrix (rcond=5.95281e-21): result may not be accurate.\n",
            "/usr/local/lib/python3.7/dist-packages/ipykernel_launcher.py:33: LinAlgWarning: Ill-conditioned matrix (rcond=3.77191e-21): result may not be accurate.\n",
            "/usr/local/lib/python3.7/dist-packages/ipykernel_launcher.py:33: LinAlgWarning: Ill-conditioned matrix (rcond=1.2512e-21): result may not be accurate.\n",
            "/usr/local/lib/python3.7/dist-packages/ipykernel_launcher.py:33: LinAlgWarning: Ill-conditioned matrix (rcond=2.82567e-22): result may not be accurate.\n",
            "/usr/local/lib/python3.7/dist-packages/ipykernel_launcher.py:33: LinAlgWarning: Ill-conditioned matrix (rcond=1.42244e-23): result may not be accurate.\n"
          ]
        },
        {
          "output_type": "stream",
          "name": "stdout",
          "text": [
            "n\t t1\t error t1\t t2 \t error t2\n",
            "[[ 16.0000  0.0665  0.0111  0.0786  0.0551]\n",
            " [ 32.0000  0.0797  0.0172  0.0969  0.0508]\n",
            " [ 64.0000  0.1355  0.3527  0.1536  0.2111]\n",
            " [ 128.0000  0.2308  0.3886  0.3919  1.0820]\n",
            " [ 256.0000  0.7704  1.7540  0.8411  1.4769]\n",
            " [ 512.0000  3.9332  8.4491  5.7925  12.0182]\n",
            " [ 1024.0000  14.9020  30.7991  12.3869  19.6601]\n",
            " [ 2048.0000  57.4029  116.2976  50.9831  104.7071]]\n"
          ]
        },
        {
          "output_type": "display_data",
          "data": {
            "image/png": "[encoded data removed]",
            "text/plain": [
              "<Figure size 576x360 with 1 Axes>"
            ]
          },
          "metadata": {
            "needs_background": "light"
          }
        }
      ]
    },
    {
      "cell_type": "markdown",
      "source": [
        "Los warnings son de la matriz de Hilbert. Lo que quiere decir que el resulado no es bueno. Además, el tiempo de ejecución de la matriz de diferencias tiende a ser menor al de la matriz de Hilbert al igual que la incertidumbre de la medida aunque no siempre. Los tiempos son muy cercanos. Cada sistema se resolvió 200 veces y el valor reportado es el promedio, la incertidumbre es la desviación estandar de todos los tiempos de ejecución."
      ],
      "metadata": {
        "id": "Bu_Ndw5-4ga7"
      }
    },
    {
      "cell_type": "code",
      "source": [
        "  n = 8\n",
        "  A = np.zeros([n,n])\n",
        "  fill_A(A)\n",
        "  print(A)"
      ],
      "metadata": {
        "colab": {
          "base_uri": "https://localhost:8080/"
        },
        "id": "asIvmRdS4fpQ",
        "outputId": "654c38d3-9e4d-4527-cf75-4ad2e4f8301d"
      },
      "execution_count": null,
      "outputs": [
        {
          "output_type": "stream",
          "name": "stdout",
          "text": [
            "[[-2.0000  1.0000  0.0000  0.0000  0.0000  0.0000  0.0000  0.0000]\n",
            " [ 1.0000 -2.0000  1.0000  0.0000  0.0000  0.0000  0.0000  0.0000]\n",
            " [ 0.0000  1.0000 -2.0000  1.0000  0.0000  0.0000  0.0000  0.0000]\n",
            " [ 0.0000  0.0000  1.0000 -2.0000  1.0000  0.0000  0.0000  0.0000]\n",
            " [ 0.0000  0.0000  0.0000  1.0000 -2.0000  1.0000  0.0000  0.0000]\n",
            " [ 0.0000  0.0000  0.0000  0.0000  1.0000 -2.0000  1.0000  0.0000]\n",
            " [ 0.0000  0.0000  0.0000  0.0000  0.0000  1.0000 -2.0000  1.0000]\n",
            " [ 0.0000  0.0000  0.0000  0.0000  0.0000  0.0000  1.0000 -2.0000]]\n"
          ]
        }
      ]
    },
    {
      "cell_type": "markdown",
      "source": [
        "La matríz de diferencias es tridiagonal. Además, es simétrica. Estas matrices tienen la característica especial de que el sistema $Ab=x$ se puede resolver en tiempo $O(n)$ usando el algoritmo de eliminación gausiana específicamente modificado para este tipo de matrices. Sin embargo, por los resultados de la gráfica es evidente que Scipy no utilizó el algoritmo mencionado. Si la matriz es Toeplitz, es decir, los elementos de cada diagonal tienen el mismo valor, entonces los autovalores se pueden encontrar en tiempo $O(n\\,log(n))$ usando la fórmula\n",
        "$$\n",
        "a+2\\sqrt{bc}\\cos{\\left(\\frac{k\\pi}{n+1}\\right)}.\n",
        "$$\n",
        "Donde a es el valor de un elemento de la diagonal del medio, b de la de arriba y c de la de abajo. Es evidente que esto se cumple para la matriz de diferencias.\n",
        "\n",
        "Scipy tiene una función para resolver sistemas toelpitz, también podemos comparar esto con la solución anterior para ver la mejora en el tiempo"
      ],
      "metadata": {
        "id": "sjypDeAG_qwL"
      }
    },
    {
      "cell_type": "code",
      "source": [
        "T = []\n",
        "for i in range(4,12):\n",
        "  n = 2**i\n",
        "  A = np.zeros([n,n])\n",
        "  b = np.ones([n,1])\n",
        "  fill_A(A)\n",
        "\n",
        "  for _ in range(samples):\n",
        "    start = time.time()\n",
        "    x=la.solve_toeplitz((A[0], A[:,0]),b)\n",
        "    end = time.time()\n",
        "    t1.append((end - start)*1000)\n",
        "  T.append([n,s.mean(t1),s.stdev(t1)])\n",
        "\n",
        "results2 = np.asarray(T)\n",
        "\n",
        "fig = plt.figure(1,figsize=(8,5))\n",
        "plt.errorbar(results2[:,0],results2[:,1],yerr=results2[:,2],capsize=3, marker='o', markersize=7, linestyle='--', alpha=0.7, label='Matriz de diferencias')\n",
        "plt.errorbar(results[:,0],results[:,3],yerr=results[:,4],capsize=3, marker='s', markersize=7, linestyle='-.', alpha=0.6, label='Matriz de Hilbert')\n",
        "plt.legend()\n",
        "plt.title('Tiempo de solución',fontsize=25)\n",
        "plt.xlabel('Tamaño de la matriz',fontsize=15)\n",
        "plt.ylabel('Tiempo de ejecución [ms]',fontsize=15)\n",
        "plt.show()"
      ],
      "metadata": {
        "colab": {
          "base_uri": "https://localhost:8080/",
          "height": 365
        },
        "id": "TUNYfKIZmOLd",
        "outputId": "f3ba9eae-1bb2-4f9f-d8f6-4532e893f2d0"
      },
      "execution_count": null,
      "outputs": [
        {
          "output_type": "display_data",
          "data": {
            "image/png": "[encoded data removed]",
            "text/plain": [
              "<Figure size 576x360 with 1 Axes>"
            ]
          },
          "metadata": {
            "needs_background": "light"
          }
        }
      ]
    },
    {
      "cell_type": "markdown",
      "source": [
        "# Solución problema 2"
      ],
      "metadata": {
        "id": "CDWOR5eSV3L3"
      }
    },
    {
      "cell_type": "code",
      "source": [
        "ans = []\n",
        "for n in range(4,21):\n",
        "  H = la.hilbert(n)\n",
        "  E = np.sort(la.eig(H)[0])\n",
        "  r=np.real(E[0])\n",
        "  ans.append([n,r])\n",
        "\n",
        "res = np.asarray(ans)\n",
        "plt.semilogy(res[:,0],res[:,1])\n",
        "plt.show()"
      ],
      "metadata": {
        "colab": {
          "base_uri": "https://localhost:8080/",
          "height": 265
        },
        "id": "d_tD2_OHsmqN",
        "outputId": "db17c847-12dc-49c0-b24d-1c110778e83d"
      },
      "execution_count": null,
      "outputs": [
        {
          "output_type": "display_data",
          "data": {
            "image/png": "[encoded data removed]",
            "text/plain": [
              "<Figure size 432x288 with 1 Axes>"
            ]
          },
          "metadata": {
            "needs_background": "light"
          }
        }
      ]
    },
    {
      "cell_type": "markdown",
      "source": [
        "Si fueramos a calcular la factorización de cholesky de la siguiente forma:\n",
        "```\n",
        "H = la.hilbert(20)\n",
        "r=la.cholesky(H)\n",
        "print(r)\n",
        "```\n",
        "Nos encontrariamos con un problema. El error es \n",
        "\n",
        "```\n",
        "/usr/local/lib/python3.7/dist-packages/scipy/linalg/decomp_cholesky.py in _cholesky(a, lower, overwrite_a, clean, check_finite)\n",
        "     38     if info > 0:\n",
        "     39         raise LinAlgError(\"%d-th leading minor of the array is not positive \"\n",
        "---> 40                           \"definite\" % info)\n",
        "     41     if info < 0:\n",
        "     42         raise ValueError('LAPACK reported an illegal value in {}-th argument'\n",
        "\n",
        "LinAlgError: 14-th leading minor of the array is not positive definite\n",
        "```\n",
        "Sabemos que las matrices de Hilbert son positivamente definidas. Entonces, ¿por qué falla? Veamos los autovalores de la matriz a ver que podemos descubrir."
      ],
      "metadata": {
        "id": "SlbuLVDV5qev"
      }
    },
    {
      "cell_type": "code",
      "source": [
        "H = la.hilbert(20)\n",
        "E = np.sort(la.eig(H)[0])\n",
        "print(E)"
      ],
      "metadata": {
        "colab": {
          "base_uri": "https://localhost:8080/"
        },
        "id": "rALK8vcbxXIs",
        "outputId": "3c71167d-72d8-4bff-8679-ef616757d2aa"
      },
      "execution_count": null,
      "outputs": [
        {
          "output_type": "stream",
          "name": "stdout",
          "text": [
            "[-7.75462887e-18+0.j -5.70442584e-18+0.j -2.76752623e-18+0.j\n",
            "  2.13878186e-18+0.j  8.53453453e-18+0.j  1.35184491e-17+0.j\n",
            "  3.72252638e-16+0.j  1.73805036e-14+0.j  6.74081889e-13+0.j\n",
            "  2.19289005e-11+0.j  6.03609533e-10+0.j  1.41395476e-08+0.j\n",
            "  2.82765206e-07+0.j  4.83051005e-06+0.j  7.03343147e-05+0.j\n",
            "  8.67671109e-04+0.j  8.96112861e-03+0.j  7.55958213e-02+0.j\n",
            "  4.87038407e-01+0.j  1.90713472e+00+0.j]\n"
          ]
        }
      ]
    },
    {
      "cell_type": "markdown",
      "source": [
        "Encontramos que tiene dos autovalores negativos por debajo de la presición de máquina. Lo que sugiere que es un problema de precisión numérica. La matriz de Hilbert está definida como\n",
        "$$\n",
        "H=\\frac{1}{i+j-1}, \\qquad 0< i,j<n\n",
        "$$\n",
        "La factorización de Cholesky de la matriz de Hilbert está dada por\n",
        "$$\n",
        "L_{jj}=\\sqrt{H_{j,j}-∑_{k=1}^{j-1}L^2_{j,k}}\n",
        "$$\n",
        "$$\n",
        "L_{ij}=\\frac{1}{L_{jj}}\\left(H_{ij}-\\sum_{k=1}^{j-1}L_{ik}L_{jk}\\right),\\qquad i>j\n",
        "$$\n",
        "Como los últimos valores de la matriz de hilbert son tan pequeños, la resta tiene problemas de precisión, dando un valor negativo que no se puede calcular con la raíz. Esto suele pasar cuando la matriz está muy mal condicionada. Del ejercicio 1, sabemos que este es el caso para la matriz de Hilbert. Entonces, para estos casos, es necesario buscar un algoritmo que no tenga estas sensibilidades. \n",
        "\n",
        "Las matrices de Hilbert son simétricas, entonces, no todo está perdido. Usando esta propiedad se puede buscar una factorización que no requiera calcular la raíz. \n",
        "\n",
        "Proponemos la factorización LDL donde\n",
        "$$\n",
        "H=LDL^T\n",
        "$$\n",
        "$$\n",
        "D_j=H_{jj}-\\sum_{k=1}^{j-1}L_{jk}^2D_{k}\n",
        "$$\n",
        "\n",
        "$$\n",
        "L_{ij}=\\frac{1}{D_j}\\left(H_{ij}-\\sum_{k=1}^{j-1}L_{ik}L_{jk}D_{k}\\right),\\qquad i>j\n",
        "$$\n",
        "\n",
        "Esta factorización funciona siempre que los $D_j$ no sean cero y la matriz tenga entradas reales, aunque existe una generalización para matrices con entradas imaginarias. D es una matriz diagonal, no un vector. Pero, lo más importante es que ya no debería haber problemas porque no se está calculando una raíz cuadrada. Además, las raices cuadradas computacionalmente hablando suelen ser más lentas que las otras opraciones, entonces, debería ser más rápido y estable, auqnue el resultado es menos preciso que el de la factorización de Cholesky. \n",
        "\n",
        "Scipy tiene esta factorización ya implementada, entonces"
      ],
      "metadata": {
        "id": "uysoiloA5pMP"
      }
    },
    {
      "cell_type": "code",
      "source": [
        "tr = []\n",
        "for n in range(14,30):\n",
        "  H = la.hilbert(n)\n",
        "  L,D,LT=la.ldl(H)\n",
        "  tr.append([n,np.trace(L),np.trace(L*D)])\n",
        "\n",
        "mtr = np.asarray(tr)\n",
        "fig = plt.figure(1,figsize=(8,5))\n",
        "plt.plot(mtr[:,0],mtr[:,1], marker='o', markersize=7, linestyle='--', alpha=0.7, label='Traza de L')\n",
        "plt.plot(mtr[:,0],mtr[:,2], marker='s', markersize=7, linestyle='-.', alpha=0.6, label='Traza de L*D')\n",
        "plt.legend()\n",
        "plt.title('Traza de las matrices de factorización',fontsize=25)\n",
        "plt.xlabel('Tamaño de la matriz',fontsize=15)\n",
        "plt.ylabel('Traza',fontsize=15)\n",
        "plt.show()"
      ],
      "metadata": {
        "colab": {
          "base_uri": "https://localhost:8080/",
          "height": 364
        },
        "id": "zv0f_O5Q5opI",
        "outputId": "e26271af-a131-4dbb-fbab-40843d2d3630"
      },
      "execution_count": null,
      "outputs": [
        {
          "output_type": "display_data",
          "data": {
            "image/png": "[encoded data removed]",
            "text/plain": [
              "<Figure size 576x360 with 1 Axes>"
            ]
          },
          "metadata": {
            "needs_background": "light"
          }
        }
      ]
    },
    {
      "cell_type": "markdown",
      "source": [
        "Se supone que la diagonal de la matriz L en la factorización LDL debe estar llena de unos. Por tanto hay errores numéricos en la factorización. Aún así, el comportamiento es más o menos el esperado. "
      ],
      "metadata": {
        "id": "dRw4Fw2LtP-K"
      }
    }
  ]
}