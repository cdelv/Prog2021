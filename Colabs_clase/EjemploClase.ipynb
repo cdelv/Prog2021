{
  "nbformat": 4,
  "nbformat_minor": 0,
  "metadata": {
    "colab": {
      "name": "EjemploClase.ipynb",
      "provenance": []
    },
    "kernelspec": {
      "display_name": "Python 3",
      "name": "python3"
    },
    "language_info": {
      "name": "python"
    }
  },
  "cells": [
    {
      "cell_type": "code",
      "metadata": {
        "id": "0J28QWhn-eYd"
      },
      "source": [
        "class fra:\n",
        "  num=10\n",
        "  den=20\n",
        "  nombre='Wick'"
      ],
      "execution_count": null,
      "outputs": []
    },
    {
      "cell_type": "code",
      "metadata": {
        "colab": {
          "base_uri": "https://localhost:8080/"
        },
        "id": "eN5cOWnoTjoW",
        "outputId": "ef485391-8545-4604-b310-42ab8d459476"
      },
      "source": [
        "f=fra()\n",
        "print(f.nombre)"
      ],
      "execution_count": null,
      "outputs": [
        {
          "output_type": "stream",
          "name": "stdout",
          "text": [
            "Wick\n"
          ]
        }
      ]
    },
    {
      "cell_type": "code",
      "metadata": {
        "id": "xfs3BawAUInM"
      },
      "source": [
        "x=int('1')\n",
        "r=3.2\n",
        "q=float(r)"
      ],
      "execution_count": null,
      "outputs": []
    },
    {
      "cell_type": "code",
      "metadata": {
        "id": "TmeHc0xX-n9m"
      },
      "source": [
        "class frac:\n",
        "\n",
        "  def __init__(self,x,y):\n",
        "    self.num = x\n",
        "    self.den = y"
      ],
      "execution_count": null,
      "outputs": []
    },
    {
      "cell_type": "code",
      "metadata": {
        "colab": {
          "base_uri": "https://localhost:8080/"
        },
        "id": "0KEyrAbm-xF1",
        "outputId": "2c0c59e8-5e79-4a27-ec96-177b534a7a2b"
      },
      "source": [
        "g = frac(3,5)\n",
        "g.num=4\n",
        "print('Numerador=',g.num,'y Denominador=',g.den)"
      ],
      "execution_count": null,
      "outputs": [
        {
          "output_type": "stream",
          "name": "stdout",
          "text": [
            "Numerador= 4 y Denominador= 5\n"
          ]
        }
      ]
    },
    {
      "cell_type": "code",
      "metadata": {
        "colab": {
          "base_uri": "https://localhost:8080/"
        },
        "id": "cvwNXggjmq02",
        "outputId": "be787c0e-ec91-49b6-ff5d-45929b4ad68b"
      },
      "source": [
        "frac(3,4)"
      ],
      "execution_count": null,
      "outputs": [
        {
          "output_type": "execute_result",
          "data": {
            "text/plain": [
              "<__main__.frac at 0x7fbdab3c4450>"
            ]
          },
          "metadata": {},
          "execution_count": 34
        }
      ]
    },
    {
      "cell_type": "code",
      "metadata": {
        "id": "aw3GflI8hs4n"
      },
      "source": [
        "class fraccion:\n",
        "  def __init__(self,y,x):\n",
        "    self.__numerador=x\n",
        "    self.__denominador=y   \n",
        "#    print(self.__numerador)"
      ],
      "execution_count": null,
      "outputs": []
    },
    {
      "cell_type": "code",
      "metadata": {
        "colab": {
          "base_uri": "https://localhost:8080/"
        },
        "id": "DGquGQq-kQBs",
        "outputId": "ae7bee58-b14c-480b-b24b-bed95d825a51"
      },
      "source": [
        "f=fraccion(2,3)\n",
        "f._fraccion__numerador"
      ],
      "execution_count": null,
      "outputs": [
        {
          "output_type": "stream",
          "name": "stdout",
          "text": [
            "3\n"
          ]
        },
        {
          "output_type": "execute_result",
          "data": {
            "text/plain": [
              "3"
            ]
          },
          "metadata": {},
          "execution_count": 24
        }
      ]
    },
    {
      "cell_type": "code",
      "metadata": {
        "colab": {
          "base_uri": "https://localhost:8080/",
          "height": 165
        },
        "id": "8YeKdd_KkkyQ",
        "outputId": "ef56b666-e8df-4212-ef8d-6df1c629538a"
      },
      "source": [
        "f.__numerador"
      ],
      "execution_count": null,
      "outputs": [
        {
          "output_type": "error",
          "ename": "AttributeError",
          "evalue": "ignored",
          "traceback": [
            "\u001b[0;31m---------------------------------------------------------------------------\u001b[0m",
            "\u001b[0;31mAttributeError\u001b[0m                            Traceback (most recent call last)",
            "\u001b[0;32m<ipython-input-22-ee6df4352276>\u001b[0m in \u001b[0;36m<module>\u001b[0;34m()\u001b[0m\n\u001b[0;32m----> 1\u001b[0;31m \u001b[0mf\u001b[0m\u001b[0;34m.\u001b[0m\u001b[0m__numerador\u001b[0m\u001b[0;34m\u001b[0m\u001b[0;34m\u001b[0m\u001b[0m\n\u001b[0m",
            "\u001b[0;31mAttributeError\u001b[0m: 'fraccion' object has no attribute '__numerador'"
          ]
        }
      ]
    },
    {
      "cell_type": "code",
      "metadata": {
        "colab": {
          "base_uri": "https://localhost:8080/"
        },
        "id": "kHAa2zwOlzct",
        "outputId": "c02d288f-185c-4568-e8f4-33f0b6d37bce"
      },
      "source": [
        "f=fraccion(1,3)\n",
        "g=fraccion(2,5)\n",
        "type(f)"
      ],
      "execution_count": null,
      "outputs": [
        {
          "output_type": "execute_result",
          "data": {
            "text/plain": [
              "__main__.fraccion"
            ]
          },
          "metadata": {},
          "execution_count": 30
        }
      ]
    },
    {
      "cell_type": "code",
      "metadata": {
        "colab": {
          "base_uri": "https://localhost:8080/"
        },
        "id": "3LSRJ_RQ9Xn_",
        "outputId": "aac87973-39bd-4f18-9758-43ccc9f4dedc"
      },
      "source": [
        "def mcd(m,n):\n",
        "    while m%n != 0:\n",
        "        manterior = m\n",
        "        nanterior = n\n",
        "        m = nanterior\n",
        "        n = manterior%nanterior\n",
        "    return n\n",
        "mcd(30,10)"
      ],
      "execution_count": null,
      "outputs": [
        {
          "output_type": "execute_result",
          "data": {
            "text/plain": [
              "10"
            ]
          },
          "metadata": {},
          "execution_count": 45
        }
      ]
    },
    {
      "cell_type": "code",
      "metadata": {
        "id": "n_tJoKmjo7CK"
      },
      "source": [
        "class fraccion(object):\n",
        "  def __init__(self,x,y):\n",
        "    self.__numerador=x\n",
        "    self.__denominador=y\n",
        "    if (y==0):\n",
        "      print('Error')\n",
        "      raise NameError('Error')\n",
        "  def __str__(self):  \n",
        "    return str(self.__numerador)+'/'+str(self.__denominador)\n",
        "  def __repr__(self):  \n",
        "    return str(self.__numerador)+'/'+str(self.__denominador)\n",
        "  def recuperarNumerador(self):\n",
        "    return self.__numerador\n",
        "  def recuperarDenominador(self):\n",
        "    return self.__denominador\n",
        "  def actualizarNumerador(self,valor):\n",
        "    self.__numerador=valor\n",
        "  def actualizarDenominador(self,valor):\n",
        "    self.__denominador=valor\n",
        "  def __neg__(self):\n",
        "    return fraccion(-self.recuperarNumerador(),self.recuperarDenominador())\n",
        "  def __add__(self,g):\n",
        "    resultado_num=self.__numerador*g.recuperarDenominador()+\\\n",
        "                  self.__denominador*g.recuperarNumerador()\n",
        "    resultado_den=self.__denominador*g.recuperarDenominador()\n",
        "    return fraccion(resultado_num,resultado_den)\n",
        "  def simplificar(self):\n",
        "    c= mcd(self.__numerador,self.__denominador)\n",
        "    self.__numerador=self.__numerador//c\n",
        "    self.__denominador=self.__denominador//c\n",
        "\n",
        "  "
      ],
      "execution_count": null,
      "outputs": []
    },
    {
      "cell_type": "code",
      "metadata": {
        "id": "99i-Rc1O5jnQ",
        "colab": {
          "base_uri": "https://localhost:8080/"
        },
        "outputId": "eddd1116-4c3f-4d5e-97e4-aa3446adcb73"
      },
      "source": [
        "a=fraccion(1,7)\n",
        "\n",
        "print('Tomo ',a,'de pizza')"
      ],
      "execution_count": null,
      "outputs": [
        {
          "output_type": "stream",
          "name": "stdout",
          "text": [
            "Tomo  1/7 de pizza\n"
          ]
        }
      ]
    },
    {
      "cell_type": "code",
      "metadata": {
        "colab": {
          "base_uri": "https://localhost:8080/"
        },
        "id": "qSfgwDBAm55c",
        "outputId": "1df50315-b65d-4b17-8b82-2326b13bb7cc"
      },
      "source": [
        "r=fraccion(1,2)\n",
        "r.recuperarDenominador()"
      ],
      "execution_count": null,
      "outputs": [
        {
          "output_type": "execute_result",
          "data": {
            "text/plain": [
              "2"
            ]
          },
          "metadata": {},
          "execution_count": 39
        }
      ]
    },
    {
      "cell_type": "code",
      "metadata": {
        "colab": {
          "base_uri": "https://localhost:8080/"
        },
        "id": "GCOvtFbhnZAA",
        "outputId": "8554c8e9-eff8-4774-c7fb-86d64a3dd206"
      },
      "source": [
        "r.actualizarDenominador(5)\n",
        "r.recuperarDenominador()"
      ],
      "execution_count": null,
      "outputs": [
        {
          "output_type": "execute_result",
          "data": {
            "text/plain": [
              "5"
            ]
          },
          "metadata": {},
          "execution_count": 40
        }
      ]
    },
    {
      "cell_type": "code",
      "metadata": {
        "colab": {
          "base_uri": "https://localhost:8080/"
        },
        "id": "0U2_gPU9o8wt",
        "outputId": "77b3ff01-aa52-4e74-be08-6456fe718b3c"
      },
      "source": [
        "r=fraccion(2,3)\n",
        "-r"
      ],
      "execution_count": null,
      "outputs": [
        {
          "output_type": "execute_result",
          "data": {
            "text/plain": [
              "-2/3"
            ]
          },
          "metadata": {},
          "execution_count": 41
        }
      ]
    },
    {
      "cell_type": "code",
      "metadata": {
        "colab": {
          "base_uri": "https://localhost:8080/"
        },
        "id": "NONMDBpxo2oe",
        "outputId": "4ecded62-136a-4047-e61a-6e99064efbbe"
      },
      "source": [
        "f=fraccion(1,4)\n",
        "g=fraccion(11,4)\n",
        "h=f+g\n",
        "h.simplificar()\n",
        "print(h)"
      ],
      "execution_count": null,
      "outputs": [
        {
          "output_type": "stream",
          "name": "stdout",
          "text": [
            "3/1\n"
          ]
        }
      ]
    },
    {
      "cell_type": "code",
      "metadata": {
        "colab": {
          "base_uri": "https://localhost:8080/",
          "height": 165
        },
        "id": "hduhOvd5skQl",
        "outputId": "7c82bada-c7c0-40fa-841b-2e4c40acf491"
      },
      "source": [
        "f*g"
      ],
      "execution_count": null,
      "outputs": [
        {
          "output_type": "error",
          "ename": "TypeError",
          "evalue": "ignored",
          "traceback": [
            "\u001b[0;31m---------------------------------------------------------------------------\u001b[0m",
            "\u001b[0;31mTypeError\u001b[0m                                 Traceback (most recent call last)",
            "\u001b[0;32m<ipython-input-48-b6ef67451331>\u001b[0m in \u001b[0;36m<module>\u001b[0;34m()\u001b[0m\n\u001b[0;32m----> 1\u001b[0;31m \u001b[0mf\u001b[0m\u001b[0;34m*\u001b[0m\u001b[0mg\u001b[0m\u001b[0;34m\u001b[0m\u001b[0;34m\u001b[0m\u001b[0m\n\u001b[0m",
            "\u001b[0;31mTypeError\u001b[0m: unsupported operand type(s) for *: 'fraccion' and 'fraccion'"
          ]
        }
      ]
    },
    {
      "cell_type": "code",
      "metadata": {
        "colab": {
          "base_uri": "https://localhost:8080/",
          "height": 165
        },
        "id": "qdTcWCqUspVs",
        "outputId": "881d85a7-7b13-4c1d-cd7a-badc31146aea"
      },
      "source": [
        "f<g"
      ],
      "execution_count": null,
      "outputs": [
        {
          "output_type": "error",
          "ename": "TypeError",
          "evalue": "ignored",
          "traceback": [
            "\u001b[0;31m---------------------------------------------------------------------------\u001b[0m",
            "\u001b[0;31mTypeError\u001b[0m                                 Traceback (most recent call last)",
            "\u001b[0;32m<ipython-input-49-9bb1d32b15f8>\u001b[0m in \u001b[0;36m<module>\u001b[0;34m()\u001b[0m\n\u001b[0;32m----> 1\u001b[0;31m \u001b[0mf\u001b[0m\u001b[0;34m<\u001b[0m\u001b[0mg\u001b[0m\u001b[0;34m\u001b[0m\u001b[0;34m\u001b[0m\u001b[0m\n\u001b[0m",
            "\u001b[0;31mTypeError\u001b[0m: '<' not supported between instances of 'fraccion' and 'fraccion'"
          ]
        }
      ]
    },
    {
      "cell_type": "code",
      "metadata": {
        "colab": {
          "base_uri": "https://localhost:8080/",
          "height": 165
        },
        "id": "8kpz3h_qstzA",
        "outputId": "e13cf226-c7c0-4715-c1cf-7eef9c11db0b"
      },
      "source": [
        "3+f"
      ],
      "execution_count": null,
      "outputs": [
        {
          "output_type": "error",
          "ename": "TypeError",
          "evalue": "ignored",
          "traceback": [
            "\u001b[0;31m---------------------------------------------------------------------------\u001b[0m",
            "\u001b[0;31mTypeError\u001b[0m                                 Traceback (most recent call last)",
            "\u001b[0;32m<ipython-input-51-6fdd0c56fb18>\u001b[0m in \u001b[0;36m<module>\u001b[0;34m()\u001b[0m\n\u001b[0;32m----> 1\u001b[0;31m \u001b[0;36m3\u001b[0m\u001b[0;34m+\u001b[0m\u001b[0mf\u001b[0m\u001b[0;34m\u001b[0m\u001b[0;34m\u001b[0m\u001b[0m\n\u001b[0m",
            "\u001b[0;31mTypeError\u001b[0m: unsupported operand type(s) for +: 'int' and 'fraccion'"
          ]
        }
      ]
    },
    {
      "cell_type": "code",
      "metadata": {
        "id": "-6aVDMPI2kYJ"
      },
      "source": [
        "n=3000\n",
        "x=2.1\n",
        "A=[1,2,3,4]\n",
        "B=(1,2,3,4)\n",
        "C={'lun': 11, 'mar': 12, 'mie': 15}\n",
        "D={'uno','dos', 'tres'}"
      ],
      "execution_count": null,
      "outputs": []
    },
    {
      "cell_type": "code",
      "metadata": {
        "colab": {
          "base_uri": "https://localhost:8080/"
        },
        "id": "W-fTvC5-tDlV",
        "outputId": "12814aff-a922-4f7c-ef5f-9ce9858ca12d"
      },
      "source": [
        "type(C)"
      ],
      "execution_count": null,
      "outputs": [
        {
          "output_type": "execute_result",
          "data": {
            "text/plain": [
              "dict"
            ]
          },
          "metadata": {},
          "execution_count": 53
        }
      ]
    },
    {
      "cell_type": "code",
      "metadata": {
        "colab": {
          "base_uri": "https://localhost:8080/"
        },
        "id": "-139plGWtIqH",
        "outputId": "43cbde0d-e2f4-435c-cb16-c7f77842a64f"
      },
      "source": [
        "help(dict)"
      ],
      "execution_count": null,
      "outputs": [
        {
          "output_type": "stream",
          "name": "stdout",
          "text": [
            "Help on class dict in module builtins:\n",
            "\n",
            "class dict(object)\n",
            " |  dict() -> new empty dictionary\n",
            " |  dict(mapping) -> new dictionary initialized from a mapping object's\n",
            " |      (key, value) pairs\n",
            " |  dict(iterable) -> new dictionary initialized as if via:\n",
            " |      d = {}\n",
            " |      for k, v in iterable:\n",
            " |          d[k] = v\n",
            " |  dict(**kwargs) -> new dictionary initialized with the name=value pairs\n",
            " |      in the keyword argument list.  For example:  dict(one=1, two=2)\n",
            " |  \n",
            " |  Methods defined here:\n",
            " |  \n",
            " |  __contains__(self, key, /)\n",
            " |      True if the dictionary has the specified key, else False.\n",
            " |  \n",
            " |  __delitem__(self, key, /)\n",
            " |      Delete self[key].\n",
            " |  \n",
            " |  __eq__(self, value, /)\n",
            " |      Return self==value.\n",
            " |  \n",
            " |  __ge__(self, value, /)\n",
            " |      Return self>=value.\n",
            " |  \n",
            " |  __getattribute__(self, name, /)\n",
            " |      Return getattr(self, name).\n",
            " |  \n",
            " |  __getitem__(...)\n",
            " |      x.__getitem__(y) <==> x[y]\n",
            " |  \n",
            " |  __gt__(self, value, /)\n",
            " |      Return self>value.\n",
            " |  \n",
            " |  __init__(self, /, *args, **kwargs)\n",
            " |      Initialize self.  See help(type(self)) for accurate signature.\n",
            " |  \n",
            " |  __iter__(self, /)\n",
            " |      Implement iter(self).\n",
            " |  \n",
            " |  __le__(self, value, /)\n",
            " |      Return self<=value.\n",
            " |  \n",
            " |  __len__(self, /)\n",
            " |      Return len(self).\n",
            " |  \n",
            " |  __lt__(self, value, /)\n",
            " |      Return self<value.\n",
            " |  \n",
            " |  __ne__(self, value, /)\n",
            " |      Return self!=value.\n",
            " |  \n",
            " |  __repr__(self, /)\n",
            " |      Return repr(self).\n",
            " |  \n",
            " |  __setitem__(self, key, value, /)\n",
            " |      Set self[key] to value.\n",
            " |  \n",
            " |  __sizeof__(...)\n",
            " |      D.__sizeof__() -> size of D in memory, in bytes\n",
            " |  \n",
            " |  clear(...)\n",
            " |      D.clear() -> None.  Remove all items from D.\n",
            " |  \n",
            " |  copy(...)\n",
            " |      D.copy() -> a shallow copy of D\n",
            " |  \n",
            " |  get(self, key, default=None, /)\n",
            " |      Return the value for key if key is in the dictionary, else default.\n",
            " |  \n",
            " |  items(...)\n",
            " |      D.items() -> a set-like object providing a view on D's items\n",
            " |  \n",
            " |  keys(...)\n",
            " |      D.keys() -> a set-like object providing a view on D's keys\n",
            " |  \n",
            " |  pop(...)\n",
            " |      D.pop(k[,d]) -> v, remove specified key and return the corresponding value.\n",
            " |      If key is not found, d is returned if given, otherwise KeyError is raised\n",
            " |  \n",
            " |  popitem(...)\n",
            " |      D.popitem() -> (k, v), remove and return some (key, value) pair as a\n",
            " |      2-tuple; but raise KeyError if D is empty.\n",
            " |  \n",
            " |  setdefault(self, key, default=None, /)\n",
            " |      Insert key with a value of default if key is not in the dictionary.\n",
            " |      \n",
            " |      Return the value for key if key is in the dictionary, else default.\n",
            " |  \n",
            " |  update(...)\n",
            " |      D.update([E, ]**F) -> None.  Update D from dict/iterable E and F.\n",
            " |      If E is present and has a .keys() method, then does:  for k in E: D[k] = E[k]\n",
            " |      If E is present and lacks a .keys() method, then does:  for k, v in E: D[k] = v\n",
            " |      In either case, this is followed by: for k in F:  D[k] = F[k]\n",
            " |  \n",
            " |  values(...)\n",
            " |      D.values() -> an object providing a view on D's values\n",
            " |  \n",
            " |  ----------------------------------------------------------------------\n",
            " |  Class methods defined here:\n",
            " |  \n",
            " |  fromkeys(iterable, value=None, /) from builtins.type\n",
            " |      Create a new dictionary with keys from iterable and values set to value.\n",
            " |  \n",
            " |  ----------------------------------------------------------------------\n",
            " |  Static methods defined here:\n",
            " |  \n",
            " |  __new__(*args, **kwargs) from builtins.type\n",
            " |      Create and return a new object.  See help(type) for accurate signature.\n",
            " |  \n",
            " |  ----------------------------------------------------------------------\n",
            " |  Data and other attributes defined here:\n",
            " |  \n",
            " |  __hash__ = None\n",
            "\n"
          ]
        }
      ]
    },
    {
      "cell_type": "code",
      "metadata": {
        "id": "ONpyMEXQ-imK"
      },
      "source": [
        "q=fraccion(6,18)\n",
        "print(q)\n",
        "q.simplificar()\n",
        "print(q)"
      ],
      "execution_count": null,
      "outputs": []
    },
    {
      "cell_type": "code",
      "metadata": {
        "id": "SbRIS6yeqWcP"
      },
      "source": [
        "f=fraccion(1,3)\n",
        "print('Cada persona toma',f,' de pizza.')\n",
        "f.recuperarDenominador()"
      ],
      "execution_count": null,
      "outputs": []
    },
    {
      "cell_type": "code",
      "metadata": {
        "id": "yD5bNtGDsFUV"
      },
      "source": [
        "f1=fraccion(12,4)\n",
        "f2=fraccion(7,3)\n",
        "p=f2+f1\n",
        "print('El resultado de sumar',f1,'+',f2, 'es', p,'=',p.simplificar())"
      ],
      "execution_count": null,
      "outputs": []
    },
    {
      "cell_type": "code",
      "metadata": {
        "id": "CJ9CId5bEwBj",
        "colab": {
          "base_uri": "https://localhost:8080/"
        },
        "outputId": "c409d6f1-ddb9-4903-f600-06923eb9206f"
      },
      "source": [
        "type('juan')"
      ],
      "execution_count": null,
      "outputs": [
        {
          "output_type": "execute_result",
          "data": {
            "text/plain": [
              "str"
            ]
          },
          "metadata": {},
          "execution_count": 56
        }
      ]
    },
    {
      "cell_type": "code",
      "metadata": {
        "id": "jaEm0xeuEzwB"
      },
      "source": [
        "help(str)"
      ],
      "execution_count": null,
      "outputs": []
    },
    {
      "cell_type": "code",
      "metadata": {
        "id": "ncBG61iJE7_q"
      },
      "source": [
        "int('1')"
      ],
      "execution_count": null,
      "outputs": []
    },
    {
      "cell_type": "code",
      "metadata": {
        "id": "lSJ6hKJIGYLs"
      },
      "source": [
        "list((1,2,3))"
      ],
      "execution_count": null,
      "outputs": []
    },
    {
      "cell_type": "code",
      "metadata": {
        "id": "g7Vx4YyoG35V"
      },
      "source": [
        "class ExplodedStr(str):\n",
        "  def __ini__(self,value=''):\n",
        "    str.__init__(value)\n",
        "\n",
        "  def exploded(self):\n",
        "    if len(self)==0:\n",
        "      return self\n",
        "    else:\n",
        "      empy=''\n",
        "      blank=' '\n",
        "      temp=empy\n",
        "      for k in range(0,len(self)-1):\n",
        "        temp=temp+self[k]+blank\n",
        "      temp=temp+self[len(self)-1]\n",
        "      return temp"
      ],
      "execution_count": null,
      "outputs": []
    },
    {
      "cell_type": "code",
      "metadata": {
        "id": "_KMRJtHPIxS3"
      },
      "source": [
        "x=ExplodedStr('Universidad Nacional')\n",
        "print(x.exploded())"
      ],
      "execution_count": null,
      "outputs": []
    },
    {
      "cell_type": "code",
      "metadata": {
        "id": "i2Ke_5VkLtme"
      },
      "source": [
        "class fraccionmixta(fraccion):\n",
        "  \n",
        "  def __init__(self,*args):\n",
        "    if len(args)==2:\n",
        "      self.__entero=0\n",
        "      fraccion.__init__(self,args[0],args[1])\n",
        "    elif len(args)==3:\n",
        "      self.__entero=args[0]\n",
        "      fraccion.__init__(self,args[1],args[2])\n",
        "    else:\n",
        "      raise TypeError('Numero de argumentos no adecuado')\n",
        "\n",
        "  def reducir(self):\n",
        "    entero=self.__entero\n",
        "    num=self.recuperarNumerador()\n",
        "    den=self.recuperarDenominador()\n",
        "\n",
        "    entero2=num//den;\n",
        "    num=num%den;\n",
        "    self.__entero=entero+entero2\n",
        "    self.actualizarNumerador(num)\n",
        "    self.actualizarDenominador(den)\n",
        "    self.simplificar()\n",
        "\n",
        "  def __str__(self):\n",
        "    self.reducir()\n",
        "    return str(self.__entero)+' '+str(self.recuperarNumerador())+'/'+str(self.recuperarDenominador())\n"
      ],
      "execution_count": null,
      "outputs": []
    },
    {
      "cell_type": "code",
      "metadata": {
        "id": "rpuUnzORN1Vd"
      },
      "source": [
        "f=fraccionmixta(2,4,3)\n",
        "print(f)"
      ],
      "execution_count": null,
      "outputs": []
    },
    {
      "cell_type": "code",
      "metadata": {
        "id": "VT5Mly8U_FfB"
      },
      "source": [
        "a."
      ],
      "execution_count": null,
      "outputs": []
    }
  ]
}