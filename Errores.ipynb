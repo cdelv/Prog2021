{
 "cells": [
  {
   "cell_type": "code",
   "execution_count": 1,
   "id": "1fb44402",
   "metadata": {},
   "outputs": [
    {
     "data": {
      "text/html": [
       "<html>\\[\\newcommand{\\Bold}[1]{\\mathbf{#1}}\\left(\\mathit{Rs}, \\mathit{Rp}, x, I, \\mathit{Is}\\right)\\]</html>"
      ],
      "text/latex": [
       "$$\\newcommand{\\Bold}[1]{\\mathbf{#1}}\\left(\\mathit{Rs}, \\mathit{Rp}, x, I, \\mathit{Is}\\right)$$"
      ],
      "text/plain": [
       "(Rs, Rp, x, I, Is)"
      ]
     },
     "execution_count": 1,
     "metadata": {},
     "output_type": "execute_result"
    }
   ],
   "source": [
    "%display latex\n",
    "var('Rs Rp x I Is')"
   ]
  },
  {
   "cell_type": "code",
   "execution_count": 2,
   "id": "066b11a9",
   "metadata": {},
   "outputs": [
    {
     "data": {
      "text/html": [
       "<html>\\[\\newcommand{\\Bold}[1]{\\mathbf{#1}}\\frac{I}{\\mathit{Is}}\\]</html>"
      ],
      "text/latex": [
       "$$\\newcommand{\\Bold}[1]{\\mathbf{#1}}\\frac{I}{\\mathit{Is}}$$"
      ],
      "text/plain": [
       "I/Is"
      ]
     },
     "metadata": {},
     "output_type": "display_data"
    },
    {
     "data": {
      "text/html": [
       "<html>\\[\\newcommand{\\Bold}[1]{\\mathbf{#1}}\\sqrt{\\frac{I^{2}}{\\mathit{Is}^{4}} + \\frac{1}{\\mathit{Is}^{2}}}\\]</html>"
      ],
      "text/latex": [
       "$$\\newcommand{\\Bold}[1]{\\mathbf{#1}}\\sqrt{\\frac{I^{2}}{\\mathit{Is}^{4}} + \\frac{1}{\\mathit{Is}^{2}}}$$"
      ],
      "text/plain": [
       "sqrt(I^2/Is^4 + 1/Is^2)"
      ]
     },
     "metadata": {},
     "output_type": "display_data"
    }
   ],
   "source": [
    "R = I/Is\n",
    "Rr = fast_callable(R, vars=[I,Is])\n",
    "display(R)\n",
    "DI = 1\n",
    "DIs = 1\n",
    "Dr = sqrt((diff(R,I)*DI)**2+(diff(R,Is)*DIs)**2)\n",
    "display(Dr)\n",
    "DR = fast_callable(Dr, vars=[I,Is])"
   ]
  },
  {
   "cell_type": "code",
   "execution_count": 3,
   "id": "a7f9f4ff",
   "metadata": {},
   "outputs": [
    {
     "data": {
      "text/html": [
       "<html>\\[\\newcommand{\\Bold}[1]{\\mathbf{#1}}\\frac{180 \\, \\arctan\\left(\\sqrt{\\frac{\\mathit{Rs}}{\\mathit{Rp}}}\\right)}{\\pi}\\]</html>"
      ],
      "text/latex": [
       "$$\\newcommand{\\Bold}[1]{\\mathbf{#1}}\\frac{180 \\, \\arctan\\left(\\sqrt{\\frac{\\mathit{Rs}}{\\mathit{Rp}}}\\right)}{\\pi}$$"
      ],
      "text/plain": [
       "180*arctan(sqrt(Rs/Rp))/pi"
      ]
     },
     "metadata": {},
     "output_type": "display_data"
    },
    {
     "data": {
      "text/html": [
       "<html>\\[\\newcommand{\\Bold}[1]{\\mathbf{#1}}\\sqrt{\\frac{0.0311443086662554}{\\pi^{2} \\mathit{Rp} \\mathit{Rs} {\\left(\\frac{\\mathit{Rs}}{\\mathit{Rp}} + 1\\right)}^{2}} + \\frac{0.0242489554260865 \\, \\mathit{Rs}}{\\pi^{2} \\mathit{Rp}^{3} {\\left(\\frac{\\mathit{Rs}}{\\mathit{Rp}} + 1\\right)}^{2}}}\\]</html>"
      ],
      "text/latex": [
       "$$\\newcommand{\\Bold}[1]{\\mathbf{#1}}\\sqrt{\\frac{0.0311443086662554}{\\pi^{2} \\mathit{Rp} \\mathit{Rs} {\\left(\\frac{\\mathit{Rs}}{\\mathit{Rp}} + 1\\right)}^{2}} + \\frac{0.0242489554260865 \\, \\mathit{Rs}}{\\pi^{2} \\mathit{Rp}^{3} {\\left(\\frac{\\mathit{Rs}}{\\mathit{Rp}} + 1\\right)}^{2}}}$$"
      ],
      "text/plain": [
       "sqrt(0.0311443086662554/(pi^2*Rp*Rs*(Rs/Rp + 1)^2) + 0.0242489554260865*Rs/(pi^2*Rp^3*(Rs/Rp + 1)^2))"
      ]
     },
     "metadata": {},
     "output_type": "display_data"
    }
   ],
   "source": [
    "DRp=DR(7,578).n()\n",
    "DRs=DR(114,522).n()\n",
    "a = 180*atan(sqrt(Rs/Rp))/pi\n",
    "alpha = fast_callable(a, vars=[Rs,Rp])\n",
    "display(a)\n",
    "\n",
    "Da = sqrt((a.diff(Rs)*DRs)**2 + (a.diff(Rp)*DRp)**2)\n",
    "display(Da)\n",
    "DA = fast_callable(Da, vars=[Rs,Rp])"
   ]
  },
  {
   "cell_type": "code",
   "execution_count": 5,
   "id": "8d438891",
   "metadata": {},
   "outputs": [
    {
     "name": "stdout",
     "output_type": "stream",
     "text": [
      "0.218390804597701 0.00196086113188824\n",
      "0.0121107266435986 0.00173023067847944\n",
      "76.7489798054922 0.914978454117683\n"
     ]
    }
   ],
   "source": [
    "print(Rr(114,522).n(), DR(114,522).n())\n",
    "print(Rr(7,578).n(), DR(7,578).n())\n",
    "\n",
    "print(alpha(0.2183908046,0.01211072664).n(), DA(0.2183908046,0.01211072664).n())"
   ]
  },
  {
   "cell_type": "code",
   "execution_count": null,
   "id": "e32b2b9d",
   "metadata": {},
   "outputs": [],
   "source": []
  }
 ],
 "metadata": {
  "kernelspec": {
   "display_name": "SageMath 9.4",
   "language": "sage",
   "name": "sagemath"
  },
  "language_info": {
   "codemirror_mode": {
    "name": "ipython",
    "version": 3
   },
   "file_extension": ".py",
   "mimetype": "text/x-python",
   "name": "python",
   "nbconvert_exporter": "python",
   "pygments_lexer": "ipython3",
   "version": "3.9.5"
  }
 },
 "nbformat": 4,
 "nbformat_minor": 5
}
