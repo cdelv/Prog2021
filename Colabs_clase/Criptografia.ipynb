{
  "nbformat": 4,
  "nbformat_minor": 0,
  "metadata": {
    "kernelspec": {
      "display_name": "Python 3",
      "language": "python",
      "name": "python3"
    },
    "language_info": {
      "codemirror_mode": {
        "name": "ipython",
        "version": 3
      },
      "file_extension": ".py",
      "mimetype": "text/x-python",
      "name": "python",
      "nbconvert_exporter": "python",
      "pygments_lexer": "ipython3",
      "version": "3.7.3"
    },
    "colab": {
      "name": "Criptografia.ipynb",
      "provenance": [],
      "collapsed_sections": []
    }
  },
  "cells": [
    {
      "cell_type": "markdown",
      "source": [
        ""
      ],
      "metadata": {
        "id": "BVeBogX2XSFa"
      }
    },
    {
      "cell_type": "markdown",
      "metadata": {
        "id": "jKAkxLLauQFB"
      },
      "source": [
        "Este cuaderno esta basado en el cuaderno rsa_encryption.ipynb que se puede encontrar en https://colab.research.google.com/drive/1ccyVKHHXFczk_3u5WoV-3OGtyS-FJnO3?usp=sharing#scrollTo=BAjTfzQFijHL"
      ]
    },
    {
      "cell_type": "markdown",
      "metadata": {
        "id": "8oY2z-c8o0NL"
      },
      "source": [
        "Como primer ejemplo usamos cifrado por sustitución. "
      ]
    },
    {
      "cell_type": "code",
      "source": [
        "print(ord('A'))\n",
        "print(chr(65+3))"
      ],
      "metadata": {
        "colab": {
          "base_uri": "https://localhost:8080/"
        },
        "id": "RrRhMwdCTPM5",
        "outputId": "235188eb-1229-4521-9123-8b028b5606ee"
      },
      "execution_count": null,
      "outputs": [
        {
          "output_type": "stream",
          "name": "stdout",
          "text": [
            "65\n",
            "D\n"
          ]
        }
      ]
    },
    {
      "cell_type": "code",
      "metadata": {
        "id": "pa0VFGcPmzwI",
        "colab": {
          "base_uri": "https://localhost:8080/"
        },
        "outputId": "246bfad3-1beb-429a-a737-2ccfd0f34998"
      },
      "source": [
        "original = \"¿Empanadaz de carne o de papa?\"\n",
        "cifrado = [chr((ord(l)+3)) for l in original]\n",
        "print(''.join(cifrado))"
      ],
      "execution_count": null,
      "outputs": [
        {
          "output_type": "stream",
          "name": "stdout",
          "text": [
            "ÂHpsdqdgd}#gh#fduqh#r#gh#sdsdB\n"
          ]
        }
      ]
    },
    {
      "cell_type": "markdown",
      "metadata": {
        "id": "5xT3GuRfoYAy"
      },
      "source": [
        "Pidemos recuperar el mensaje original como sigue. "
      ]
    },
    {
      "cell_type": "code",
      "metadata": {
        "id": "yA_LoLLgpFjp",
        "colab": {
          "base_uri": "https://localhost:8080/"
        },
        "outputId": "bf115798-5645-4bdd-d1eb-60831c31628d"
      },
      "source": [
        "recuperado = [chr(ord(l)-3) for l in cifrado]\n",
        "print(''.join(recuperado))"
      ],
      "execution_count": null,
      "outputs": [
        {
          "output_type": "stream",
          "name": "stdout",
          "text": [
            "¿Empanadaz de carne o de papa?\n"
          ]
        }
      ]
    },
    {
      "cell_type": "markdown",
      "metadata": {
        "id": "JInKmo_QrLrv"
      },
      "source": [
        "# Maximo comun divisor\n",
        "\n"
      ]
    },
    {
      "cell_type": "code",
      "metadata": {
        "id": "KkbTeoSSijGa"
      },
      "source": [
        "'''\n",
        "Algoritmo de euclides\n",
        "'''\n",
        "def maximo_comun_divisor(a, b):\n",
        "    while b != 0:\n",
        "        a, b = b, a % b\n",
        "    return a"
      ],
      "execution_count": null,
      "outputs": []
    },
    {
      "cell_type": "code",
      "metadata": {
        "id": "ESkC60fXoiMY",
        "colab": {
          "base_uri": "https://localhost:8080/"
        },
        "outputId": "412d26e7-536b-43c9-f13a-493db14ec527"
      },
      "source": [
        "maximo_comun_divisor(59,15)"
      ],
      "execution_count": null,
      "outputs": [
        {
          "output_type": "execute_result",
          "data": {
            "text/plain": [
              "1"
            ]
          },
          "metadata": {},
          "execution_count": 6
        }
      ]
    },
    {
      "cell_type": "markdown",
      "source": [
        "Recuerde que $a$ y $b$ son primos relativos si el maximo comun divisor de $a$ y $b$ es $1$."
      ],
      "metadata": {
        "id": "D5hSC6KEK-Kv"
      }
    },
    {
      "cell_type": "markdown",
      "metadata": {
        "id": "8pDjlRE10VuR"
      },
      "source": [
        "# RSA - Rivest–Shamir–Adleman\n",
        "RSA fué publicado en 1977 en el  MIT. Ver el enlace [pdf](https://people.csail.mit.edu/rivest/Rsapaper.pdf)\n",
        "\n",
        "# Generation of public and private keys\n",
        "\n",
        "1.  Selecciones dos números primos $p$ y $q$.\n",
        "\n",
        "2.   Calcule $N = pq$ (semiprimo).\n",
        "\n",
        "3.   Calcule la función de Euler $ \\Phi =  (p-1)(q-1)$\n",
        "4.   General la clave  $e$ (impar relativamente primo con $\\Phi$)  entre $1$ y $\\Phi -1 $.\n",
        "\n",
        "   **Clave pública**: $(e, N)$ \n",
        "\n",
        "5.   Genere la clave de decifrado $d$ con $d = \\frac{k\\Phi+1}{e}$   \n",
        "\n",
        "  **Clave privada**: $(d, N)$\n"
      ]
    },
    {
      "cell_type": "code",
      "source": [
        "import math\n",
        "import random\n",
        "from sympy import randprime, isprime, Mod"
      ],
      "metadata": {
        "id": "pTYgikR-Oi9N"
      },
      "execution_count": null,
      "outputs": []
    },
    {
      "cell_type": "code",
      "metadata": {
        "id": "PXy8P0huijG8"
      },
      "source": [
        "def claves(p, q):\n",
        "    if not (isprime(p) and isprime(q)):\n",
        "        raise ValueError('Necesitamos dos primos')\n",
        "    elif p == q:\n",
        "        raise ValueError('p y q diferentes')\n",
        "\n",
        "    N = p * q\n",
        "    Phi = (p-1) * (q-1)\n",
        "    #print('Phi=',Phi)\n",
        "    e = 3\n",
        "\n",
        "    g = maximo_comun_divisor(e, Phi)\n",
        "    while g != 1:\n",
        "        e =e+2\n",
        "        g = maximo_comun_divisor(e, Phi)\n",
        "\n",
        "    #print('e=',e)\n",
        " \n",
        "    k=1\n",
        "    res=(k*Phi+1)%e;\n",
        "    while res!=0:\n",
        "      k=k+1;\n",
        "      res=(k*Phi+1)%e\n",
        "      #print('res=',res)\n",
        "    d=(k*Phi+1)//e;\n",
        "    #print('res=',res,' d=',d)\n",
        "    \n",
        "    return N, e, d"
      ],
      "execution_count": null,
      "outputs": []
    },
    {
      "cell_type": "code",
      "source": [
        "claves(997, 991)"
      ],
      "metadata": {
        "colab": {
          "base_uri": "https://localhost:8080/"
        },
        "id": "4Iwsren8QPPA",
        "outputId": "06adb8a9-1c52-4952-dcc8-b3e812dff4d5"
      },
      "execution_count": null,
      "outputs": [
        {
          "output_type": "execute_result",
          "data": {
            "text/plain": [
              "(988027, 7, 140863)"
            ]
          },
          "metadata": {},
          "execution_count": 9
        }
      ]
    },
    {
      "cell_type": "code",
      "metadata": {
        "id": "V83pgmbBi-ES",
        "outputId": "bfbf528c-0493-4ef2-878c-228303503cee",
        "colab": {
          "base_uri": "https://localhost:8080/"
        }
      },
      "source": [
        "print(\"RSA Cifrado/ Decifrado\")\n",
        "p = 997\n",
        "q = 991\n",
        "\n",
        "print(\"Claves\")\n",
        "N_pub,e_pub,d_pri = claves(p, q)\n",
        "print(\"Clave privada \", d_pri ,\" y clave publica (N=\",N_pub,',e=',e_pub,')' )"
      ],
      "execution_count": null,
      "outputs": [
        {
          "output_type": "stream",
          "name": "stdout",
          "text": [
            "RSA Cifrado/ Decifrado\n",
            "Claves\n",
            "Clave privada  140863  y clave publica (N= 988027 ,e= 7 )\n"
          ]
        }
      ]
    },
    {
      "cell_type": "markdown",
      "source": [
        "Podemos verifiacar que el cifrado y recuperación funcionan."
      ],
      "metadata": {
        "id": "91ulO908k5Z2"
      }
    },
    {
      "cell_type": "code",
      "source": [
        "A=(10**e_pub)%N_pub  \n",
        "print(A)"
      ],
      "metadata": {
        "colab": {
          "base_uri": "https://localhost:8080/"
        },
        "id": "fVA3ajgGb2z9",
        "outputId": "571e5976-e851-4914-81a3-bbbbc05d00bd"
      },
      "execution_count": null,
      "outputs": [
        {
          "output_type": "stream",
          "name": "stdout",
          "text": [
            "119730\n"
          ]
        }
      ]
    },
    {
      "cell_type": "code",
      "source": [
        "B=(A**d_pri)%N_pub\n",
        "print(B)"
      ],
      "metadata": {
        "colab": {
          "base_uri": "https://localhost:8080/"
        },
        "id": "ghp_EXrQcAI6",
        "outputId": "a03aabd7-43c5-4755-d8d1-96a04de3052c"
      },
      "execution_count": null,
      "outputs": [
        {
          "output_type": "stream",
          "name": "stdout",
          "text": [
            "10\n"
          ]
        }
      ]
    },
    {
      "cell_type": "markdown",
      "metadata": {
        "id": "Wi8B_TCc3oPh"
      },
      "source": [
        "# Cifrado\n"
      ]
    },
    {
      "cell_type": "markdown",
      "source": [
        "$C=m^e \\mod  N$"
      ],
      "metadata": {
        "id": "dAVaUlDslGPk"
      }
    },
    {
      "cell_type": "code",
      "metadata": {
        "id": "0-9lV5pjijHC"
      },
      "source": [
        "def cifrar(N,e, original):\n",
        "    cifrado = [(ord(char) ** e) % N for char in original]\n",
        "    return cifrado"
      ],
      "execution_count": null,
      "outputs": []
    },
    {
      "cell_type": "code",
      "metadata": {
        "id": "Dyv9O09sjv9T",
        "colab": {
          "base_uri": "https://localhost:8080/"
        },
        "outputId": "cf3b60ce-8d1e-49c6-8965-5708d6bff889"
      },
      "source": [
        "original =\"Tengo empanadas de 10 % carne con 90 % papas\"\n",
        "cifrado = cifrar(N_pub,e_pub, original)\n",
        "print(\"El mensaje original es:\")\n",
        "print([ord(l) for l in original])\n",
        "print(\"\\n\\n Mensaje encriptado: \")\n",
        "print(cifrado, 'o \\n')\n",
        "print(''.join([str(l) for l in cifrado]))"
      ],
      "execution_count": null,
      "outputs": [
        {
          "output_type": "stream",
          "name": "stdout",
          "text": [
            "El mensaje original es:\n",
            "[84, 101, 110, 103, 111, 32, 101, 109, 112, 97, 110, 97, 100, 97, 115, 32, 100, 101, 32, 49, 48, 32, 37, 32, 99, 97, 114, 110, 101, 32, 99, 111, 110, 32, 57, 48, 32, 37, 32, 112, 97, 112, 97, 115]\n",
            "\n",
            "\n",
            " Mensaje encriptado: \n",
            "[780815, 462235, 888086, 739021, 815923, 111416, 462235, 316727, 337880, 348178, 888086, 348178, 977184, 348178, 48427, 111416, 977184, 462235, 111416, 830942, 483358, 111416, 266919, 111416, 946186, 348178, 931654, 888086, 462235, 111416, 946186, 815923, 888086, 111416, 115344, 483358, 111416, 266919, 111416, 337880, 348178, 337880, 348178, 48427] o \n",
            "\n",
            "7808154622358880867390218159231114164622353167273378803481788880863481789771843481784842711141697718446223511141683094248335811141626691911141694618634817893165488808646223511141694618681592388808611141611534448335811141626691911141633788034817833788034817848427\n"
          ]
        }
      ]
    },
    {
      "cell_type": "code",
      "metadata": {
        "id": "gtTRMJCS5K01"
      },
      "source": [
        "def recuperar(N,d, cifrado):\n",
        "    recuperado = [chr((c** d) % N) for c  in cifrado]\n",
        "    #Return the array of bytes as a string\n",
        "    return ''.join(recuperado)"
      ],
      "execution_count": null,
      "outputs": []
    },
    {
      "cell_type": "code",
      "metadata": {
        "id": "BAjTfzQFijHL",
        "colab": {
          "base_uri": "https://localhost:8080/"
        },
        "outputId": "400c3ca8-fa73-4ae9-af50-9c9bd351ff32"
      },
      "source": [
        "print(\"Your message is:\")\n",
        "print(recuperar(N_pub,d_pri, cifrado))"
      ],
      "execution_count": null,
      "outputs": [
        {
          "output_type": "stream",
          "name": "stdout",
          "text": [
            "Your message is:\n",
            "Tengo empanadas de 10 % carne con 90 % papas\n"
          ]
        }
      ]
    },
    {
      "cell_type": "markdown",
      "metadata": {
        "id": "GISObDPS7OuA"
      },
      "source": [
        "# Referencias adicionales, \n",
        "\n",
        "*    RSA on [Wiki](https://en.wikipedia.org/wiki/RSA_(cryptosystem))\n",
        "\n",
        "*    Versión código original (https://gist.github.com/JonCooperWorks/5314103)\n",
        "*    [Desafíos RSA](https://en.wikipedia.org/wiki/RSA_numbers) Cuanto timepo toma encontrar los \n",
        "factores primos de semiprimes (de longitud en bits dada.\n",
        "\n",
        "*    Un algoritmos para vencer RSA que es sería rápido en computadores cuanticos ([youtube](https://www.youtube.com/watch?v=lvTqbM5Dq4Q))\n",
        "\n",
        "*   Prime number theorem ([wiki](https://en.wikipedia.org/wiki/Prime_number_theorem#Proof_sketch))\n",
        "\n",
        "*   Primos hasta $10^{12}$ (https://primes.utm.edu/nthprime/index.php#nth)\n",
        "\n",
        "\n"
      ]
    }
  ]
}