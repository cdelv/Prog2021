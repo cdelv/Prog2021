{
 "cells": [
  {
   "cell_type": "code",
   "execution_count": 21,
   "id": "c19bb1cf",
   "metadata": {},
   "outputs": [
    {
     "data": {
      "text/html": [
       "<html>\\[\\newcommand{\\Bold}[1]{\\mathbf{#1}}\\left(\\mathit{Rs}, \\mathit{Rp}, x, I, \\mathit{Is}\\right)\\]</html>"
      ],
      "text/latex": [
       "$$\\newcommand{\\Bold}[1]{\\mathbf{#1}}\\left(\\mathit{Rs}, \\mathit{Rp}, x, I, \\mathit{Is}\\right)$$"
      ],
      "text/plain": [
       "(Rs, Rp, x, I, Is)"
      ]
     },
     "execution_count": 21,
     "metadata": {},
     "output_type": "execute_result"
    }
   ],
   "source": [
    "%display latex\n",
    "var('Rs Rp x I Is')"
   ]
  },
  {
   "cell_type": "code",
   "execution_count": 28,
   "id": "ec5757a5",
   "metadata": {},
   "outputs": [
    {
     "data": {
      "text/html": [
       "<html>\\[\\newcommand{\\Bold}[1]{\\mathbf{#1}}\\frac{I}{\\mathit{Is}}\\]</html>"
      ],
      "text/latex": [
       "$$\\newcommand{\\Bold}[1]{\\mathbf{#1}}\\frac{I}{\\mathit{Is}}$$"
      ],
      "text/plain": [
       "I/Is"
      ]
     },
     "metadata": {},
     "output_type": "display_data"
    },
    {
     "data": {
      "text/html": [
       "<html>\\[\\newcommand{\\Bold}[1]{\\mathbf{#1}}\\sqrt{\\frac{I^{2}}{\\mathit{Is}^{4}} + \\frac{1}{\\mathit{Is}^{2}}}\\]</html>"
      ],
      "text/latex": [
       "$$\\newcommand{\\Bold}[1]{\\mathbf{#1}}\\sqrt{\\frac{I^{2}}{\\mathit{Is}^{4}} + \\frac{1}{\\mathit{Is}^{2}}}$$"
      ],
      "text/plain": [
       "sqrt(I^2/Is^4 + 1/Is^2)"
      ]
     },
     "metadata": {},
     "output_type": "display_data"
    }
   ],
   "source": [
    "R = I/Is\n",
    "display(R)\n",
    "DI = 1\n",
    "DIs = 1\n",
    "DR = sqrt((diff(R,I)*DI)**2+(diff(R,Is)*DIs)**2)\n",
    "display(DR)\n",
    "ff = fast_callable(DR, vars=[I,Is])"
   ]
  },
  {
   "cell_type": "code",
   "execution_count": 27,
   "id": "f2913c5d",
   "metadata": {},
   "outputs": [
    {
     "data": {
      "text/html": [
       "<html>\\[\\newcommand{\\Bold}[1]{\\mathbf{#1}}\\arctan\\left(\\sqrt{\\frac{\\mathit{Rs}}{\\mathit{Rp}}}\\right)\\]</html>"
      ],
      "text/latex": [
       "$$\\newcommand{\\Bold}[1]{\\mathbf{#1}}\\arctan\\left(\\sqrt{\\frac{\\mathit{Rs}}{\\mathit{Rp}}}\\right)$$"
      ],
      "text/plain": [
       "arctan(sqrt(Rs/Rp))"
      ]
     },
     "metadata": {},
     "output_type": "display_data"
    },
    {
     "data": {
      "text/html": [
       "<html>\\[\\newcommand{\\Bold}[1]{\\mathbf{#1}}\\sqrt{\\frac{9.61244094637512 \\times 10^{-7}}{\\mathit{Rp} \\mathit{Rs} {\\left(\\frac{\\mathit{Rs}}{\\mathit{Rp}} + 1\\right)}^{2}} + \\frac{\\left(7.48424550187854 \\times 10^{-7}\\right) \\, \\mathit{Rs}}{\\mathit{Rp}^{3} {\\left(\\frac{\\mathit{Rs}}{\\mathit{Rp}} + 1\\right)}^{2}}}\\]</html>"
      ],
      "text/latex": [
       "$$\\newcommand{\\Bold}[1]{\\mathbf{#1}}\\sqrt{\\frac{9.61244094637512 \\times 10^{-7}}{\\mathit{Rp} \\mathit{Rs} {\\left(\\frac{\\mathit{Rs}}{\\mathit{Rp}} + 1\\right)}^{2}} + \\frac{\\left(7.48424550187854 \\times 10^{-7}\\right) \\, \\mathit{Rs}}{\\mathit{Rp}^{3} {\\left(\\frac{\\mathit{Rs}}{\\mathit{Rp}} + 1\\right)}^{2}}}$$"
      ],
      "text/plain": [
       "sqrt((9.61244094637512e-7)/(Rp*Rs*(Rs/Rp + 1)^2) + (7.48424550187854e-7)*Rs/(Rp^3*(Rs/Rp + 1)^2))"
      ]
     },
     "metadata": {},
     "output_type": "display_data"
    }
   ],
   "source": [
    "DRp=ff(7,578).n()\n",
    "DRs=ff(114,522).n()\n",
    "a = atan(sqrt(Rs/Rp))\n",
    "alpha = fast_callable(a, vars=[Rs,Rp])\n",
    "display(a)\n",
    "Da = sqrt((a.diff(Rs)*DRs)**2 + (a.diff(Rp)*DRp)**2)\n",
    "display(Da)\n",
    "fff = fast_callable(Da, vars=[Rs,Rp])"
   ]
  },
  {
   "cell_type": "code",
   "execution_count": null,
   "id": "8bf14e1c",
   "metadata": {},
   "outputs": [],
   "source": [
    "fff().n()"
   ]
  }
 ],
 "metadata": {
  "kernelspec": {
   "display_name": "SageMath 9.4",
   "language": "sage",
   "name": "sagemath"
  },
  "language_info": {
   "codemirror_mode": {
    "name": "ipython",
    "version": 3
   },
   "file_extension": ".py",
   "mimetype": "text/x-python",
   "name": "python",
   "nbconvert_exporter": "python",
   "pygments_lexer": "ipython3",
   "version": "3.9.5"
  }
 },
 "nbformat": 4,
 "nbformat_minor": 5
}
