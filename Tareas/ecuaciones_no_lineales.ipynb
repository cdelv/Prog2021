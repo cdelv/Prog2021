{
  "nbformat": 4,
  "nbformat_minor": 0,
  "metadata": {
    "colab": {
      "name": "Copia de Carlos Andres Del Valle Urberuaga - EcuacionesNoLineales.ipynb",
      "provenance": [],
      "collapsed_sections": []
    },
    "kernelspec": {
      "name": "python3",
      "display_name": "Python 3"
    }
  },
  "cells": [
    {
      "cell_type": "markdown",
      "metadata": {
        "id": "mhCF8wtdAseM"
      },
      "source": [
        "# Bisección"
      ]
    },
    {
      "cell_type": "markdown",
      "metadata": {
        "id": "Z0mhIalWT3e6"
      },
      "source": [
        "Presentaremos una implementación del seudocodigo de bisección en el texto guia.  En particular resolvemos la ecuación $\\exp(x)-\\sin(x)=0$"
      ]
    },
    {
      "cell_type": "code",
      "metadata": {
        "id": "P7yG2iN3A1b1"
      },
      "source": [
        "import numpy as np\n",
        "import matplotlib.pyplot as plt"
      ],
      "execution_count": null,
      "outputs": []
    },
    {
      "cell_type": "code",
      "metadata": {
        "id": "4BroOaj1CVQz"
      },
      "source": [
        "def mifun(x):\n",
        "  y=np.exp(x)-np.sin(x)\n",
        "  return y"
      ],
      "execution_count": null,
      "outputs": []
    },
    {
      "cell_type": "code",
      "metadata": {
        "colab": {
          "base_uri": "https://localhost:8080/",
          "height": 320
        },
        "id": "suRRc6s5FnJO",
        "outputId": "c7dfe570-543a-4665-c46c-3a58a65c6741"
      },
      "source": [
        "a,b=-50,2\n",
        "x = np.arange(a, b, (b-a)/1000)\n",
        "y= mifun(x)\n",
        "plt.figure(figsize=(10, 5))\n",
        "plt.plot(x, y*0, 'b--',label='Funcion')\n",
        "plt.plot(x, y, 'r-',linewidth=4, label='Funcion')\n",
        "plt.grid(color='g', linestyle='--', linewidth=.5)\n",
        "plt.show()"
      ],
      "execution_count": null,
      "outputs": [
        {
          "output_type": "display_data",
          "data": {
            "image/png": "[encoded data removed]",
            "text/plain": [
              "<Figure size 720x360 with 1 Axes>"
            ]
          },
          "metadata": {
            "needs_background": "light"
          }
        }
      ]
    },
    {
      "cell_type": "code",
      "metadata": {
        "colab": {
          "base_uri": "https://localhost:8080/"
        },
        "id": "bAASNSXjCqbW",
        "outputId": "2e086903-e61b-4ead-d222-3f9bc7325c3c"
      },
      "source": [
        "a,b,M,delb,epsb=-4,-3,100,1E-8,1E-8\n",
        "print(a,b,M,delb,epsb)\n",
        "u=mifun(a)\n",
        "v=mifun(b)\n",
        "e=b-a\n",
        "if np.sign(u)!=np.sign(v):\n",
        "  for k in range(1,M):\n",
        "    e=e/2\n",
        "    c=a+e\n",
        "    w=mifun(c)\n",
        "    print('c={0:.15f}'.format(c))\n",
        "    if np.abs(e)<delb or np.abs(w)<epsb :\n",
        "      break\n",
        "    else:\n",
        "      if np.sign(w)!=np.sign(u):\n",
        "        b=c\n",
        "        v=w\n",
        "      else:\n",
        "        a=c\n",
        "        u=w\n",
        "print(k,w,e)"
      ],
      "execution_count": null,
      "outputs": [
        {
          "output_type": "stream",
          "name": "stdout",
          "text": [
            "-4 -3 100 1e-08 1e-08\n",
            "c=-3.500000000000000\n",
            "c=-3.250000000000000\n",
            "c=-3.125000000000000\n",
            "c=-3.187500000000000\n",
            "c=-3.156250000000000\n",
            "c=-3.171875000000000\n",
            "c=-3.179687500000000\n",
            "c=-3.183593750000000\n",
            "c=-3.181640625000000\n",
            "c=-3.182617187500000\n",
            "c=-3.183105468750000\n",
            "c=-3.182861328125000\n",
            "c=-3.182983398437500\n",
            "c=-3.183044433593750\n",
            "c=-3.183074951171875\n",
            "c=-3.183059692382812\n",
            "c=-3.183067321777344\n",
            "c=-3.183063507080078\n",
            "c=-3.183061599731445\n",
            "c=-3.183062553405762\n",
            "c=-3.183063030242920\n",
            "c=-3.183062791824341\n",
            "c=-3.183062911033630\n",
            "c=-3.183062970638275\n",
            "c=-3.183063000440598\n",
            "c=-3.183063015341759\n",
            "26 -3.546771550066996e-09 1.4901161193847656e-08\n"
          ]
        }
      ]
    },
    {
      "cell_type": "markdown",
      "metadata": {
        "id": "ytVBpj-LUP6l"
      },
      "source": [
        "# Newton"
      ]
    },
    {
      "cell_type": "markdown",
      "metadata": {
        "id": "CbbRdIvKUVUE"
      },
      "source": [
        "En esta sección implementamos el método de newton. Esta vez crearemos una funcion con el método Newton\n"
      ]
    },
    {
      "cell_type": "code",
      "metadata": {
        "id": "2eBTj1f1Uq0N"
      },
      "source": [
        "def minewton(f,fp,x0,myeps,mydel,max_iter,verbose=True):\n",
        "    '''f(x)=0 unando newton xn=xa-f(xa)/fp(xa)\n",
        "    ----------\n",
        "    f : funnción\n",
        "    fp : Derivada\n",
        "    x0 : Aproximación inicial\n",
        "    epsilon : Tolerancia residuo.\n",
        "    M : Número maximo de iteraciones\n",
        "    ----------\n",
        "    '''\n",
        "    x = x0\n",
        "    for n in range(0,max_iter):\n",
        "        fx = f(x)\n",
        "        if abs(fx) < myeps:\n",
        "            if verbose:\n",
        "              print('residuo f(x(',n,'))=',fx)\n",
        "            return x\n",
        "        fpx = fp(x)\n",
        "        if fpx == 0:\n",
        "            if verbose:\n",
        "              print('Derivada nula. Error!')\n",
        "            return None\n",
        "        x = x - fx/fpx\n",
        "        if verbose:\n",
        "          print( 'x(',n,')=',x)\n",
        "        if abs(x-x0) < mydel:\n",
        "            if verbose:\n",
        "              print('incremento delta(',n,')=',fx)\n",
        "            return x\n",
        "        x0=x\n",
        "    if verbose:\n",
        "      print('Número maximo de iteraciones')\n",
        "    return None\n"
      ],
      "execution_count": null,
      "outputs": []
    },
    {
      "cell_type": "markdown",
      "metadata": {
        "id": "--nhEQ2LV1Uq"
      },
      "source": [
        "Usemos la función ateriore para resolver la ecuaciones $\\exp(x)-\\sin(x)$"
      ]
    },
    {
      "cell_type": "code",
      "metadata": {
        "colab": {
          "base_uri": "https://localhost:8080/"
        },
        "id": "d2N151FFWBUQ",
        "outputId": "8c1bf314-0798-4884-b3c8-a99ba602954c"
      },
      "source": [
        "f = lambda x: np.exp(x)-np.sin(x)\n",
        "fp = lambda x: np.exp(x)-np.cos(x)\n",
        "approx = minewton(f,fp,1,1e-10,1e-10,10)"
      ],
      "execution_count": null,
      "outputs": [
        {
          "output_type": "stream",
          "name": "stdout",
          "text": [
            "x( 0 )= 0.13827893045637507\n",
            "x( 1 )= -6.263457215119403\n",
            "x( 2 )= -6.281316869638125\n",
            "x( 3 )= -6.2813143662108075\n",
            "residuo f(x( 4 ))= 1.2010791666794418e-14\n"
          ]
        }
      ]
    },
    {
      "cell_type": "markdown",
      "metadata": {
        "id": "RHLL_KcB6e1M"
      },
      "source": [
        "# Punto Fijo\n"
      ]
    },
    {
      "cell_type": "code",
      "metadata": {
        "id": "vd9HdisobLY-"
      },
      "source": [
        "def miFpf(x):\n",
        "  y=x+np.exp(x)-np.sin(x)\n",
        "  return y"
      ],
      "execution_count": null,
      "outputs": []
    },
    {
      "cell_type": "code",
      "metadata": {
        "id": "-6Td5WoSGREY",
        "colab": {
          "base_uri": "https://localhost:8080/"
        },
        "outputId": "63c7943f-3561-49e5-c091-86b0589ff627"
      },
      "source": [
        "x0=-4\n",
        "for n in range(1,20):\n",
        "  x1=miFpf(x0)\n",
        "  x0=x1\n",
        "  print('x={0:.15f} y={0:.15f}'.format(x1, miFpf(x1)))"
      ],
      "execution_count": null,
      "outputs": [
        {
          "output_type": "stream",
          "name": "stdout",
          "text": [
            "x=-4.738486856419194 y=-4.738486856419194\n",
            "x=-5.729394447160081 y=-5.729394447160081\n",
            "x=-6.252060669705465 y=-6.252060669705465\n",
            "x=-6.281253801923153 y=-6.281253801923153\n",
            "x=-6.281314252785754 y=-6.281314252785754\n",
            "x=-6.281314365998385 y=-6.281314365998385\n",
            "x=-6.281314366210397 y=-6.281314366210397\n",
            "x=-6.281314366210795 y=-6.281314366210795\n",
            "x=-6.281314366210796 y=-6.281314366210796\n",
            "x=-6.281314366210796 y=-6.281314366210796\n",
            "x=-6.281314366210796 y=-6.281314366210796\n",
            "x=-6.281314366210796 y=-6.281314366210796\n",
            "x=-6.281314366210796 y=-6.281314366210796\n",
            "x=-6.281314366210796 y=-6.281314366210796\n",
            "x=-6.281314366210796 y=-6.281314366210796\n",
            "x=-6.281314366210796 y=-6.281314366210796\n",
            "x=-6.281314366210796 y=-6.281314366210796\n",
            "x=-6.281314366210796 y=-6.281314366210796\n",
            "x=-6.281314366210796 y=-6.281314366210796\n"
          ]
        }
      ]
    },
    {
      "cell_type": "markdown",
      "metadata": {
        "id": "vUQSnXcIAU31"
      },
      "source": [
        "# Librerias"
      ]
    },
    {
      "cell_type": "markdown",
      "metadata": {
        "id": "ts_E_7OuAjkX"
      },
      "source": [
        "Usamos la librería scipy.optimize.fsolve para resolver una ecuacion. Para informacion adicional puede consultar https://docs.scipy.org/doc/scipy-0.13.0/reference/generated/scipy.optimize.fsolve.html#scipy.optimize.fsolve"
      ]
    },
    {
      "cell_type": "code",
      "metadata": {
        "colab": {
          "base_uri": "https://localhost:8080/"
        },
        "id": "6k40-QpnA7bt",
        "outputId": "5df03424-0a52-4cbd-f90b-3aa8acf5337c"
      },
      "source": [
        "from scipy.optimize import fsolve\n",
        "\n",
        "def myfun2(x):\n",
        "   y = np.exp(x)-np.sin(x)\n",
        "   print(x,'\\t\\t',y)\n",
        "   return y\n",
        "\n",
        "z = fsolve(myfun2,-3)\n",
        "print(z)\n",
        "print(myfun2(z))"
      ],
      "execution_count": null,
      "outputs": [
        {
          "output_type": "stream",
          "name": "stdout",
          "text": [
            "[-3] \t\t [0.19090708]\n",
            "[-3.] \t\t [0.19090708]\n",
            "[-3.] \t\t [0.19090708]\n",
            "[-2.99999996] \t\t [0.19090712]\n",
            "[-3.18360341] \t\t [-0.00056233]\n",
            "[-3.18306419] \t\t [-1.22193941e-06]\n",
            "[-3.18306301] \t\t [2.63640845e-11]\n",
            "[-3.18306301] \t\t [2.15105711e-16]\n",
            "[-3.18306301]\n",
            "[-3.18306301] \t\t [2.15105711e-16]\n",
            "[2.15105711e-16]\n"
          ]
        }
      ]
    },
    {
      "cell_type": "markdown",
      "metadata": {
        "id": "1TDwfG_bWT4l"
      },
      "source": [
        "Obtenemos la raiz $r\\approx-3.18306301$ con un residuo $\\approx 2\\times 10^{-16}$. Usemos ahora scipy para resolver un sistema de tres ecuaciones con tres incognitas. Agregamos print dentro de la función para imprimir los iterados. "
      ]
    },
    {
      "cell_type": "code",
      "metadata": {
        "colab": {
          "base_uri": "https://localhost:8080/"
        },
        "id": "bSsHershWiCu",
        "outputId": "0ea78b63-bd41-4b9e-e5d4-b98253481dbb"
      },
      "source": [
        "def myFvec(x):\n",
        "  y = np.empty((3))\n",
        "  y[0]=x[0]*x[1]-x[2]**2\n",
        "  y[1]=x[0]*x[1]*x[2]-x[0]**2+x[1]**2\n",
        "  y[2]=np.exp(x[0])-np.exp(y[1])+x[2]-3\n",
        "  print(x)\n",
        "  return y\n",
        "\n",
        "x0 = np.array([0,1,0])\n",
        "r = fsolve(myFvec,x0)\n",
        "print(r)"
      ],
      "execution_count": null,
      "outputs": [
        {
          "output_type": "stream",
          "name": "stdout",
          "text": [
            "[0 1 0]\n",
            "[0. 1. 0.]\n",
            "[0. 1. 0.]\n",
            "[1.49011612e-08 1.00000000e+00 0.00000000e+00]\n",
            "[0.         1.00000001 0.        ]\n",
            "[0.00000000e+00 1.00000000e+00 1.49011612e-08]\n",
            "[2.98023206e-08 5.00000004e-01 1.99999989e+00]\n",
            "[2.15224589 0.63095647 0.40336098]\n",
            "[0.70471843 0.75002461 1.92043266]\n",
            "[1.71223427 0.71676582 0.90555853]\n",
            "[1.28040009 0.89465479 0.62982444]\n",
            "[1.12818885 0.84469574 0.83379873]\n",
            "[1.04078636 0.70022687 0.85312251]\n",
            "[1.1672988  0.71334999 0.97766916]\n",
            "[1.11339844 0.73465633 0.87826283]\n",
            "[1.12912734 0.72850593 0.90563147]\n",
            "[1.12929794 0.72788239 0.9068089 ]\n",
            "[1.12925282 0.72794401 0.90666318]\n",
            "[1.12925139 0.727945   0.90666039]\n",
            "[1.12925132 0.72794503 0.9066603 ]\n",
            "[1.12925132 0.72794503 0.90666029]\n",
            "[1.12925132 0.72794503 0.90666029]\n"
          ]
        }
      ]
    },
    {
      "cell_type": "markdown",
      "metadata": {
        "id": "qAA-Oufme-xt"
      },
      "source": [
        "# Problemas\n"
      ]
    },
    {
      "cell_type": "markdown",
      "metadata": {
        "id": "GDqbcmivPFSI"
      },
      "source": [
        "**Problema 1(Quarteroni, Saleri, Gervasio)** Considere un plano cuya pendiente varía con tasa constante $\\omega$ y un punto de masa quieto en el tiempo $t=0$. En el tiempo $t>0$ su posición es dada por\n",
        "$$s(t,\\omega)= \\frac{g}{2\\omega^2}\\Big[ \\sinh(\\omega t)-\\sin(\\omega t) \\Big] $$\n",
        "donde $g=9.8 \\frac{m}{s^2}$. Suponga que el objeto se ha movido 1 metro en un segundo, calcule el valor correspondiente de $\\omega$ con 12 decimales exactos. "
      ]
    },
    {
      "cell_type": "markdown",
      "metadata": {
        "id": "ISIc2Paf_RWZ"
      },
      "source": [
        "![Captura de pantalla de 2021-03-20 13-54-08.png](data:image/png;base64,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)"
      ]
    },
    {
      "cell_type": "markdown",
      "metadata": {
        "id": "bwdqKPQH8DAA"
      },
      "source": [
        "**Problema 2(Quarteroni, Saleri, Gervasio)** La longitud maxima de una varilla que se puede arrastrar de un extremo a otro deslizandola por un pasillo como el de la fiugra es \n",
        "$$L=\\frac{l_2}{\\sin(\\pi-\\gamma-\\alpha)}+\\frac{l_1}{\\sin(\\alpha)}$$\n",
        "donde $\\alpha$ es la solución de la ecuación\n",
        "$$ l_2 \\frac{\\cos(\\pi-\\gamma-\\alpha)}{\\sin^2(\\pi-\\gamma-\\alpha)}-l_1\\frac{\\cos(\\alpha)}{\\sin^2(\\alpha)}=0.$$\n",
        "Calcule $\\alpha$ cuando $l_2=10$, $l_1=8$ y $\\gamma=\\frac{3\\pi}{5}$. ¿Cuántos decimales puede garantizar para $\\alpha$ y $L$?"
      ]
    },
    {
      "cell_type": "markdown",
      "source": [
        "**Problema 3** Adicionar criterios de parada de tolerancia al incremento y tolerancia al residuo para el caso del método de punto fijo implementado arriba. Use el código para calcular una raíz de $e^x-\\sin(x)$."
      ],
      "metadata": {
        "id": "qiMvAsU9WYbI"
      }
    },
    {
      "cell_type": "markdown",
      "metadata": {
        "id": "AdtHbmZmQZe_"
      },
      "source": [
        "**Problema 4 (Quarteroni, Saleri, Gervasio)** Note que $f(x)=e^x-2x^2$ tiene 3 raíces, $\\alpha_1<0$, y $\\alpha_2,\\alpha_3>0$. ¿Para cuales valores de $x_0$ el método de Newton converge a $\\alpha_1$?. \n"
      ]
    },
    {
      "cell_type": "markdown",
      "metadata": {
        "id": "Mpt4tZ716nNK"
      },
      "source": [
        "**Problema 5** Selecciones dos de los métodos en https://docs.scipy.org/doc/scipy-0.13.0/reference/optimize.html en la sección Root finding, diga cual es el método numerico implementado (e.g, similar a newton, usa derivadas, no usa derivadas, combina varios métodos, llama alguna otra subrutina conocida encontrada en netlib(https://www.netlib.org/), cuales son las toleracias por defecto, etc)  y para cada uno de los métodos seleccionados implementar un ejemplo numérico con una ecuación escalar o una ecuación vectorial según sea el caso. Imprima la solución calculada asi como alguna informacion adicional (residuo, cantidad de iteraciones, etc). \n",
        "\n",
        "Si usa MatLab seleccione dos de entre los métodos como fsolve, froot, fzero, roots, o similares (https://la.mathworks.com/help/optim/systems-of-nonlinear-equations.html). Análogamente para octave (https://octave.org/doc/v4.2.0/Solvers.html), julia, etc."
      ]
    },
    {
      "cell_type": "markdown",
      "source": [
        "# Solución problema 1"
      ],
      "metadata": {
        "id": "G-hFe3XmW6UH"
      }
    },
    {
      "cell_type": "markdown",
      "source": [
        "Para solucionar este caso, simplemente evaluamos la función en t=1, sabemos que s=1, entonces resolvemos el problema de raíces\n",
        "$$\n",
        "  0=\\frac{g}{2\\omega^2}[sinh(\\omega)-sin(\\omega)]-1\n",
        "$$"
      ],
      "metadata": {
        "id": "btZiHScEXD_U"
      }
    },
    {
      "cell_type": "code",
      "source": [
        "from scipy.optimize import fsolve\n",
        "import numpy as np\n",
        "g=9.8\n",
        "\n",
        "def problem1(w):\n",
        "   y = g*(np.sinh(w)-np.sin(w))/(2*w**2)-1\n",
        "   print('w={:.17f}\\t y={}'.format(w[0],y[0]))\n",
        "   return y\n",
        "\n",
        "format_string = \"{:.12f}\"\n",
        "z = fsolve(problem1,0.8, xtol=1e-12)\n",
        "print('12 decimal w=',format_string.format(z[0]))\n",
        "print('y(w)=',problem1(z)[0])"
      ],
      "metadata": {
        "id": "XntYrgdHXxjj",
        "colab": {
          "base_uri": "https://localhost:8080/"
        },
        "outputId": "7486ca0d-5fb9-4fbb-fe9b-416e44c1d0cc"
      },
      "execution_count": null,
      "outputs": [
        {
          "output_type": "stream",
          "name": "stdout",
          "text": [
            "w=0.80000000000000004\t y=0.3073038551745173\n",
            "w=0.80000000000000004\t y=0.3073038551745173\n",
            "w=0.80000000000000004\t y=0.3073038551745173\n",
            "w=0.80000001192092896\t y=0.30730387469284404\n",
            "w=0.61231242435144551\t y=0.00027765963506753977\n",
            "w=0.61214268878972988\t y=1.930360478130666e-07\n",
            "w=0.61214257070314892\t y=8.837375276016246e-14\n",
            "w=0.61214257070309486\t y=6.661338147750939e-16\n",
            "12 decimal w= 0.612142570703\n",
            "w=0.61214257070309486\t y=6.661338147750939e-16\n",
            "y(w)= 6.661338147750939e-16\n"
          ]
        }
      ]
    },
    {
      "cell_type": "markdown",
      "source": [
        "Obtenemos  $\\omega\\approx 0.612142570703$ con un residuo $\\approx 6.66\\times 10^{-16}$."
      ],
      "metadata": {
        "id": "ubRCFL_kYsGI"
      }
    },
    {
      "cell_type": "markdown",
      "source": [
        "# Solución problema 2"
      ],
      "metadata": {
        "id": "_MLZhTqzcE0W"
      }
    },
    {
      "cell_type": "markdown",
      "source": [
        "si $l_2=10$, $l_1=8$ y $\\gamma=\\frac{3\\pi}{5}$\n",
        "$$ \n",
        "\\frac{10\\cos(\\frac{2}{5}\\pi-\\alpha)}{\\sin^2(\\frac{2}{5}\\pi-\\alpha)}-\\frac{8\\cos(\\alpha)}{\\sin^2(\\alpha)}=0.\n",
        "$$\n",
        "Y\n",
        "$$\n",
        "L=\\frac{10}{\\sin(\\frac{2}{5}\\pi-\\alpha)}+\\frac{8}{\\sin(\\alpha)}\n",
        "$$"
      ],
      "metadata": {
        "id": "5RsiIYR3cZP_"
      }
    },
    {
      "cell_type": "code",
      "source": [
        "from scipy.optimize import fsolve\n",
        "import numpy as np\n",
        "\n",
        "def L(a):\n",
        "  y=10/np.sin(2*np.pi/5-a)+8/np.sin(a)\n",
        "  return y\n",
        "\n",
        "def problem2(a):\n",
        "   y = 10*np.cos(2*np.pi/5-a)/np.sin(2*np.pi/5-a)**2-8*np.cos(a)/np.sin(a)**2\n",
        "   print('a={:.17f}\\t y={}'.format(a[0],y[0]))\n",
        "   return y\n",
        "\n",
        "z = fsolve(problem2,4)[0]\n",
        "print('a=',z)\n",
        "print('L=',L(a))"
      ],
      "metadata": {
        "colab": {
          "base_uri": "https://localhost:8080/"
        },
        "id": "I20pNt4CcGL-",
        "outputId": "b91a086f-d3ed-4bb2-b3c2-2f4fd5124448"
      },
      "execution_count": null,
      "outputs": [
        {
          "output_type": "stream",
          "name": "stdout",
          "text": [
            "a=4.00000000000000000\t y=-52.1651971139244\n",
            "a=4.00000000000000000\t y=-52.1651971139244\n",
            "a=4.00000000000000000\t y=-52.1651971139244\n",
            "a=4.00000005960464478\t y=-52.16521758926377\n",
            "a=3.84814473706134086\t y=-16.757819944994623\n",
            "a=3.77627374978417807\t y=-5.618100368691696\n",
            "a=3.74002701867444642\t y=-0.31538501031633004\n",
            "a=3.73787120323039845\t y=0.0002017890380940912\n",
            "a=3.73787258167818415\t y=-9.122921440507525e-08\n",
            "a=3.73787258105526687\t y=-1.7763568394002505e-14\n",
            "a= 3.737872581055267\n",
            "L= 182.58041588523918\n"
          ]
        }
      ]
    },
    {
      "cell_type": "markdown",
      "source": [
        "garantizamos diez decimales para $\\alpha\\approx 3.7378725810$ y para $L\\approx 182.58041588$, ocho decimales por cifras significativas.\n",
        "\n"
      ],
      "metadata": {
        "id": "ufWWcFWkinwg"
      }
    },
    {
      "cell_type": "markdown",
      "source": [
        "# Solución problema 3"
      ],
      "metadata": {
        "id": "XKROvxeNjIA0"
      }
    },
    {
      "cell_type": "markdown",
      "source": [
        "Añadimos criterio de parada para nmax (número máximo de iteraciones) y para rtol. Si $|f(x_{n})-f(x_{n-1})|<rtol$, entonces también parará.  "
      ],
      "metadata": {
        "id": "IM9BbbVCjWQG"
      }
    },
    {
      "cell_type": "code",
      "source": [
        "def problem3(x,verbose=False):\n",
        "  y=x+np.exp(x)-np.sin(x)\n",
        "  if verbose:\n",
        "    print('x={:.17f}\\t y={}'.format(x,y))\n",
        "  return y\n",
        "\n",
        "def punto_fijo(f,x0,nmax,rtol=1e-12,verbose=False):\n",
        "  r=0\n",
        "  for i in range(-11,nmax+1):\n",
        "    x1=f(x0,verbose)\n",
        "    r=abs(x1-x0)\n",
        "    if(r<rtol):\n",
        "        if(verbose):\n",
        "          print('iterations=',i)\n",
        "          print('f(x)=',f(x1))\n",
        "          print('x=',x1)\n",
        "          print('r=',r)\n",
        "        return x1\n",
        "    x0=x1\n",
        "\n",
        "  if(verbose):\n",
        "    print('iterations=',i)\n",
        "    print('f(x)=',f(x0))\n",
        "    print('x=',x0)\n",
        "    print('r=',r)\n",
        "\n",
        "  return x0\n",
        "\n",
        "\n",
        "punto_fijo(problem3,-4,100,1e-16,True)\n",
        "pass"
      ],
      "metadata": {
        "colab": {
          "base_uri": "https://localhost:8080/"
        },
        "id": "ezL2dcFcidJG",
        "outputId": "3ef022ac-2bb5-4adb-e477-edc04b384b6b"
      },
      "execution_count": null,
      "outputs": [
        {
          "output_type": "stream",
          "name": "stdout",
          "text": [
            "x=-4.00000000000000000\t y=-4.738486856419194\n",
            "x=-4.73848685641919420\t y=-5.729394447160081\n",
            "x=-5.72939444716008062\t y=-6.252060669705465\n",
            "x=-6.25206066970546459\t y=-6.281253801923153\n",
            "x=-6.28125380192315319\t y=-6.281314252785754\n",
            "x=-6.28131425278575417\t y=-6.281314365998385\n",
            "x=-6.28131436599838544\t y=-6.281314366210397\n",
            "x=-6.28131436621039718\t y=-6.281314366210795\n",
            "x=-6.28131436621079509\t y=-6.281314366210796\n",
            "x=-6.28131436621079597\t y=-6.281314366210796\n",
            "iterations= -2\n",
            "f(x)= -6.281314366210796\n",
            "x= -6.281314366210796\n",
            "r= 0.0\n"
          ]
        }
      ]
    },
    {
      "cell_type": "markdown",
      "source": [
        "una raíz es $\\alpha\\approx -6.2813143662107959$."
      ],
      "metadata": {
        "id": "0hB2usgBNj_p"
      }
    },
    {
      "cell_type": "code",
      "source": [
        "a=-6.2813143662107959\n",
        "print(np.exp(a)-np.sin(a))"
      ],
      "metadata": {
        "colab": {
          "base_uri": "https://localhost:8080/"
        },
        "id": "_YL7OhsbN2Gg",
        "outputId": "2936d594-4287-40c2-f398-5467d6d7b073"
      },
      "execution_count": null,
      "outputs": [
        {
          "output_type": "stream",
          "name": "stdout",
          "text": [
            "4.861562541425002e-16\n"
          ]
        }
      ]
    },
    {
      "cell_type": "markdown",
      "source": [
        "#Solucion problema 4"
      ],
      "metadata": {
        "id": "f2rLw-orrMvQ"
      }
    },
    {
      "cell_type": "code",
      "source": [
        "p4  = lambda x: np.exp(x)-2*x**2\n",
        "pp4 = lambda x: np.exp(x)-4*x\n",
        "approx = minewton(p4,pp4,-2,1e-10,1e-10,100)"
      ],
      "metadata": {
        "colab": {
          "base_uri": "https://localhost:8080/"
        },
        "id": "9TrZCTmSrPwC",
        "outputId": "a9b11178-ff93-48d3-b6b6-e229f50b17db"
      },
      "execution_count": null,
      "outputs": [
        {
          "output_type": "stream",
          "name": "stdout",
          "text": [
            "x( 0 )= -1.033270978644354\n",
            "x( 1 )= -0.6368605427001038\n",
            "x( 2 )= -0.5451192403755529\n",
            "x( 3 )= -0.5398525697450826\n",
            "x( 4 )= -0.5398352770891413\n",
            "x( 5 )= -0.5398352769028201\n",
            "residuo f(x( 6 ))= 0.0\n"
          ]
        }
      ]
    },
    {
      "cell_type": "code",
      "source": [
        "a,b=-5,5\n",
        "x = np.arange(a, b, (b-a)/2000)\n",
        "y = np.arange(a, b, (b-a)/2000)\n",
        "for i in range(len(x)):\n",
        "  y[i]=minewton(p4,pp4,x[i],1e-10,1e-10,100,False)\n",
        "\n",
        "plt.figure(figsize=(20, 5))\n",
        "plt.plot(x, y*0, 'b--')\n",
        "plt.plot(x, y, 'r-',linewidth=2, label='Raíces')\n",
        "plt.grid(color='g', linestyle='--', linewidth=.5)\n",
        "plt.ylabel('Valor de la raíz')\n",
        "plt.xlabel('$X_0$ inicial')\n",
        "plt.xticks(np.arange(min(x), max(x)+1, 0.5))\n",
        "plt.title('Raíz vs. $X_0$ inicial')\n",
        "plt.legend()\n",
        "plt.show()"
      ],
      "metadata": {
        "colab": {
          "base_uri": "https://localhost:8080/",
          "height": 355
        },
        "id": "EXy-ikGstHw3",
        "outputId": "bfcad1f7-12eb-41f5-b1a1-21e78b7279cd"
      },
      "execution_count": null,
      "outputs": [
        {
          "output_type": "display_data",
          "data": {
            "image/png": "[encoded data removed]",
            "text/plain": [
              "<Figure size 1440x360 with 1 Axes>"
            ]
          },
          "metadata": {
            "needs_background": "light"
          }
        }
      ]
    },
    {
      "cell_type": "markdown",
      "source": [
        "En la gráfica se puede ver que valores iniciales menores a $X_0\\approx 0.4$, Newton converge a $ \\alpha_1\\approx-0.5398$. Tambien converge a esta raíz en algunos puntos cercanos a $X_0\\approx 0.7$ y $X_0\\approx 2.1$. Entre $(0.7, 2)$ converge a $ \\alpha_2\\approx1.48796$. Para valores mayores a $X_0\\approx 2.2$ y algunos valores cercanos a $X_0\\approx 0.7$ y $X_0\\approx 2$ converge a $ \\alpha_3\\approx2.61786$."
      ],
      "metadata": {
        "id": "wtZ8tY7pv7Q3"
      }
    },
    {
      "cell_type": "markdown",
      "source": [
        "# Solución problema 5"
      ],
      "metadata": {
        "id": "B1xgr1gcyAPN"
      }
    },
    {
      "cell_type": "markdown",
      "source": [
        "**scipy.optimize.broyden1**\n",
        "\n",
        "\n",
        "*   Tipo: Multivariado\n",
        "*   Método: Método de Newton inexacto. Primera aproximación del Jacobiano. \n",
        "*   Usa derivadas: Sí, el Jacobiano\n",
        "*   Combina métodos: Sí\n",
        "*   Sub rutina de netlib: No\n",
        "*   Tolerancias por defecto: `tol=None`, `ftol=None`, `fatol=1e-6`, `xtol=None`, `xatol=None`, `tol_norm=Norma Máxima`\n",
        "*   Fuente: https://docs.scipy.org/doc/scipy/reference/reference/optimize.root-broyden1.html#optimize-root-broyden1\n",
        "\n",
        "*    Formalismo: Paso semi newtoniano del inverso del Jacobiano $H$. Primera aproximación del Jacobiano $J$\n",
        "$$\n",
        "J_+=J+(df-Jdx)dx^†/dx^†dx\n",
        "$$\n",
        "\n",
        "\n"
      ],
      "metadata": {
        "id": "29tIJ8VJARmM"
      }
    },
    {
      "cell_type": "code",
      "source": [
        "from scipy import optimize\n",
        "\n",
        "def fun(x):\n",
        "    return [x[0]  + 0.5 * (x[0] - x[1])**3 - 1.0, 0.5 * (x[1] - x[0])**3 + x[1]]\n",
        "\n",
        "sol = optimize.broyden1(fun, [0, 0])\n",
        "sol"
      ],
      "metadata": {
        "colab": {
          "base_uri": "https://localhost:8080/"
        },
        "id": "jW3Trjw5Fn4S",
        "outputId": "2b23e8ee-04b1-4755-8855-752313afa7da"
      },
      "execution_count": null,
      "outputs": [
        {
          "output_type": "execute_result",
          "data": {
            "text/plain": [
              "array([0.84116396, 0.15883641])"
            ]
          },
          "metadata": {},
          "execution_count": 17
        }
      ]
    },
    {
      "cell_type": "markdown",
      "source": [
        "**scipy.optimize.toms748**\n",
        "\n",
        "\n",
        "*   Tipo: Escalar\n",
        "*   Método: Utiliza una mezcla de interpolación cúbica y pasos quasi-Newtonianos. Encuentra la raíz de una función en un intervalo $[a,b]$ donde la función debe ser continua, deribable 4 veces y además de signos contrarios en los extremos.\n",
        "*   Usa derivadas: Sí\n",
        "*   Combina métodos: Sí\n",
        "*   Sub rutina de netlib: No \n",
        "*   Tolerancias por defecto: `xtol=2e-12`, `rtol=8.881784197001252e-16`\n",
        "*   Fuente: https://docs.scipy.org/doc/scipy/reference/reference/generated/scipy.optimize.toms748.html#scipy.optimize.toms748"
      ],
      "metadata": {
        "id": "c4duUsGOFnTq"
      }
    },
    {
      "cell_type": "code",
      "source": [
        "from scipy import optimize\n",
        "\n",
        "def f(x):\n",
        "    return (x**3 - 1)\n",
        "\n",
        "root, results = optimize.toms748(f, 0, 2, full_output=True)\n",
        "print(results)"
      ],
      "metadata": {
        "colab": {
          "base_uri": "https://localhost:8080/"
        },
        "id": "L-IRolmoJVur",
        "outputId": "72b62411-6dc2-4442-eefb-400330b22b36"
      },
      "execution_count": null,
      "outputs": [
        {
          "output_type": "stream",
          "name": "stdout",
          "text": [
            "      converged: True\n",
            "           flag: 'converged'\n",
            " function_calls: 11\n",
            "     iterations: 5\n",
            "           root: 1.0\n"
          ]
        }
      ]
    }
  ]
}