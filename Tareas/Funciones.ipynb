{
  "nbformat": 4,
  "nbformat_minor": 0,
  "metadata": {
    "colab": {
      "name": "Envio ActividadFunciones.ipynb",
      "provenance": [],
      "collapsed_sections": [
        "7Ia5Gq2--A-v",
        "qxpY8hvsAMKX",
        "i7M94WA7AN26",
        "owspbUGRAPkk",
        "0shp3kKNARAX",
        "YO9azKA_ASmO"
      ]
    },
    "kernelspec": {
      "name": "python3",
      "display_name": "Python 3"
    },
    "language_info": {
      "name": "python"
    }
  },
  "cells": [
    {
      "cell_type": "markdown",
      "metadata": {
        "id": "Onn3PC8BICXL"
      },
      "source": [
        " **En los enlaces abajo se usan enlaces de wikipedia por conveniencia. La información en wikipedia debe ser manejada con cautela ya que no necesariamente ha sido verificada por pares expertos en los temas. \n",
        "En este caso el procedimiento correcto es consultar libros o artículos académicos.** \n",
        "\n",
        "*Recuerde compartir el notebook con las personas de su grupo*\n",
        "\n",
        "\n",
        "---\n",
        "\n",
        "\n",
        "\n",
        "---\n",
        "\n",
        "\n",
        "#Problemas\n",
        "Escriba funciones para \n",
        "\n",
        "1.   Dado un número entero, este sea clarificado según como : perfecto, defectivo, abundante. Use su número de identificación.*(**Opcionalmente** considere en la clasificación como semi perfecto)*. Puede consultar\n",
        " https://es.wikipedia.org/wiki/N%C3%BAmero_perfecto\n",
        "2.  Dado un número de 4 digitos, calcule cuantas iteraciones de Kaprekar toma este para llegar a la contante de  Kaprekar de cuatro dígitos : 6174. Consulte https://es.wikipedia.org/wiki/Constante_de_Kaprekar .**Opcional::¿Existe una constate de kaprekar de 5 digitos?**\n",
        "\n",
        "3. ¿Cuál es el propósito de la siguiente función?\n",
        "\n",
        "```\n",
        "def funcion5(l):\n",
        "  x = []\n",
        "  for a in l:\n",
        "    if a not in x:\n",
        "      x.append(a)\n",
        "  return x\n",
        "```\n",
        "4. \n",
        "¿Cuál es el propósito de la siguiente función?\n",
        "\n",
        "```\n",
        "vendidos = [\"Espresso\", \"Espresso\", \"Latte\",\"Cappuccino\", \"Mocha\", \"Espresso\", \"Latte\"]\n",
        "\n",
        "\n",
        "def contar_vendidos(lista, item=\"Espresso\"):\n",
        "\t   n = lista.count(item)\n",
        "\t   print(\"{} {}s vendidos.\".format(n, item))\n",
        "\n",
        "contar_vendidos(vendidos)\n",
        "```\n",
        "\n",
        "\n",
        "\n",
        "5. En internet se encuentra la función que decide primalidad \n",
        "https://www.w3resource.com/python-exercises/python-functions-exercise-9.php\n",
        " \n",
        "Análise visualmente esta función y comente sus ventajas e inconvenientes.(No es necesario hacer pruebas de tiempo o uso de memoria).\n",
        "\n",
        "6.  Escriba una función que imprima las primeras n filas del triángulo de Pascal https://es.wikipedia.org/wiki/Tri%C3%A1ngulo_de_Pascal\n",
        "\n"
      ]
    },
    {
      "cell_type": "markdown",
      "metadata": {
        "id": "xBN6N-Q_iXQC"
      },
      "source": [
        "#Soluciones"
      ]
    },
    {
      "cell_type": "markdown",
      "metadata": {
        "id": "7Ia5Gq2--A-v"
      },
      "source": [
        "# Problema 1"
      ]
    },
    {
      "cell_type": "markdown",
      "metadata": {
        "id": "_z_d0wglcFD0"
      },
      "source": [
        "Primero hacemos nuestras funciones auxiliares. Por ejemplo, una que retorne la suma de todos los divisores o una que retorna los divisores. "
      ]
    },
    {
      "cell_type": "code",
      "metadata": {
        "id": "ho-gxcM-cK7p"
      },
      "source": [
        "def sum_div(x):\n",
        "    divisores = [1]\n",
        "    for i in range(2, x):\n",
        "        if (x % i)==0:\n",
        "            divisores.append(i)\n",
        "    return sum(divisores)\n",
        "\n",
        "def div(x):\n",
        "    divisores = [1]\n",
        "    for i in range(2, x):\n",
        "        if (x % i)==0:\n",
        "            divisores.append(i)\n",
        "    return divisores\n",
        "\n",
        "def semi_perfecto(divisores, x):\n",
        "    if x == 0:\n",
        "        return True\n",
        "    if x < 0:\n",
        "        return False\n",
        "    if not divisores:\n",
        "        return False\n",
        "    \n",
        "    return semi_perfecto(divisores[1:],x-divisores[0]) or semi_perfecto(divisores[1:],x)\n",
        "\n",
        "\n"
      ],
      "execution_count": null,
      "outputs": []
    },
    {
      "cell_type": "markdown",
      "metadata": {
        "id": "lVIka1vDc6a4"
      },
      "source": [
        "Ahora la función que clasifica el número."
      ]
    },
    {
      "cell_type": "code",
      "metadata": {
        "id": "yx9l7C60cUn4"
      },
      "source": [
        "def clasificar(x):\n",
        "  if sum_div(x) == x:\n",
        "    print(x, ' es un numero perfecto.')\n",
        "  elif semi_perfecto(div(x),x):\n",
        "    print(x, ' es un numero semiperfecto.')\n",
        "  if sum_div(x) > x:\n",
        "    print(x, ' es un numero abundante.')\n",
        "  if sum_div(x) < x:\n",
        "    print(x, ' es un numero defectivo.')"
      ],
      "execution_count": null,
      "outputs": []
    },
    {
      "cell_type": "markdown",
      "metadata": {
        "id": "_F_WNSgRcyIz"
      },
      "source": [
        "Veamos algunos números."
      ]
    },
    {
      "cell_type": "code",
      "metadata": {
        "colab": {
          "base_uri": "https://localhost:8080/"
        },
        "id": "i4uWuDHqczuw",
        "outputId": "5ced39bc-47f8-4db1-d46f-00226cd1aafc"
      },
      "source": [
        "clasificar(12)\n",
        "clasificar(28)\n",
        "clasificar(24)\n",
        "clasificar(7)\n",
        "clasificar(101)"
      ],
      "execution_count": null,
      "outputs": [
        {
          "output_type": "stream",
          "name": "stdout",
          "text": [
            "12  es un numero semiperfecto.\n",
            "12  es un numero abundante.\n",
            "28  es un numero perfecto.\n",
            "24  es un numero semiperfecto.\n",
            "24  es un numero abundante.\n",
            "7  es un numero defectivo.\n",
            "101  es un numero defectivo.\n"
          ]
        }
      ]
    },
    {
      "cell_type": "markdown",
      "metadata": {
        "id": "qxpY8hvsAMKX"
      },
      "source": [
        "#Problema 2"
      ]
    },
    {
      "cell_type": "markdown",
      "metadata": {
        "id": "au6wk6HO9RBL"
      },
      "source": [
        "Primero necesitamos funciones que retornen los números con los dígitos ordenados de mayor a menor y de menor a mayor."
      ]
    },
    {
      "cell_type": "code",
      "metadata": {
        "id": "QmkDH7to9tfe"
      },
      "source": [
        "def sort_up(x,digitos):\n",
        "  n = str(x)\n",
        "  number = []\n",
        "  ref = len(n)\n",
        "  #Tener en cuenta los ceros a la izquierda\n",
        "  while(ref<digitos):\n",
        "    number.append('0')\n",
        "    ref+=1\n",
        "\n",
        "  for i in n:\n",
        "    number.append(i)\n",
        "  number = sorted(number, reverse=True)\n",
        "  return int(''.join(number))\n",
        "\n",
        "def sort_down(x,digitos):\n",
        "  n = str(x)\n",
        "  number = []\n",
        "\n",
        "  for i in n:\n",
        "    number.append(i)\n",
        "  number = sorted(number, reverse=False)\n",
        "  return int(''.join(number))\n"
      ],
      "execution_count": null,
      "outputs": []
    },
    {
      "cell_type": "markdown",
      "metadata": {
        "id": "OjPLbhms93Hi"
      },
      "source": [
        "Ahora la función que retorna el número necesario de iteraciones para converger al número de Kaprekar"
      ]
    },
    {
      "cell_type": "code",
      "metadata": {
        "id": "ynU7Dpo0-BAb"
      },
      "source": [
        "def kaprekar_iter(x):\n",
        "\n",
        "  digitos = len(str(x))\n",
        "  constantes = [[0],[]]\n",
        "  \n",
        "  if digitos == 2:\n",
        "    constantes = [[0],[9, 81, 63, 27, 45]]\n",
        "  if digitos == 3:\n",
        "    constantes = [[0,495],[]]\n",
        "  if digitos == 4:\n",
        "    constantes = [[0,6174],[]]\n",
        "  if digitos == 5:\n",
        "    constantes = [[0],[82962, 75933, 63954, 61974,74943, 62964, 71973, 83952,53955, 59994]]\n",
        "  if digitos == 6:\n",
        "    constantes = [[0,549945, 631764], [420876, 642654, 750843, 840852, 851742, 860832, 862632]]\n",
        "  if digitos == 7:\n",
        "    constantes = [[0],[7509843, 9529641, 8719722, 8649432, 7519743, 8429652, 7619733, 8439552]]\n",
        "  if digitos == 8:\n",
        "    constantes = [[0,63317664, 97508421],[64308654, 83208762, 86526432, 43208766, 85317642, 75308643, 84308652, 86308632, 86326632, 64326654]]\n",
        "  if digitos == 9:\n",
        "    constantes = [[0,864197532,554999445],[554999445, 864197532, 753098643, 762098733, 763197633, 844296552, 863098632, 865296432, \n",
        "                                           865395432, 873197622, 874197522, 883098612, 954197541, 964395531, 965296431, 976494321]]\n",
        "  if digitos == 10:\n",
        "    constantes = [[9753086421, 6333176664, 9975084201],[6431088654, 8655264432, 8732087622, 9751088421, 9755084421, 9775084221, 6543086544, 8321088762, 8765264322, 6433086654, \n",
        "                       8332087662, 8653266432, 4332087666, 6433266654, 7533086643, 8433086652, 8533176642, 8633086632, 8633266632]]\n",
        "  elif digitos > 11:\n",
        "    print('No conozco las constantes o bucles de kaprekart para '+str(digitos)+' digitos.')\n",
        "    return None\n",
        "\n",
        "  iter = 0\n",
        "  z = x\n",
        "  ref = 0\n",
        "  while((z not in constantes[0]) and (z not in constantes[1])):\n",
        "    z = sort_up(x,digitos) - sort_down(x,digitos)\n",
        "    x = z\n",
        "    iter +=1\n",
        "    if z in constantes[1]:\n",
        "      ref = 1\n",
        "\n",
        "\n",
        "  return iter, ref, x\n",
        "\n",
        "def print_kaprekar(x):\n",
        "  iter, ref, conv = kaprekar_iter(x)\n",
        "  string = ''\n",
        "  if ref == 0:\n",
        "    string = ', que es una constante.'\n",
        "  elif ref == 1:\n",
        "    string =', que es parte de un bucle.'\n",
        "  print('Numero de iteraciones para que '+str(x)+' converja a un bucle o constante es '+str(iter)+' iteraciones.')\n",
        "  print(str(x)+' converge a '+str(conv)+string)\n",
        "  print('')"
      ],
      "execution_count": null,
      "outputs": []
    },
    {
      "cell_type": "markdown",
      "metadata": {
        "id": "ytsXtuXs-E1r"
      },
      "source": [
        "Ejecutamos la función con un número ejemplo"
      ]
    },
    {
      "cell_type": "code",
      "metadata": {
        "id": "Ytkj-OO8-H4v",
        "colab": {
          "base_uri": "https://localhost:8080/"
        },
        "outputId": "a8cb0fa9-47aa-429e-d40e-8b531212991c"
      },
      "source": [
        "# Ejemplo de Wikipedia\n",
        "x = 1112\n",
        "\n",
        "print_kaprekar(x)"
      ],
      "execution_count": null,
      "outputs": [
        {
          "output_type": "stream",
          "name": "stdout",
          "text": [
            "Numero de iteraciones para que 1112 converja a un bucle o constante es 5 iteraciones.\n",
            "1112 converge a 6174, que es una constante.\n",
            "\n"
          ]
        }
      ]
    },
    {
      "cell_type": "markdown",
      "metadata": {
        "id": "GCAGMQykqG2U"
      },
      "source": [
        "Ahora es natural preguntarse. ¿Qué pasa con números de más digitos? Bueno, pasan dos cosas. Hay ciertos números que convergen a bucles y hay otros que convergen a una constante como en el caso de todos los números de 4 dígitos. La función está hecha para devolver el número de iteraciones para que números de 1 a 10 dígitos converjan. Ya sea a una constante como la de Kaprekar o a un bucle.\n",
        "\n",
        "Para el caso particular de un número de 5 digitos, el número puede converger a uno de los 3 bucles posibles. Los bucles son [82962, 75933, 63954, 61974], [74943, 62964, 71973, 83952] y [53955, 59994]. No existe una constante como con los números de 4 dígitos. \n",
        "\n",
        "Notemos que todos los números con cifras iguales, por ejemplo, 1111 convergen a 0 en un solo paso. Este programa asume que 0 es una constante de Kaprekart. \n",
        "\n",
        "A continuación se pueden ver más ejemplos con diversos números de dígitos"
      ]
    },
    {
      "cell_type": "code",
      "metadata": {
        "colab": {
          "base_uri": "https://localhost:8080/"
        },
        "id": "uuQJuQ1lC-NW",
        "outputId": "f4a48a13-f090-4375-9260-44853e1e63dd"
      },
      "source": [
        "print_kaprekar(13)\n",
        "\n",
        "print_kaprekar(223)\n",
        "\n",
        "print_kaprekar(12345)\n",
        "\n",
        "print_kaprekar(456378)\n",
        "\n",
        "print_kaprekar(12874543)\n",
        "\n",
        "print_kaprekar(1231235453)"
      ],
      "execution_count": null,
      "outputs": [
        {
          "output_type": "stream",
          "name": "stdout",
          "text": [
            "Numero de iteraciones para que 13 converja a un bucle o constante es 2 iteraciones.\n",
            "13 converge a 63, que es parte de un bucle.\n",
            "\n",
            "Numero de iteraciones para que 223 converja a un bucle o constante es 6 iteraciones.\n",
            "223 converge a 495, que es una constante.\n",
            "\n",
            "Numero de iteraciones para que 12345 converja a un bucle o constante es 2 iteraciones.\n",
            "12345 converge a 82962, que es parte de un bucle.\n",
            "\n",
            "Numero de iteraciones para que 456378 converja a un bucle o constante es 9 iteraciones.\n",
            "456378 converge a 851742, que es parte de un bucle.\n",
            "\n",
            "Numero de iteraciones para que 12874543 converja a un bucle o constante es 12 iteraciones.\n",
            "12874543 converge a 86308632, que es parte de un bucle.\n",
            "\n",
            "Numero de iteraciones para que 1231235453 converja a un bucle o constante es 3 iteraciones.\n",
            "1231235453 converge a 9753086421, que es una constante.\n",
            "\n"
          ]
        }
      ]
    },
    {
      "cell_type": "markdown",
      "metadata": {
        "id": "jTbprij2Dp8L"
      },
      "source": [
        "Es posible que falten algunos bucles o constantes para los casos de 9 y 10 dígitos. El cálculo se demoró mucho y la paré a la mitad."
      ]
    },
    {
      "cell_type": "markdown",
      "metadata": {
        "id": "i7M94WA7AN26"
      },
      "source": [
        "#Problema 3"
      ]
    },
    {
      "cell_type": "markdown",
      "metadata": {
        "id": "1Iprez6GAaWQ"
      },
      "source": [
        "La función recibe una lista y retorna una lista con los mismos elementos de la lista que recive pero sin entradas repetidas.  "
      ]
    },
    {
      "cell_type": "markdown",
      "metadata": {
        "id": "owspbUGRAPkk"
      },
      "source": [
        "#Problema 4"
      ]
    },
    {
      "cell_type": "markdown",
      "metadata": {
        "id": "PFj2_LWpBny5"
      },
      "source": [
        "La función recive una lista con los items vendidos y cuenta cuántos items del tipo que se especifique fueron vendidos. En caso de que no se especifique un item, cuenta el numero de Espressos vendidos. La función no retorna nada pero imprime a la pantalla el numero de items y el item. El formato de impresión es como se puede ver a continuación."
      ]
    },
    {
      "cell_type": "code",
      "metadata": {
        "id": "OtxYWl3ICLBw"
      },
      "source": [
        "#3 Espressos vendidos."
      ],
      "execution_count": null,
      "outputs": []
    },
    {
      "cell_type": "markdown",
      "metadata": {
        "id": "0shp3kKNARAX"
      },
      "source": [
        "#Problema 5"
      ]
    },
    {
      "cell_type": "markdown",
      "metadata": {
        "id": "GabGSaDsO-dM"
      },
      "source": [
        "La funcion en Sample Solution-1 recive un número entero y retorna un boleano. Verdadero si el número es primo y falso si no. La función prueba si el número es divisible por todos los números menores al número dado sin contar el 1. Esta función es particularmente muy ineficiente pues para números grandes debe hacer muchos cálculos innecesarios. La función en Sample Solution-2 trata de resolver este problema probando únicamente los números menores a la raíz cuadrada del número. hay un teorema que asegura que todos los divisores primos de un número son menores que la raíz cuadrada de este. Además, si ya verificó que el número no es divisible por 2 solo debe iterar sobre los números impares, reduciendo a la mitad el número de cálculos. Esta función es el algoritmo más eficiente que conozco para revisar si un número es primo o no.\n",
        "\n",
        "A continuación, reacomodo la implementación para que sean equivalentes y poder comparar resultados"
      ]
    },
    {
      "cell_type": "code",
      "metadata": {
        "colab": {
          "base_uri": "https://localhost:8080/"
        },
        "id": "VHRJx8e8ckLn",
        "outputId": "9fd510f8-7cb0-4794-bd3a-7afb6835672a"
      },
      "source": [
        "import time\n",
        "from math import sqrt\n",
        "\n",
        "def is_prime_good(num):\n",
        "  if num <= 1 or (num % 2 == 0 and num > 2): \n",
        "    return False\n",
        "  return all(num % i for i in range(3, int(sqrt(num)) + 1, 2))\n",
        "\n",
        "def is_prime_bad(n):\n",
        "    if (n<=1):\n",
        "        return False\n",
        "    return all(n % i for i in range(2,n))\n",
        "\n",
        "x = 102347689\t#primo de 9 digitos\n",
        "\n",
        "start = time.time()\n",
        "is_prime_bad(x)\n",
        "end = time.time()\n",
        "\n",
        "print('Tiempo del algoritmo malo ='+str(end - start)+' s')\n",
        "\n",
        "start = time.time()\n",
        "is_prime_good(x)\n",
        "end = time.time()\n",
        "\n",
        "print('Tiempo del algoritmo bueno ='+str(end - start)+' s')\n"
      ],
      "execution_count": null,
      "outputs": [
        {
          "output_type": "stream",
          "name": "stdout",
          "text": [
            "Tiempo del algoritmo malo =10.092947244644165 s\n",
            "Tiempo del algoritmo bueno =0.0005333423614501953 s\n"
          ]
        }
      ]
    },
    {
      "cell_type": "markdown",
      "metadata": {
        "id": "YO9azKA_ASmO"
      },
      "source": [
        "#Problema 6"
      ]
    },
    {
      "cell_type": "markdown",
      "metadata": {
        "id": "dL29lNOYBntb"
      },
      "source": [
        "Lo primero, es hacer la función que calcula el triángulo de Pascal. La función elegida es recursiva. Entonces usamos caché para que el programa recuerde el resultado de las últimas 100 llamadas. Haciendo esto, la complejidad baja de O(exp(N)) a O(N). Esto es una forma tramposa de utilizar el paradigma de la programación dinámica, que es muy útil para este tipo de problemas. "
      ]
    },
    {
      "cell_type": "code",
      "metadata": {
        "id": "nxZaY7pTA0bQ"
      },
      "source": [
        "from functools import lru_cache\n",
        " \n",
        "@lru_cache(maxsize=100)\n",
        "def combinatoria(n, k):\n",
        "    if k in (0, n):\n",
        "        return 1\n",
        "    return combinatoria(n-1, k-1) + combinatoria(n-1, k)\n",
        "\n",
        "def pascal(n):\n",
        "  linea = []\n",
        "  pascal = []\n",
        "  for fila in range(n):\n",
        "    for k in range(fila + 1):\n",
        "        linea.append(combinatoria(fila,k))\n",
        "    pascal.append(linea)\n",
        "    linea = []\n",
        "  print_pascal(pascal)\n",
        "\n",
        "def print_pascal(pascal):\n",
        "  max = len(' '.join(map(str,pascal[-1])))\n",
        "  for p in pascal:\n",
        "    print(' '.join(map(str,p)).center(max)+'\\n')\n",
        "  "
      ],
      "execution_count": null,
      "outputs": []
    },
    {
      "cell_type": "markdown",
      "metadata": {
        "id": "hcFyWpGaCRVI"
      },
      "source": [
        "Ahora, imprimamos un triángulo."
      ]
    },
    {
      "cell_type": "code",
      "metadata": {
        "id": "j2rf59mU-C2B",
        "colab": {
          "base_uri": "https://localhost:8080/"
        },
        "outputId": "b4c6e80b-755d-41e0-8d78-569a5241a5c6"
      },
      "source": [
        "pascal(15)"
      ],
      "execution_count": null,
      "outputs": [
        {
          "output_type": "stream",
          "name": "stdout",
          "text": [
            "                            1                             \n",
            "\n",
            "                           1 1                            \n",
            "\n",
            "                          1 2 1                           \n",
            "\n",
            "                         1 3 3 1                          \n",
            "\n",
            "                        1 4 6 4 1                         \n",
            "\n",
            "                      1 5 10 10 5 1                       \n",
            "\n",
            "                     1 6 15 20 15 6 1                     \n",
            "\n",
            "                   1 7 21 35 35 21 7 1                    \n",
            "\n",
            "                  1 8 28 56 70 56 28 8 1                  \n",
            "\n",
            "               1 9 36 84 126 126 84 36 9 1                \n",
            "\n",
            "           1 10 45 120 210 252 210 120 45 10 1            \n",
            "\n",
            "         1 11 55 165 330 462 462 330 165 55 11 1          \n",
            "\n",
            "       1 12 66 220 495 792 924 792 495 220 66 12 1        \n",
            "\n",
            "   1 13 78 286 715 1287 1716 1716 1287 715 286 78 13 1    \n",
            "\n",
            "1 14 91 364 1001 2002 3003 3432 3003 2002 1001 364 91 14 1\n",
            "\n"
          ]
        }
      ]
    }
  ]
}