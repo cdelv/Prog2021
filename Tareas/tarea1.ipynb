{
  "nbformat": 4,
  "nbformat_minor": 0,
  "metadata": {
    "colab": {
      "name": "Copia de Carlos Andres Del Valle Urberuaga - ActividadadICCyP1.ipynb",
      "provenance": []
    },
    "kernelspec": {
      "name": "python3",
      "display_name": "Python 3"
    },
    "language_info": {
      "name": "python"
    }
  },
  "cells": [
    {
      "cell_type": "markdown",
      "metadata": {
        "id": "0LUW1JM73Byi"
      },
      "source": [
        "# Problemas"
      ]
    },
    {
      "cell_type": "markdown",
      "metadata": {
        "id": "4U4Xp4D63PQt"
      },
      "source": [
        "## Problema 1 ($\\leq $ 30 pts)\n",
        "Inspeccionando las gráficas de las funciones mencionadas en el intervalo dado, clasificarlas según sean crecientes, estrictamente crecientes, decrecientes, estrictamente decrecientes o ninguna de las anteriores en el intervalo dado. Consulte las definiciones en su libro de cálculo favorito o en internet. \n",
        "\n",
        "1.   $x^4-2x^3$ en $[0,\\frac{3}{2}]$\n",
        "2.   $\\log(x)$ en $[1,100]$ (log es logaritmo natural)\n",
        "3.   $\\frac{\\log(x)}{x}$ en $[1,100]$.\n",
        "4.   $\\exp(\\sin(x)+\\cos(x))$ en $[0,\\frac{1}{2}]$ . Recuerde que por defecto las funciones trigonométricas tiene su artumento en radianes. \n",
        "5.   $\\frac{1}{\\sqrt{x}}$ en $[0.0001,1]$\n"
      ]
    },
    {
      "cell_type": "markdown",
      "metadata": {
        "id": "HgCGXnVb5vuR"
      },
      "source": [
        "## Problema 2 ($\\leq $ 10 pts)\n",
        "Para cada una de las siguientes funciones encuentre intervalos, lo mayor posible, en donde la función es creciente y decreciente. \n",
        "\n",
        "1. $x^4-x^2$\n",
        "2. $\\exp(\\sin(x))$"
      ]
    },
    {
      "cell_type": "markdown",
      "metadata": {
        "id": "36cp65DH7jIv"
      },
      "source": [
        "# Problema 3 ($\\leq$ 60 pts)  \n",
        "**Nota** (Datos reales $\\leq$ 60 pts, ficticios $\\leq$ 30 pts).\n",
        "\n",
        "Consulte diferentes formas de presentar datos en\n",
        " \n",
        "https://colab.research.google.com/notebooks/charts.ipynb#scrollTo=DrRCtocXe9SB\n",
        " \n",
        "Seleccione algún conjunto de datos reales (preferiblemente locales) o ficticios y haga alguna visualización de los mismos, agregando algunos comentarios que se puedan deducir directamente de las gráficas mostradas.  Considere el ejemplo en las próximas dos celdas para leer un archivo .xls de su drive de google. Siga el enlace que aparece y copie la clave de texto en el campo de texto que aparece al ejecutar el código de la primera celda. Puede usar otros formatos o formas de importar datos. Consultar en internet. \n",
        " \n",
        "Con datos reales = 60%\n",
        "Datos ficticios = 30%\n"
      ]
    },
    {
      "cell_type": "code",
      "metadata": {
        "colab": {
          "base_uri": "https://localhost:8080/"
        },
        "id": "rZQvTVS89Eha",
        "outputId": "2362da44-220c-4081-dd89-56ceb1f4579c"
      },
      "source": [
        "from google.colab import drive\n",
        "from google.colab import files\n",
        "from xlrd import open_workbook\n",
        "import numpy as np\n",
        "import matplotlib.pyplot as plt\n",
        "drive.mount('/gdrive', force_remount=True)"
      ],
      "execution_count": null,
      "outputs": [
        {
          "output_type": "stream",
          "name": "stdout",
          "text": [
            "Mounted at /gdrive\n"
          ]
        }
      ]
    },
    {
      "cell_type": "code",
      "metadata": {
        "colab": {
          "base_uri": "https://localhost:8080/",
          "height": 283
        },
        "id": "-ztt09dr_kYz",
        "outputId": "6a3f8a0e-b34b-4476-b348-fab19b1924c7"
      },
      "source": [
        "dataFileName = 'ejemplodatos.xls'\n",
        "dataFilePath = '/gdrive/MyDrive/Classroom/ICC/Datos/'+dataFileName\n",
        "book = open_workbook(dataFilePath)\n",
        "sheet = book.sheet_by_index(0)\n",
        "y = np.asarray(sheet.col_values(2,6,69))\n",
        "x = np.asarray(sheet.col_values(1,6,69))\n",
        "plt.plot(x,y)"
      ],
      "execution_count": null,
      "outputs": [
        {
          "output_type": "execute_result",
          "data": {
            "text/plain": [
              "[<matplotlib.lines.Line2D at 0x7efe8c650e90>]"
            ]
          },
          "metadata": {},
          "execution_count": 11
        },
        {
          "output_type": "display_data",
          "data": {
            "image/png": "[encoded data removed]",
            "text/plain": [
              "<Figure size 432x288 with 1 Axes>"
            ]
          },
          "metadata": {
            "needs_background": "light"
          }
        }
      ]
    },
    {
      "cell_type": "markdown",
      "metadata": {
        "id": "Ap_xoqH83Jfp"
      },
      "source": [
        "# Soluciones\n",
        " \n",
        "\n",
        " \n",
        " \n"
      ]
    },
    {
      "cell_type": "markdown",
      "metadata": {
        "id": "gR58odR-8ztQ"
      },
      "source": [
        "# Soluciones: Problema 1\n",
        " \n",
        "\n",
        " \n",
        " \n"
      ]
    },
    {
      "cell_type": "markdown",
      "metadata": {
        "id": "c1CiDoH76ya0"
      },
      "source": [
        "Importar los módulos necesarios para El programa"
      ]
    },
    {
      "cell_type": "code",
      "metadata": {
        "id": "evTw-kiB60tw"
      },
      "source": [
        "import numpy as np \n",
        "import matplotlib.pyplot as plt\n",
        "import math"
      ],
      "execution_count": null,
      "outputs": []
    },
    {
      "cell_type": "markdown",
      "metadata": {
        "id": "UDx0eyRz68q0"
      },
      "source": [
        "Definición de las funciones a graficar"
      ]
    },
    {
      "cell_type": "code",
      "metadata": {
        "id": "JJFQYjMB7C3y"
      },
      "source": [
        "def f1(x):\n",
        "  return x**4-2*x**3\n",
        "\n",
        "def f2(x):\n",
        "  return math.log(x)\n",
        "\n",
        "def f3(x):\n",
        "  return math.log(x)/x\n",
        "\n",
        "def f4(x):\n",
        "  return math.exp(math.sin(x)+math.cos(x))\n",
        "\n",
        "def f5(x):\n",
        "  return 1/math.sqrt(x)"
      ],
      "execution_count": null,
      "outputs": []
    },
    {
      "cell_type": "markdown",
      "metadata": {
        "id": "dhkUxxKu7Iau"
      },
      "source": [
        "Arrays para imprimir"
      ]
    },
    {
      "cell_type": "code",
      "metadata": {
        "id": "2MeicEPg7QW8"
      },
      "source": [
        "x1 = np.linspace(0,3/2,30)\n",
        "y1 = list(map(f1, x1))\n",
        "\n",
        "x2 = np.linspace(1,100,30)\n",
        "y2 = list(map(f2, x2))\n",
        "\n",
        "x3 = np.linspace(1,100,30)\n",
        "y3 = list(map(f3, x3))\n",
        "\n",
        "x4 = np.linspace(0,1/2,30)\n",
        "y4 = list(map(f4, x4))\n",
        "\n",
        "x5 = np.linspace(0.0001,1,30)\n",
        "y5 = list(map(f5, x5))"
      ],
      "execution_count": null,
      "outputs": []
    },
    {
      "cell_type": "markdown",
      "metadata": {
        "id": "CvDI4bJA7RSD"
      },
      "source": [
        "Hacer las graficas"
      ]
    },
    {
      "cell_type": "code",
      "metadata": {
        "id": "LIZUzXBb7gER",
        "colab": {
          "base_uri": "https://localhost:8080/",
          "height": 297
        },
        "outputId": "a872cc4f-b294-4a8a-dd52-b14ce68d341d"
      },
      "source": [
        "fig, axs = plt.subplots(2, 3)\n",
        "axs[0, 0].plot(x1, y1)\n",
        "axs[0, 0].set_title(r'$f(x)=x^4-2x^3$')\n",
        "axs[0, 1].plot(x2, y2, 'tab:orange')\n",
        "axs[0, 1].set_title(r'$f(x)=log(x)$')\n",
        "axs[0, 2].plot(x3, y3, 'tab:green')\n",
        "axs[0, 2].set_title(r'$f(x)=\\frac{log(x)}{x}$')\n",
        "axs[1, 0].plot(x4, y4, 'tab:red')\n",
        "axs[1, 0].set_title(r'$f(x)=\\exp(\\sin(x)+\\cos(x))$')\n",
        "axs[1, 1].plot(x5, y5, 'tab:pink')\n",
        "axs[1, 1].set_title(r'$f(x)=\\frac{1}{\\sqrt{x}}$')\n",
        "axs[1, 2].axis('off')\n",
        "fig.tight_layout()"
      ],
      "execution_count": null,
      "outputs": [
        {
          "output_type": "display_data",
          "data": {
            "image/png": "[encoded data removed]",
            "text/plain": [
              "<Figure size 432x288 with 6 Axes>"
            ]
          },
          "metadata": {
            "needs_background": "light"
          }
        }
      ]
    },
    {
      "cell_type": "markdown",
      "metadata": {
        "id": "biKExQe-h620"
      },
      "source": [
        "\n",
        "\n",
        "*   La función $x^4-2x^3$ es decreciente en el intervalo $[0,3/2]$\n",
        "*   La función $log(x)$ es extrictamente creciente en el intervalo $[1,100]$\n",
        "*   La función $\\frac{log(x)}{x}$ es no es ni creciente ni decreciente en el intervalo $[1,100]$\n",
        "*   La función $exp(sin(x)+cos(x))$ es extrictamente creciente en el intervalo $[0,1/2]$\n",
        "*   La función $\\frac{1}{\\sqrt{x}}$ es extrictamente decreciente en el intervalo $[0.0001,1]$\n",
        "\n"
      ]
    },
    {
      "cell_type": "markdown",
      "metadata": {
        "id": "wRA04YBj9BFk"
      },
      "source": [
        "# Soluciones: Problema 2"
      ]
    },
    {
      "cell_type": "markdown",
      "metadata": {
        "id": "LTohRTQf9JCE"
      },
      "source": [
        "Importar modulos necesarios"
      ]
    },
    {
      "cell_type": "code",
      "metadata": {
        "id": "zbg_OKFZ9_zq"
      },
      "source": [
        "import numpy as np \n",
        "import matplotlib.pyplot as plt\n",
        "import math"
      ],
      "execution_count": null,
      "outputs": []
    },
    {
      "cell_type": "markdown",
      "metadata": {
        "id": "D00h2WD3-CbQ"
      },
      "source": [
        "Definir funciones a graficar"
      ]
    },
    {
      "cell_type": "code",
      "metadata": {
        "id": "JnLo6Ud1-FxI"
      },
      "source": [
        "def f6(x):\n",
        "  return x**4-x**2\n",
        "\n",
        "def f7(x):\n",
        "  return math.exp(math.sin(x))"
      ],
      "execution_count": null,
      "outputs": []
    },
    {
      "cell_type": "markdown",
      "metadata": {
        "id": "xtZpPSYQ-WRy"
      },
      "source": [
        "Arrays para imprimir"
      ]
    },
    {
      "cell_type": "code",
      "metadata": {
        "id": "QnrtRA5p-W9u"
      },
      "source": [
        "#Intervalos crecientes\n",
        "x6 = np.linspace(0.707,100,30)\n",
        "y6 = list(map(f6, x6))\n",
        "\n",
        "x7 = np.linspace(-1.56,1.57,30)\n",
        "y7 = list(map(f7, x7))\n",
        "\n",
        "#intervalos decrecientes\n",
        "x8 = np.linspace(-100,-0.707,30)\n",
        "y8 = list(map(f6, x8))\n",
        "\n",
        "x9 = np.linspace(1.57,4.71,30)\n",
        "y9 = list(map(f7, x9))"
      ],
      "execution_count": null,
      "outputs": []
    },
    {
      "cell_type": "markdown",
      "metadata": {
        "id": "iOcEOaP0-g6l"
      },
      "source": [
        "Hacer las graficas "
      ]
    },
    {
      "cell_type": "code",
      "metadata": {
        "colab": {
          "base_uri": "https://localhost:8080/",
          "height": 297
        },
        "id": "UJ6KguKE-oes",
        "outputId": "fb9645af-1388-49df-bcfa-0922effe2dc8"
      },
      "source": [
        "fig, axs = plt.subplots(2, 2)\n",
        "axs[0,0].plot(x6, y6)\n",
        "axs[0,0].set_title(r'$f(x)=x^4-x^2$ creciente')\n",
        "axs[0,1].plot(x7, y7, 'tab:orange')\n",
        "axs[0,1].set_title(r'$f(x)=exp(sin(x))$ creciente')\n",
        "axs[1,0].plot(x8, y8)\n",
        "axs[1,0].set_title(r'$f(x)=x^4-x^2$ decreciente')\n",
        "axs[1,1].plot(x9, y9, 'tab:orange')\n",
        "axs[1,1].set_title(r'$f(x)=exp(sin(x))$ decreciente')\n",
        "fig.tight_layout()"
      ],
      "execution_count": null,
      "outputs": [
        {
          "output_type": "display_data",
          "data": {
            "image/png": "[encoded data removed]",
            "text/plain": [
              "<Figure size 432x288 with 4 Axes>"
            ]
          },
          "metadata": {
            "needs_background": "light"
          }
        }
      ]
    },
    {
      "cell_type": "markdown",
      "metadata": {
        "id": "CP_Gc2PoFdOF"
      },
      "source": [
        "\n",
        "\n",
        "*   La función $x^4-x^2$ es extrictamente decreciente en el intervalo $[-\\infty,-0.707]$ y extrictamente creciente en el intervalo $[0.707,\\infty]$, aproximadamente. \n",
        "*   la función $e^{sin(x)}$ es creciente en el intervalo $[-1.56,1.57]$ y decreciente en el intervalo $[1.57,4.71]$, aproximadamente.\n",
        "\n"
      ]
    },
    {
      "cell_type": "markdown",
      "metadata": {
        "id": "kHzhnSaw9CXc"
      },
      "source": [
        "# Soluciones: Problema 3"
      ]
    },
    {
      "cell_type": "markdown",
      "metadata": {
        "id": "XWpsDAz3jH3E"
      },
      "source": [
        "Importar modulos necesarios"
      ]
    },
    {
      "cell_type": "code",
      "metadata": {
        "id": "EFLKiqphjKHN"
      },
      "source": [
        "from google.colab import drive\n",
        "from google.colab import files\n",
        "from xlrd import open_workbook\n",
        "import numpy as np \n",
        "import matplotlib.pyplot as plt\n",
        "import math\n",
        "from io import StringIO\n"
      ],
      "execution_count": null,
      "outputs": []
    },
    {
      "cell_type": "markdown",
      "metadata": {
        "id": "cD68o88ojP7j"
      },
      "source": [
        "Cargar datos de los archivos"
      ]
    },
    {
      "cell_type": "code",
      "metadata": {
        "id": "YTRqYBsBjcnv"
      },
      "source": [
        "data = np.loadtxt('data.txt', skiprows=1, delimiter=',')"
      ],
      "execution_count": null,
      "outputs": []
    },
    {
      "cell_type": "markdown",
      "metadata": {
        "id": "_hFx3O1glaIz"
      },
      "source": [
        "Hacer la gráfica de los datos"
      ]
    },
    {
      "cell_type": "code",
      "metadata": {
        "colab": {
          "base_uri": "https://localhost:8080/",
          "height": 312
        },
        "id": "Piaq60l1lmPi",
        "outputId": "ee502d4d-0ae4-4c45-89a3-c28583587f32"
      },
      "source": [
        "plt.plot(data[:,0],data[:,1])\n",
        "plt.xlabel('Tiempo (min)')\n",
        "plt.ylabel('Longitud de la interfase (mm)')\n",
        "plt.title('Longitud de la interfase contra el tiempo')"
      ],
      "execution_count": null,
      "outputs": [
        {
          "output_type": "execute_result",
          "data": {
            "text/plain": [
              "Text(0.5, 1.0, 'Longitud de la interfase contra el tiempo')"
            ]
          },
          "metadata": {},
          "execution_count": 12
        },
        {
          "output_type": "display_data",
          "data": {
            "image/png": "[encoded data removed]",
            "text/plain": [
              "<Figure size 432x288 with 1 Axes>"
            ]
          },
          "metadata": {
            "needs_background": "light"
          }
        }
      ]
    },
    {
      "cell_type": "markdown",
      "metadata": {
        "id": "IsyrakWDmpZS"
      },
      "source": [
        "Esta gráfica es la longitud de la interfase entre hielo y agua contra el tiempo. Para tomar los datos se colocó la frontera inferior del dominio a una temperatura fija de -10 grados centígrados y el resto del agua a 10 grados. A medida que pasa el tiempo el agua empieza a congelarse. La grafica mide de alguna manera que tan rápido se congela el agua. Según la solución analítica del problema de Stefan el comportamiento debe ser como el de una raíz cuadrada. De modo que la gráfica es extrictamente creciente hasta que al hielo se le acabe el espacio para crecer. Estos datos son de una de las simulaciones hechas para la simulación del brinicle en el programa de Beyond Research. "
      ]
    }
  ]
}