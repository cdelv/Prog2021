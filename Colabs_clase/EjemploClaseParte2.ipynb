{
  "nbformat": 4,
  "nbformat_minor": 0,
  "metadata": {
    "colab": {
      "name": "EjemploClaseParte2.ipynb",
      "provenance": []
    },
    "kernelspec": {
      "name": "python3",
      "display_name": "Python 3"
    },
    "language_info": {
      "name": "python"
    }
  },
  "cells": [
    {
      "cell_type": "code",
      "metadata": {
        "colab": {
          "base_uri": "https://localhost:8080/"
        },
        "id": "3LSRJ_RQ9Xn_",
        "outputId": "ab411fb3-c006-4858-b389-9ffad6b20593"
      },
      "source": [
        "def mcd(m,n):\n",
        "    while m%n != 0:\n",
        "        manterior = m\n",
        "        nanterior = n\n",
        "        m = nanterior\n",
        "        n = manterior%nanterior\n",
        "    return n\n",
        "mcd(30,10)"
      ],
      "execution_count": null,
      "outputs": [
        {
          "output_type": "execute_result",
          "data": {
            "text/plain": [
              "10"
            ]
          },
          "metadata": {},
          "execution_count": 2
        }
      ]
    },
    {
      "cell_type": "code",
      "metadata": {
        "id": "n_tJoKmjo7CK"
      },
      "source": [
        "class fraccion(object):\n",
        "  def __init__(self,x,y):\n",
        "    self.__numerador=x\n",
        "    self.__denominador=y\n",
        "    if (y==0):\n",
        "      print('Error')\n",
        "      raise 'Error'\n",
        "  def __str__(self):  \n",
        "    return str(self.__numerador)+'/'+str(self.__denominador)\n",
        "  def __repr__(self):  \n",
        "    return str(self.__numerador)+'/'+str(self.__denominador)\n",
        "  def recuperarNumerador(self):\n",
        "    return self.__numerador\n",
        "  def recuperarDenominador(self):\n",
        "    return self.__denominador\n",
        "  def actualizarNumerador(self,valor):\n",
        "    self.__numerador=valor\n",
        "  def actualizarDenominador(self,valor):\n",
        "    self.__denominador=valor\n",
        "  def __neg__(self):\n",
        "    return fraccion(-self.recuperarNumerador(),self.recuperarDenominador())\n",
        "  def __add__(self,g):\n",
        "    resultado_num=self.__numerador*g.recuperarDenominador()+\\\n",
        "                  self.__denominador*g.recuperarNumerador()\n",
        "    resultado_den=self.__denominador*g.recuperarDenominador()\n",
        "    return fraccion(resultado_num,resultado_den)\n",
        "  def simplificar(self):\n",
        "    c= mcd(self.__numerador,self.__denominador)\n",
        "    self.__numerador=self.__numerador//c\n",
        "    self.__denominador=self.__denominador//c\n",
        "  "
      ],
      "execution_count": null,
      "outputs": []
    },
    {
      "cell_type": "code",
      "metadata": {
        "colab": {
          "base_uri": "https://localhost:8080/"
        },
        "id": "0U2_gPU9o8wt",
        "outputId": "415afdb4-e55e-4df1-ef89-7689be557b46"
      },
      "source": [
        "print(fraccion(2,6))\n",
        "-fraccion(2,3)\n",
        "a=fraccion(1,7)\n",
        "b=-a\n",
        "print(b)\n",
        "print(a)"
      ],
      "execution_count": null,
      "outputs": [
        {
          "output_type": "stream",
          "name": "stdout",
          "text": [
            "2/6\n",
            "-1/7\n",
            "1/7\n"
          ]
        }
      ]
    },
    {
      "cell_type": "code",
      "metadata": {
        "id": "ONpyMEXQ-imK",
        "colab": {
          "base_uri": "https://localhost:8080/"
        },
        "outputId": "cf0509f8-f5ac-4539-b920-619c6032a02d"
      },
      "source": [
        "q=fraccion(6,18)\n",
        "print(q)\n",
        "q.simplificar()\n",
        "print(q)"
      ],
      "execution_count": null,
      "outputs": [
        {
          "output_type": "stream",
          "name": "stdout",
          "text": [
            "6/18\n",
            "1/3\n"
          ]
        }
      ]
    },
    {
      "cell_type": "code",
      "metadata": {
        "id": "SbRIS6yeqWcP",
        "colab": {
          "base_uri": "https://localhost:8080/"
        },
        "outputId": "9356e841-7d67-4325-a34e-9ab0ca80cb90"
      },
      "source": [
        "f=fraccion(1,3)\n",
        "print('Cada persona toma',f,' de pizza.')\n",
        "f.recuperarDenominador()"
      ],
      "execution_count": null,
      "outputs": [
        {
          "output_type": "stream",
          "name": "stdout",
          "text": [
            "Cada persona toma 1/3  de pizza.\n"
          ]
        },
        {
          "output_type": "execute_result",
          "data": {
            "text/plain": [
              "3"
            ]
          },
          "metadata": {},
          "execution_count": 6
        }
      ]
    },
    {
      "cell_type": "code",
      "metadata": {
        "id": "yD5bNtGDsFUV",
        "colab": {
          "base_uri": "https://localhost:8080/"
        },
        "outputId": "49e0ff2a-74ad-4e64-8e28-2ad753e9e513"
      },
      "source": [
        "f1=fraccion(12,4)\n",
        "f2=fraccion(7,3)\n",
        "p=f2+f1\n",
        "print('Antes de simplificar : ',p)\n",
        "p.simplificar()\n",
        "print('El resultado de sumar',f1,'+',f2, 'es', p)\n"
      ],
      "execution_count": null,
      "outputs": [
        {
          "output_type": "stream",
          "name": "stdout",
          "text": [
            "Antes de simplificar :  64/12\n",
            "El resultado de sumar 12/4 + 7/3 es 16/3\n"
          ]
        }
      ]
    },
    {
      "cell_type": "code",
      "metadata": {
        "id": "g7Vx4YyoG35V"
      },
      "source": [
        "class ExplodedStr(str):\n",
        "  def __init__(self,value=''):\n",
        "    str.__init__(value)\n",
        "\n",
        "  def exploded(self):\n",
        "    if len(self)==0:\n",
        "      return self\n",
        "    else:\n",
        "      empy=''\n",
        "      blank=' '\n",
        "      temp=empy\n",
        "      for k in range(0,len(self)-1):\n",
        "        temp=temp+self[k]+blank\n",
        "      temp=temp+self[len(self)-1]\n",
        "      return temp"
      ],
      "execution_count": null,
      "outputs": []
    },
    {
      "cell_type": "code",
      "metadata": {
        "id": "_KMRJtHPIxS3",
        "colab": {
          "base_uri": "https://localhost:8080/"
        },
        "outputId": "6627efb8-d225-48e7-e6ea-13150417b95a"
      },
      "source": [
        "x=ExplodedStr('Universidad Nacional')\n",
        "print(x.exploded())"
      ],
      "execution_count": null,
      "outputs": [
        {
          "output_type": "stream",
          "name": "stdout",
          "text": [
            "U n i v e r s i d a d   N a c i o n a l\n"
          ]
        }
      ]
    },
    {
      "cell_type": "code",
      "metadata": {
        "id": "i2Ke_5VkLtme"
      },
      "source": [
        "class fraccionmixta(fraccion):\n",
        "  \n",
        "  def __init__(self,*args):\n",
        "    if len(args)==2:\n",
        "      self.__entero=0\n",
        "      fraccion.__init__(self,args[0],args[1])\n",
        "    elif len(args)==3:\n",
        "      self.__entero=args[0]\n",
        "      fraccion.__init__(self,args[1],args[2])\n",
        "    else:\n",
        "      raise TypeError('Numero de argumentos no adecuado')\n",
        "\n",
        "  def reducir(self):\n",
        "    entero=self.__entero\n",
        "    num=self.recuperarNumerador()\n",
        "    den=self.recuperarDenominador()\n",
        "\n",
        "    entero2=num//den;\n",
        "    num=num%den;\n",
        "    self.__entero=entero+entero2\n",
        "    self.actualizarNumerador(num)\n",
        "    self.actualizarDenominador(den)\n",
        "    self.simplificar()\n",
        "\n",
        "  def __str__(self):\n",
        "    self.reducir()\n",
        "    return str(self.__entero)+' '+str(self.recuperarNumerador())+'/'+str(self.recuperarDenominador())\n"
      ],
      "execution_count": null,
      "outputs": []
    },
    {
      "cell_type": "code",
      "metadata": {
        "id": "rpuUnzORN1Vd",
        "colab": {
          "base_uri": "https://localhost:8080/"
        },
        "outputId": "5ea83d29-c9f2-41b6-927d-9143aa0b6c63"
      },
      "source": [
        "f=fraccionmixta(2,4,3)\n",
        "print(f)"
      ],
      "execution_count": null,
      "outputs": [
        {
          "output_type": "stream",
          "name": "stdout",
          "text": [
            "3 1/3\n"
          ]
        }
      ]
    },
    {
      "cell_type": "code",
      "metadata": {
        "id": "91EcpZKdG-xA"
      },
      "source": [
        "import math\n"
      ],
      "execution_count": null,
      "outputs": []
    },
    {
      "cell_type": "code",
      "metadata": {
        "id": "S7uivYMzF6LS"
      },
      "source": [
        "class Forma:\n",
        "  def __init__(self,x,y,nombre):\n",
        "    self.__x=x\n",
        "    self.__y=y\n",
        "    self.__nombre=nombre\n",
        "  def getPos(self):\n",
        "    return (self.__x,self.__y)\n",
        "  def setPos(self,x,y):\n",
        "    self.__x=x\n",
        "    self.__y=y\n",
        "  def area(self):\n",
        "    raise NotImplementedError(\"Método área no implentado en Forma \")\n",
        "  def __str__(self):\n",
        "    return str(self.__nombre)\n"
      ],
      "execution_count": null,
      "outputs": []
    },
    {
      "cell_type": "code",
      "metadata": {
        "id": "bYY40Rs9Gkbs"
      },
      "source": [
        "class Circulo(Forma):\n",
        "  def __init__(self,x,y,r):\n",
        "    Forma.__init__(self,x,y,'Círculo')\n",
        "    self.__radio=r \n",
        "  def area(self):\n",
        "    return math.pi*self.__radio**2\n",
        "#  def setPos(self,x,y):\n",
        "#    print('Subclase')\n",
        "#    self.__x=x\n",
        "#    self.__y=y\n"
      ],
      "execution_count": null,
      "outputs": []
    },
    {
      "cell_type": "code",
      "metadata": {
        "id": "JUgdQyZ1HGnX"
      },
      "source": [
        "class Cuadrado(Forma):\n",
        "  def __init__(self,x,y,l):\n",
        "    Forma.__init__(self,x,y,'Cuadrado')\n",
        "    self.__lado=l \n",
        "  def area(self):\n",
        "    return self.__lado**2"
      ],
      "execution_count": null,
      "outputs": []
    },
    {
      "cell_type": "code",
      "metadata": {
        "id": "BO02yCKuHieP"
      },
      "source": [
        "class Triangulo(Forma):\n",
        "  def __init__(self,x,y,l):\n",
        "    Forma.__init__(self,x,y,'Triángulo')\n",
        "    self.__lado=l\n",
        "  def area(self):\n",
        "    return (self.__lado**2)*math.sqrt(3)/4.0"
      ],
      "execution_count": null,
      "outputs": []
    },
    {
      "cell_type": "code",
      "metadata": {
        "id": "WW994aVZIwfQ"
      },
      "source": [
        "X=Circulo(0,0,1)\n",
        "Y=Cuadrado(-1,1,2)\n",
        "Z=Triangulo(0,1,3)"
      ],
      "execution_count": null,
      "outputs": []
    },
    {
      "cell_type": "code",
      "metadata": {
        "colab": {
          "base_uri": "https://localhost:8080/"
        },
        "id": "eyrGkWmGJTIw",
        "outputId": "ec93ef4f-9e0e-4f75-c6c7-2e9f46db2875"
      },
      "source": [
        "print(X.getPos())\n",
        "print(Y.getPos())"
      ],
      "execution_count": null,
      "outputs": [
        {
          "output_type": "stream",
          "name": "stdout",
          "text": [
            "(0, 0)\n",
            "(-1, 1)\n"
          ]
        }
      ]
    },
    {
      "cell_type": "code",
      "metadata": {
        "id": "rYTOUsSZJh1M"
      },
      "source": [
        "ListaFormas=[X,Y,Z]"
      ],
      "execution_count": null,
      "outputs": []
    },
    {
      "cell_type": "code",
      "metadata": {
        "colab": {
          "base_uri": "https://localhost:8080/"
        },
        "id": "VrtU4fOjJn2z",
        "outputId": "525676e9-3ea1-4a8c-a8c8-d11efff15a60"
      },
      "source": [
        "sumaA=0\n",
        "for fig in ListaFormas:\n",
        "  Area=fig.area()\n",
        "  sumaA=sumaA+Area\n",
        "  print('El area del ',fig,' es {0:.3f} '.format(Area) )\n",
        "print('El area total es {0:.3f}'.format(sumaA))"
      ],
      "execution_count": null,
      "outputs": [
        {
          "output_type": "stream",
          "name": "stdout",
          "text": [
            "El area del  Círculo  es 3.142 \n",
            "El area del  Cuadrado  es 4.000 \n",
            "El area del  Triángulo  es 3.897 \n",
            "El area total es 11.039\n"
          ]
        }
      ]
    },
    {
      "cell_type": "code",
      "metadata": {
        "id": "byYFGUekdNaJ"
      },
      "source": [
        "class milista(list):\n",
        "  def __init__(self,value):\n",
        "    list.__init__(self,value)\n",
        "    # En tu caso falto self como argumento de list.__init__\n"
      ],
      "execution_count": null,
      "outputs": []
    },
    {
      "cell_type": "code",
      "metadata": {
        "colab": {
          "base_uri": "https://localhost:8080/"
        },
        "id": "sqaIWJ-YdY7H",
        "outputId": "fa505096-6fa0-459f-db4b-68b5f9593481"
      },
      "source": [
        "x=milista([1,3])\n",
        "x[0]"
      ],
      "execution_count": null,
      "outputs": [
        {
          "output_type": "execute_result",
          "data": {
            "text/plain": [
              "1"
            ]
          },
          "metadata": {},
          "execution_count": 68
        }
      ]
    }
  ]
}